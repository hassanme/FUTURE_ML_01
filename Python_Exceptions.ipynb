{
  "nbformat": 4,
  "nbformat_minor": 0,
  "metadata": {
    "colab": {
      "provenance": [],
      "gpuType": "T4",
      "authorship_tag": "ABX9TyORNmy4sGh+Kd0Xggr0KlDE",
      "include_colab_link": true
    },
    "kernelspec": {
      "name": "python3",
      "display_name": "Python 3"
    },
    "language_info": {
      "name": "python"
    },
    "accelerator": "GPU"
  },
  "cells": [
    {
      "cell_type": "markdown",
      "metadata": {
        "id": "view-in-github",
        "colab_type": "text"
      },
      "source": [
        "<a href=\"https://colab.research.google.com/github/hassanme/FUTURE_ML_01/blob/main/Python_Exceptions.ipynb\" target=\"_parent\"><img src=\"https://colab.research.google.com/assets/colab-badge.svg\" alt=\"Open In Colab\"/></a>"
      ]
    },
    {
      "cell_type": "markdown",
      "source": [
        "## _Python Exceptions.ipynb_"
      ],
      "metadata": {
        "id": "99SSwyciMWNZ"
      }
    },
    {
      "cell_type": "markdown",
      "source": [
        "## Learning agenda of this notebook\n",
        "1. What are syntax errors?\n",
        "2. What are exceptions?\n",
        "3. How to handle exceptions?\n",
        "4. Types of exceptions in Python\n",
        "5. Multiple `except` clauses\n",
        "6. Python `else` clause and `finally` keyword\n",
        "7. Python `raise` keyword to raise an Exception\n",
        "8. Python `assert` keyword as a sanity check"
      ],
      "metadata": {
        "id": "TtZE3J0vMZcN"
      }
    },
    {
      "cell_type": "markdown",
      "source": [
        "## 1. What are Syntax Errors??\n",
        "- **Syntax Errors or Parsing Errors:** are errors that are raised before the program/script actually starts its execution. Some common parsing errors in Python are: incorrect indentation, leaving out a symbol (e.g., collon or bracket), empty block."
      ],
      "metadata": {
        "id": "jKdvscjbMpgm"
      }
    },
    {
      "cell_type": "code",
      "execution_count": 1,
      "metadata": {
        "colab": {
          "base_uri": "https://localhost:8080/",
          "height": 106
        },
        "id": "_v_QEsYHL1pq",
        "outputId": "19ae7175-9c27-4128-c2a4-98d7d052ede2"
      },
      "outputs": [
        {
          "output_type": "error",
          "ename": "SyntaxError",
          "evalue": "unmatched ')' (<ipython-input-1-99ef6c58f4b5>, line 2)",
          "traceback": [
            "\u001b[0;36m  File \u001b[0;32m\"<ipython-input-1-99ef6c58f4b5>\"\u001b[0;36m, line \u001b[0;32m2\u001b[0m\n\u001b[0;31m    print(1/0))\u001b[0m\n\u001b[0m              ^\u001b[0m\n\u001b[0;31mSyntaxError\u001b[0m\u001b[0;31m:\u001b[0m unmatched ')'\n"
          ]
        }
      ],
      "source": [
        "# Example 1: An example of syntax Error (An unmatched bracket)\n",
        "print(1/0))"
      ]
    },
    {
      "cell_type": "markdown",
      "source": [
        "# **Note that in case of a syntax error in your program, none of the statement is executed**"
      ],
      "metadata": {
        "id": "S-vOdLg1NFzQ"
      }
    },
    {
      "cell_type": "code",
      "source": [
        "# Example 2: An example of syntax Error (Incorrect Indentation)\n",
        "1/0               # note this error is not raised\n",
        "print('This will not be printed')\n",
        "if True:\n",
        "print(\"Hello\")"
      ],
      "metadata": {
        "colab": {
          "base_uri": "https://localhost:8080/",
          "height": 106
        },
        "id": "Kk7W57ESM5VY",
        "outputId": "2f650f91-3497-4ffd-c752-4fcebad4d674"
      },
      "execution_count": 2,
      "outputs": [
        {
          "output_type": "error",
          "ename": "IndentationError",
          "evalue": "expected an indented block after 'if' statement on line 4 (<ipython-input-2-39357dd2a0ba>, line 5)",
          "traceback": [
            "\u001b[0;36m  File \u001b[0;32m\"<ipython-input-2-39357dd2a0ba>\"\u001b[0;36m, line \u001b[0;32m5\u001b[0m\n\u001b[0;31m    print(\"Hello\")\u001b[0m\n\u001b[0m    ^\u001b[0m\n\u001b[0;31mIndentationError\u001b[0m\u001b[0;31m:\u001b[0m expected an indented block after 'if' statement on line 4\n"
          ]
        }
      ]
    },
    {
      "cell_type": "markdown",
      "source": [
        "## 2. What are Exceptions?\n",
        "- **Exceptions:** An exception is an error that happens during the execution of a syntactically correct program, (e.g., division by zero), that disrupts the normal flow of program execution. When an exception occurs, Python generates an appropriate exception object (representing error)"
      ],
      "metadata": {
        "id": "LdoRlg-aNk4H"
      }
    },
    {
      "cell_type": "code",
      "source": [
        "# Example 1: ZeroDivisionError is an exception that is raised when you perform a division by zero.\n",
        "print(1/0)"
      ],
      "metadata": {
        "colab": {
          "base_uri": "https://localhost:8080/",
          "height": 158
        },
        "id": "vETaeQlrNhPw",
        "outputId": "e85f9ede-f1bc-443b-aea6-be475dc4e3d1"
      },
      "execution_count": 3,
      "outputs": [
        {
          "output_type": "error",
          "ename": "ZeroDivisionError",
          "evalue": "division by zero",
          "traceback": [
            "\u001b[0;31m---------------------------------------------------------------------------\u001b[0m",
            "\u001b[0;31mZeroDivisionError\u001b[0m                         Traceback (most recent call last)",
            "\u001b[0;32m<ipython-input-3-44896799ef02>\u001b[0m in \u001b[0;36m<cell line: 2>\u001b[0;34m()\u001b[0m\n\u001b[1;32m      1\u001b[0m \u001b[0;31m# Example 1: ZeroDivisionError is an exception that is raised when you perform a division by zero.\u001b[0m\u001b[0;34m\u001b[0m\u001b[0;34m\u001b[0m\u001b[0m\n\u001b[0;32m----> 2\u001b[0;31m \u001b[0mprint\u001b[0m\u001b[0;34m(\u001b[0m\u001b[0;36m1\u001b[0m\u001b[0;34m/\u001b[0m\u001b[0;36m0\u001b[0m\u001b[0;34m)\u001b[0m\u001b[0;34m\u001b[0m\u001b[0;34m\u001b[0m\u001b[0m\n\u001b[0m",
            "\u001b[0;31mZeroDivisionError\u001b[0m: division by zero"
          ]
        }
      ]
    },
    {
      "cell_type": "code",
      "source": [
        "# Example 2: IndexError is an exception that is raised when trying to access a list index out of range\n",
        "mylist = [5, 33, 21]\n",
        "print(mylist[8])"
      ],
      "metadata": {
        "colab": {
          "base_uri": "https://localhost:8080/",
          "height": 176
        },
        "id": "5uua6VSuOOyz",
        "outputId": "279f7b8a-b500-41c6-f5da-b16de82e7969"
      },
      "execution_count": 4,
      "outputs": [
        {
          "output_type": "error",
          "ename": "IndexError",
          "evalue": "list index out of range",
          "traceback": [
            "\u001b[0;31m---------------------------------------------------------------------------\u001b[0m",
            "\u001b[0;31mIndexError\u001b[0m                                Traceback (most recent call last)",
            "\u001b[0;32m<ipython-input-4-6f9e862e169f>\u001b[0m in \u001b[0;36m<cell line: 3>\u001b[0;34m()\u001b[0m\n\u001b[1;32m      1\u001b[0m \u001b[0;31m# Example 2: IndexError is an exception that is raised when trying to access a list index out of range\u001b[0m\u001b[0;34m\u001b[0m\u001b[0;34m\u001b[0m\u001b[0m\n\u001b[1;32m      2\u001b[0m \u001b[0mmylist\u001b[0m \u001b[0;34m=\u001b[0m \u001b[0;34m[\u001b[0m\u001b[0;36m5\u001b[0m\u001b[0;34m,\u001b[0m \u001b[0;36m33\u001b[0m\u001b[0;34m,\u001b[0m \u001b[0;36m21\u001b[0m\u001b[0;34m]\u001b[0m\u001b[0;34m\u001b[0m\u001b[0;34m\u001b[0m\u001b[0m\n\u001b[0;32m----> 3\u001b[0;31m \u001b[0mprint\u001b[0m\u001b[0;34m(\u001b[0m\u001b[0mmylist\u001b[0m\u001b[0;34m[\u001b[0m\u001b[0;36m8\u001b[0m\u001b[0;34m]\u001b[0m\u001b[0;34m)\u001b[0m\u001b[0;34m\u001b[0m\u001b[0;34m\u001b[0m\u001b[0m\n\u001b[0m",
            "\u001b[0;31mIndexError\u001b[0m: list index out of range"
          ]
        }
      ]
    },
    {
      "cell_type": "markdown",
      "source": [
        "**Let us suppose we have written a program that prompts the user to enter temperature in Farhenheit and converts it into Celsius and it is working perfectly fine**"
      ],
      "metadata": {
        "id": "JxFZlHT2PAM5"
      }
    },
    {
      "cell_type": "code",
      "source": [
        "# Example 3: A program that prompts the user to enter temperature in Farhenheit and converts it into Celsius\n",
        "# Seems to work perfectly fine\n",
        "\n",
        "far = float(input(\"Enter Fahrenheit Temprature: \"))\n",
        "cel = (far - 32.0) * 5.0/9.0\n",
        "print (cel)"
      ],
      "metadata": {
        "colab": {
          "base_uri": "https://localhost:8080/",
          "height": 228
        },
        "id": "oVo_kxKoO5eN",
        "outputId": "bc893c10-3f51-48fa-8194-dd2f14b102ec"
      },
      "execution_count": 6,
      "outputs": [
        {
          "name": "stdout",
          "output_type": "stream",
          "text": [
            "Enter Fahrenheit Temprature: abc\n"
          ]
        },
        {
          "output_type": "error",
          "ename": "ValueError",
          "evalue": "could not convert string to float: 'abc'",
          "traceback": [
            "\u001b[0;31m---------------------------------------------------------------------------\u001b[0m",
            "\u001b[0;31mValueError\u001b[0m                                Traceback (most recent call last)",
            "\u001b[0;32m<ipython-input-6-cc784ca8f179>\u001b[0m in \u001b[0;36m<cell line: 4>\u001b[0;34m()\u001b[0m\n\u001b[1;32m      2\u001b[0m \u001b[0;31m# Seems to work perfectly fine\u001b[0m\u001b[0;34m\u001b[0m\u001b[0;34m\u001b[0m\u001b[0m\n\u001b[1;32m      3\u001b[0m \u001b[0;34m\u001b[0m\u001b[0m\n\u001b[0;32m----> 4\u001b[0;31m \u001b[0mfar\u001b[0m \u001b[0;34m=\u001b[0m \u001b[0mfloat\u001b[0m\u001b[0;34m(\u001b[0m\u001b[0minput\u001b[0m\u001b[0;34m(\u001b[0m\u001b[0;34m\"Enter Fahrenheit Temprature: \"\u001b[0m\u001b[0;34m)\u001b[0m\u001b[0;34m)\u001b[0m\u001b[0;34m\u001b[0m\u001b[0;34m\u001b[0m\u001b[0m\n\u001b[0m\u001b[1;32m      5\u001b[0m \u001b[0mcel\u001b[0m \u001b[0;34m=\u001b[0m \u001b[0;34m(\u001b[0m\u001b[0mfar\u001b[0m \u001b[0;34m-\u001b[0m \u001b[0;36m32.0\u001b[0m\u001b[0;34m)\u001b[0m \u001b[0;34m*\u001b[0m \u001b[0;36m5.0\u001b[0m\u001b[0;34m/\u001b[0m\u001b[0;36m9.0\u001b[0m\u001b[0;34m\u001b[0m\u001b[0;34m\u001b[0m\u001b[0m\n\u001b[1;32m      6\u001b[0m \u001b[0mprint\u001b[0m \u001b[0;34m(\u001b[0m\u001b[0mcel\u001b[0m\u001b[0;34m)\u001b[0m\u001b[0;34m\u001b[0m\u001b[0;34m\u001b[0m\u001b[0m\n",
            "\u001b[0;31mValueError\u001b[0m: could not convert string to float: 'abc'"
          ]
        }
      ]
    },
    {
      "cell_type": "markdown",
      "source": [
        "**What happens if a user enter a string instead of a number**"
      ],
      "metadata": {
        "id": "1G5qpeQ4PYNP"
      }
    },
    {
      "cell_type": "markdown",
      "source": [
        "## 3. How to Handle Exceptions?\n",
        "<img align=\"center\" width=\"600\" height=\"800\"  src=\"https://github.com/arifpucit/data-science/blob/master/Section-2-Basics-of-Python-Programming/Lec-2.13-Exception-Handling/images/exceptions1.png?raw=1\" >\n",
        "\n",
        "- In Python **try** and **except** keywords are used to catch and handle exceptions respectively.\n",
        "- Instructions that can raise exceptions are kept inside the `try block` and the instructions that handle the exception are written inside `except block`.\n",
        "- The code inside the `except block` will execute only in case, when the program encounters some error in the preceding `try block`.\n",
        "- Let us handle the exception `ValueError` that is raised in above program"
      ],
      "metadata": {
        "id": "xwKwzyG6PaOi"
      }
    },
    {
      "cell_type": "code",
      "source": [
        "# Example 1: Handle ValueError (if the user inputs a string instead of number)\n",
        "try:\n",
        "    far = float(input(\"Enter Fahrenheit Temprature: \"))\n",
        "    cel = (far - 32.0) * 5.0/9.0\n",
        "    print (cel)\n",
        "\n",
        "# This block will exectue the program without any crash\n",
        "except:\n",
        "    print(\"An error occurred\")\n",
        "\n",
        "print(\"GR8 going\")"
      ],
      "metadata": {
        "colab": {
          "base_uri": "https://localhost:8080/"
        },
        "id": "X1DTSaG-PT_g",
        "outputId": "4b60a302-eb2a-42a2-f436-91cdaeeb15d8"
      },
      "execution_count": 7,
      "outputs": [
        {
          "output_type": "stream",
          "name": "stdout",
          "text": [
            "Enter Fahrenheit Temprature: abc\n",
            "An error occurred\n",
            "GR8 going\n"
          ]
        }
      ]
    },
    {
      "cell_type": "code",
      "source": [
        "# Example 2: Three errors are there in the try block: ZeroDivisionError, NameError, and TypeError\n",
        "# A try clause is executed up until the point, where the first exception is encountered\n",
        "try:\n",
        "#    z = 45 / 0\n",
        "   # print(z)\n",
        "    a = 34 + 'hello'\n",
        "\n",
        "# This block will exectue the program without any crash\n",
        "except:\n",
        "    print(\"An error occurred\")"
      ],
      "metadata": {
        "colab": {
          "base_uri": "https://localhost:8080/"
        },
        "id": "OUt9-YEyPIJ0",
        "outputId": "9efb904e-4e39-4a3b-b2b1-825df233f5cd"
      },
      "execution_count": 8,
      "outputs": [
        {
          "output_type": "stream",
          "name": "stdout",
          "text": [
            "An error occurred\n"
          ]
        }
      ]
    },
    {
      "cell_type": "code",
      "source": [
        "# Example 2: Three errors are there in the try block: ZeroDivisionError, NameError, and TypeError\n",
        "# A try clause is executed up until the point, where the first exception is encountered\n",
        "try:\n",
        "   z = 45 / 0\n",
        "   # print(z)\n",
        "    #a = 34 + 'hello'\n",
        "\n",
        "# This block will exectue the program without any crash\n",
        "except:\n",
        "    print(\"An error occurred\")"
      ],
      "metadata": {
        "colab": {
          "base_uri": "https://localhost:8080/"
        },
        "id": "NkLlwFTCRRrr",
        "outputId": "0d01cd12-a1df-4e66-8b63-164de21be086"
      },
      "execution_count": 9,
      "outputs": [
        {
          "output_type": "stream",
          "name": "stdout",
          "text": [
            "An error occurred\n"
          ]
        }
      ]
    },
    {
      "cell_type": "code",
      "source": [
        "# Example 2: Three errors are there in the try block: ZeroDivisionError, NameError, and TypeError\n",
        "# A try clause is executed up until the point, where the first exception is encountered\n",
        "try:\n",
        "    #z = 45 / 0\n",
        "   # print(z)\n",
        "   a = 34 + 45\n",
        "   print(a)\n",
        "\n",
        "# This block will exectue the program without any crash\n",
        "except:\n",
        "    print(\"An error occurred\")"
      ],
      "metadata": {
        "colab": {
          "base_uri": "https://localhost:8080/"
        },
        "id": "_V0IiWRqRV6Y",
        "outputId": "e4d0e291-94ba-4646-dc3d-11aeb569e774"
      },
      "execution_count": 13,
      "outputs": [
        {
          "output_type": "stream",
          "name": "stdout",
          "text": [
            "79\n"
          ]
        }
      ]
    },
    {
      "cell_type": "markdown",
      "source": [
        "## 4. Types of Exceptions in Python\n",
        "- There are several built-in exceptions in Python that are raised when an error occur. Some common examples of Python built-in exceptions are:\n",
        "   - **ZeroDivisionError** is raised when you perform a division by zero.\n",
        "   - **ValueError** is raised when a function or built-in operation receives an argument that has the right type but an inappropriate value.\n",
        "   - **NameError** is raised when the Python interpreter encounters a symbol that does not exist.\n",
        "   - **TypeError** is raised when you try performing an operation on unsupported types (e.g., 5 + 'hello').\n",
        "   - **IndexError** is raised when you try to refer a sequence which is out of range.\n",
        "   - **IOError** is raised when an IO operation fails, e.g.,  trying to open a file that do not exist.\n",
        "   - **EOFError** is raised when built-in function like input() hits an end of file condition, without reading any data.\n",
        "   - **ImportError** is raised when an import statement fails to find the module.\n",
        "   - **AssertionError** is raised when an assert statement fails (an assert statement allows you to create simple debug message outputs based on simple logical assertions).\n",
        ">- When an exception occurs the appropriate Exception class object is sent to the `except` clause, that we can receive as an argument.        ```except Exception as e: ```\n",
        ">- The Exception class object received contains additional information about the raised exception, so as to handle it accordingly."
      ],
      "metadata": {
        "id": "PE6n-xZlRrh6"
      }
    },
    {
      "cell_type": "code",
      "source": [
        "# Example code that specifies the type of exception raised\n",
        "try:\n",
        "   #z = 45 / 0\n",
        "  # print(z)\n",
        "   a = 34 + 'hello'\n",
        "\n",
        "\n",
        "except Exception as e:\n",
        "    print(\"Exception occured: \", e)"
      ],
      "metadata": {
        "colab": {
          "base_uri": "https://localhost:8080/"
        },
        "id": "3y_KFdemRiP6",
        "outputId": "3785924e-84b4-4974-db7d-ff431feeaf83"
      },
      "execution_count": 14,
      "outputs": [
        {
          "output_type": "stream",
          "name": "stdout",
          "text": [
            "Exception occured:  unsupported operand type(s) for +: 'int' and 'str'\n"
          ]
        }
      ]
    },
    {
      "cell_type": "markdown",
      "source": [
        "## 5. Multiple `except` Clauses\n",
        "- Inside a try block, there may be different exceptions that can be raised.\n",
        "- Being a programmer we would like to write different handlers for different exceptions.\n",
        "- To handle this, we can have multiple except blocks for one try block.\n",
        "- The except block corresponding to the first raised exception will be executed.\n",
        "- Note: In Python there is no concept of default catch block as in C++"
      ],
      "metadata": {
        "id": "qF7y-knLTFmz"
      }
    },
    {
      "cell_type": "code",
      "source": [
        "try:\n",
        "   # z = 45 / 0\n",
        "    #print(z)\n",
        "    #a = 34 + 'hello'\n",
        "    #list1 = [1, 5, 9]\n",
        "    #print(list1[3])\n",
        "    import kakamanna             #ModuleNotFounderror\n",
        "except ZeroDivisionError:\n",
        "    print(\"ZeroDivisionError Occurred and Handled\")\n",
        "except NameError:\n",
        "    print(\"NameError Occurred and Handled\")\n",
        "except TypeError:\n",
        "    print(\"TypeError Occurred and Handled\")\n",
        "except IndexError:\n",
        "    print(\"IndexError Occurred and Handled\")\n",
        "except ModuleNotFoundError:\n",
        "    print(\"ModuleNotFoundError Occurred and Handled\")"
      ],
      "metadata": {
        "colab": {
          "base_uri": "https://localhost:8080/"
        },
        "id": "GW_dGsb-TA77",
        "outputId": "9cf57a37-fbe5-4a7e-ff44-2341f09dd640"
      },
      "execution_count": 15,
      "outputs": [
        {
          "output_type": "stream",
          "name": "stdout",
          "text": [
            "ModuleNotFoundError Occurred and Handled\n"
          ]
        }
      ]
    },
    {
      "cell_type": "markdown",
      "source": [
        "## 6. Python `try-except` with `else` Clause and `finally` Keyword\n",
        "<img align=\"center\" width=\"400\" height=\"600\"  src=\"https://github.com/arifpucit/data-science/blob/master/Section-2-Basics-of-Python-Programming/Lec-2.13-Exception-Handling/images/exceptions2.png?raw=1\" >"
      ],
      "metadata": {
        "id": "zjIJUWuNTMzi"
      }
    },
    {
      "cell_type": "markdown",
      "source": [
        "### a. The  `else` Clause\n",
        "- The **`else clause`** is used if you want to execute a piece of code that should execute when no exception is raised.\n",
        "- The **`else clause`** in the try-except block must be placed after all the except clauses.\n",
        "- The code enters the else block only if the try clause does not raise an exception."
      ],
      "metadata": {
        "id": "LeKY3m-3TiSA"
      }
    },
    {
      "cell_type": "code",
      "source": [
        "try:\n",
        "    list1 = [1, 5, 9]\n",
        "    print(\"List Elements are: \", list1)\n",
        "    5/0\n",
        "\n",
        "except ZeroDivisionError:\n",
        "    print(\"ZeroDivisionError Occurred and Handled\")\n",
        "except NameError:\n",
        "    print(\"NameError Occurred and Handled\")\n",
        "except TypeError:\n",
        "    print(\"TypeError Occurred and Handled\")\n",
        "except IndexError:\n",
        "    print(\"IndexError Occurred and Handled\")\n",
        "else:\n",
        "    print(\"This will execute if try clause does not raise an exception\")"
      ],
      "metadata": {
        "colab": {
          "base_uri": "https://localhost:8080/"
        },
        "id": "ckCLlXZNTI0e",
        "outputId": "c01f372b-e0f1-476a-81a1-2b2b5037c028"
      },
      "execution_count": 16,
      "outputs": [
        {
          "output_type": "stream",
          "name": "stdout",
          "text": [
            "List Elements are:  [1, 5, 9]\n",
            "ZeroDivisionError Occurred and Handled\n"
          ]
        }
      ]
    },
    {
      "cell_type": "markdown",
      "source": [
        "### b. The `finally` Keyword\n",
        "- The **`finally clause`** is used to execute a piece of code that must execute, whether the `try-block` raise an exception or not.\n",
        "- The **`finally clause`** in the `try-except` block must be placed after all the `except` clauses, even after the `else` clause.\n",
        "- Used to define clean-up actions that must be executed under all circumstances."
      ],
      "metadata": {
        "id": "jP9PtTxlUHJl"
      }
    },
    {
      "cell_type": "code",
      "source": [
        "try:\n",
        "    list1 = [1, 5, 9]\n",
        "    print(\"List Elements are: \", list1)\n",
        "    5/0\n",
        "\n",
        "except ZeroDivisionError:\n",
        "    print(\"ZeroDivisionError Occurred and Handled\")\n",
        "except NameError:\n",
        "    print(\"NameError Occurred and Handled\")\n",
        "except TypeError:\n",
        "    print(\"TypeError Occurred and Handled\")\n",
        "except IndexError:\n",
        "    print(\"IndexError Occurred and Handled\")\n",
        "else:\n",
        "    print(\"This will execute if try clause does not raise an exception\")\n",
        "finally:\n",
        "    print(\"This will always be executed\")"
      ],
      "metadata": {
        "colab": {
          "base_uri": "https://localhost:8080/"
        },
        "id": "ifByrz9NUIEl",
        "outputId": "3a647158-5baa-4a6f-86ba-797e4fffee86"
      },
      "execution_count": 17,
      "outputs": [
        {
          "output_type": "stream",
          "name": "stdout",
          "text": [
            "List Elements are:  [1, 5, 9]\n",
            "ZeroDivisionError Occurred and Handled\n",
            "This will always be executed\n"
          ]
        }
      ]
    },
    {
      "cell_type": "markdown",
      "source": [
        "## 7. Python `raise` Keword to Raise an Exception\n",
        "- The Python `raise` keyword is used to raise an exception.\n",
        "- You can define what kind of exception to raise, and the text to print to the user."
      ],
      "metadata": {
        "id": "AKE95fTmVAkZ"
      }
    },
    {
      "cell_type": "code",
      "source": [
        "# Example 1: Raise an exception if x is negative and display an appropriate message to user as to what went wrong\n",
        "age = -1\n",
        "#age = 5\n",
        "if age < 0:\n",
        "    raise Exception(\"x should not be negative. The value of age was {}\".format(age))\n",
        "print(\"Program continues as age is positive\")"
      ],
      "metadata": {
        "colab": {
          "base_uri": "https://localhost:8080/",
          "height": 193
        },
        "id": "WIw-HWGLUIkf",
        "outputId": "d1a432a8-9b97-41eb-866d-9eef0eb275e8"
      },
      "execution_count": 18,
      "outputs": [
        {
          "output_type": "error",
          "ename": "Exception",
          "evalue": "x should not be negative. The value of age was -1",
          "traceback": [
            "\u001b[0;31m---------------------------------------------------------------------------\u001b[0m",
            "\u001b[0;31mException\u001b[0m                                 Traceback (most recent call last)",
            "\u001b[0;32m<ipython-input-18-fb7267151854>\u001b[0m in \u001b[0;36m<cell line: 4>\u001b[0;34m()\u001b[0m\n\u001b[1;32m      3\u001b[0m \u001b[0;31m#age = 5\u001b[0m\u001b[0;34m\u001b[0m\u001b[0;34m\u001b[0m\u001b[0m\n\u001b[1;32m      4\u001b[0m \u001b[0;32mif\u001b[0m \u001b[0mage\u001b[0m \u001b[0;34m<\u001b[0m \u001b[0;36m0\u001b[0m\u001b[0;34m:\u001b[0m\u001b[0;34m\u001b[0m\u001b[0;34m\u001b[0m\u001b[0m\n\u001b[0;32m----> 5\u001b[0;31m     \u001b[0;32mraise\u001b[0m \u001b[0mException\u001b[0m\u001b[0;34m(\u001b[0m\u001b[0;34m\"x should not be negative. The value of age was {}\"\u001b[0m\u001b[0;34m.\u001b[0m\u001b[0mformat\u001b[0m\u001b[0;34m(\u001b[0m\u001b[0mage\u001b[0m\u001b[0;34m)\u001b[0m\u001b[0;34m)\u001b[0m\u001b[0;34m\u001b[0m\u001b[0;34m\u001b[0m\u001b[0m\n\u001b[0m\u001b[1;32m      6\u001b[0m \u001b[0mprint\u001b[0m\u001b[0;34m(\u001b[0m\u001b[0;34m\"Program continues as age is positive\"\u001b[0m\u001b[0;34m)\u001b[0m\u001b[0;34m\u001b[0m\u001b[0;34m\u001b[0m\u001b[0m\n",
            "\u001b[0;31mException\u001b[0m: x should not be negative. The value of age was -1"
          ]
        }
      ]
    },
    {
      "cell_type": "code",
      "source": [
        "#Example 2: Raise an exception if x is not a number and display an appropriate message\n",
        "x = \"hello\"\n",
        "#x = 5\n",
        "if not type(x) is int:\n",
        "  raise TypeError(\"Only integers are allowed\")\n",
        "print(\"Program continues as x is a number\")"
      ],
      "metadata": {
        "colab": {
          "base_uri": "https://localhost:8080/",
          "height": 193
        },
        "id": "bl6FN8F-UInr",
        "outputId": "408eb19d-bbed-4f33-c3b8-ce5e9f200f6f"
      },
      "execution_count": 19,
      "outputs": [
        {
          "output_type": "error",
          "ename": "TypeError",
          "evalue": "Only integers are allowed",
          "traceback": [
            "\u001b[0;31m---------------------------------------------------------------------------\u001b[0m",
            "\u001b[0;31mTypeError\u001b[0m                                 Traceback (most recent call last)",
            "\u001b[0;32m<ipython-input-19-7eb03f0823ff>\u001b[0m in \u001b[0;36m<cell line: 4>\u001b[0;34m()\u001b[0m\n\u001b[1;32m      3\u001b[0m \u001b[0;31m#x = 5\u001b[0m\u001b[0;34m\u001b[0m\u001b[0;34m\u001b[0m\u001b[0m\n\u001b[1;32m      4\u001b[0m \u001b[0;32mif\u001b[0m \u001b[0;32mnot\u001b[0m \u001b[0mtype\u001b[0m\u001b[0;34m(\u001b[0m\u001b[0mx\u001b[0m\u001b[0;34m)\u001b[0m \u001b[0;32mis\u001b[0m \u001b[0mint\u001b[0m\u001b[0;34m:\u001b[0m\u001b[0;34m\u001b[0m\u001b[0;34m\u001b[0m\u001b[0m\n\u001b[0;32m----> 5\u001b[0;31m   \u001b[0;32mraise\u001b[0m \u001b[0mTypeError\u001b[0m\u001b[0;34m(\u001b[0m\u001b[0;34m\"Only integers are allowed\"\u001b[0m\u001b[0;34m)\u001b[0m\u001b[0;34m\u001b[0m\u001b[0;34m\u001b[0m\u001b[0m\n\u001b[0m\u001b[1;32m      6\u001b[0m \u001b[0mprint\u001b[0m\u001b[0;34m(\u001b[0m\u001b[0;34m\"Program continues as x is a number\"\u001b[0m\u001b[0;34m)\u001b[0m\u001b[0;34m\u001b[0m\u001b[0;34m\u001b[0m\u001b[0m\n",
            "\u001b[0;31mTypeError\u001b[0m: Only integers are allowed"
          ]
        }
      ]
    },
    {
      "cell_type": "markdown",
      "source": [
        "## 8. Python `assert` Keyword\n",
        "- Instead for waiting for our program to crash midway, right in the beginning of our program we can check the conditions using the `assert` statement.\n",
        "- An `assert` statement is passed two comma separated arguments, the first is a condition, which if evaluates to False, the exception `AssertionError` is raised and the second argument is passed to it.\n",
        "- If the condition evaluates to True, program continues its execution.\n",
        "- You can think of `assert` statement as:\n",
        ">- testing an expression, and if the result is false, raise an exception (AssertionError).\n",
        ">- a sanity-check that you can turn on, or turn off when you are done with your testing of the program."
      ],
      "metadata": {
        "id": "32GDJgHEVWRb"
      }
    },
    {
      "cell_type": "code",
      "source": [
        "# Example 1:\n",
        "age = -1\n",
        "#age = 5\n",
        "assert age > 0 , 'age should be positive'\n",
        "print(\"Program continues as age is positive\")"
      ],
      "metadata": {
        "colab": {
          "base_uri": "https://localhost:8080/",
          "height": 193
        },
        "id": "dqYvVuXjVQA2",
        "outputId": "c769663f-320b-42ab-e6f5-d2fb1599d575"
      },
      "execution_count": 20,
      "outputs": [
        {
          "output_type": "error",
          "ename": "AssertionError",
          "evalue": "age should be positive",
          "traceback": [
            "\u001b[0;31m---------------------------------------------------------------------------\u001b[0m",
            "\u001b[0;31mAssertionError\u001b[0m                            Traceback (most recent call last)",
            "\u001b[0;32m<ipython-input-20-dc8c10691e67>\u001b[0m in \u001b[0;36m<cell line: 4>\u001b[0;34m()\u001b[0m\n\u001b[1;32m      2\u001b[0m \u001b[0mage\u001b[0m \u001b[0;34m=\u001b[0m \u001b[0;34m-\u001b[0m\u001b[0;36m1\u001b[0m\u001b[0;34m\u001b[0m\u001b[0;34m\u001b[0m\u001b[0m\n\u001b[1;32m      3\u001b[0m \u001b[0;31m#age = 5\u001b[0m\u001b[0;34m\u001b[0m\u001b[0;34m\u001b[0m\u001b[0m\n\u001b[0;32m----> 4\u001b[0;31m \u001b[0;32massert\u001b[0m \u001b[0mage\u001b[0m \u001b[0;34m>\u001b[0m \u001b[0;36m0\u001b[0m \u001b[0;34m,\u001b[0m \u001b[0;34m'age should be positive'\u001b[0m\u001b[0;34m\u001b[0m\u001b[0;34m\u001b[0m\u001b[0m\n\u001b[0m\u001b[1;32m      5\u001b[0m \u001b[0mprint\u001b[0m\u001b[0;34m(\u001b[0m\u001b[0;34m\"Program continues as age is positive\"\u001b[0m\u001b[0;34m)\u001b[0m\u001b[0;34m\u001b[0m\u001b[0;34m\u001b[0m\u001b[0m\n",
            "\u001b[0;31mAssertionError\u001b[0m: age should be positive"
          ]
        }
      ]
    },
    {
      "cell_type": "code",
      "source": [
        "#Example 2:\n",
        "#x = \"hello\"\n",
        "x = 5\n",
        "assert type(x) is int, 'x must be integer'\n",
        "print(\"Program continues as x is a number\")"
      ],
      "metadata": {
        "colab": {
          "base_uri": "https://localhost:8080/"
        },
        "id": "X9wTvndFWInW",
        "outputId": "635de96e-5b31-416c-a97d-c45e9360da50"
      },
      "execution_count": 21,
      "outputs": [
        {
          "output_type": "stream",
          "name": "stdout",
          "text": [
            "Program continues as x is a number\n"
          ]
        }
      ]
    },
    {
      "cell_type": "code",
      "source": [
        "import sys\n",
        "sys.platform"
      ],
      "metadata": {
        "colab": {
          "base_uri": "https://localhost:8080/",
          "height": 35
        },
        "id": "uPn55zLXWMw5",
        "outputId": "e579f30d-7981-43a0-821a-eb32fab29cd5"
      },
      "execution_count": 24,
      "outputs": [
        {
          "output_type": "execute_result",
          "data": {
            "text/plain": [
              "'linux'"
            ],
            "application/vnd.google.colaboratory.intrinsic+json": {
              "type": "string"
            }
          },
          "metadata": {},
          "execution_count": 24
        }
      ]
    },
    {
      "cell_type": "code",
      "source": [
        "#Example 3:\n",
        "import sys\n",
        "assert('win32' in sys.platform), \"This code runs only on Windows\"   # On Mac this will raise AssertionError\n",
        "#assert('darwin' in sys.platform), \"This code runs only on Mac\"    # On Mac this will succeed\n",
        "\n",
        "print(\"Program continues...\")"
      ],
      "metadata": {
        "colab": {
          "base_uri": "https://localhost:8080/",
          "height": 211
        },
        "id": "Y4og_eV0WSHo",
        "outputId": "4a11e0b5-ae7d-4f27-9e18-524c29534446"
      },
      "execution_count": 23,
      "outputs": [
        {
          "output_type": "error",
          "ename": "AssertionError",
          "evalue": "This code runs only on Windows",
          "traceback": [
            "\u001b[0;31m---------------------------------------------------------------------------\u001b[0m",
            "\u001b[0;31mAssertionError\u001b[0m                            Traceback (most recent call last)",
            "\u001b[0;32m<ipython-input-23-49ba7fa20517>\u001b[0m in \u001b[0;36m<cell line: 3>\u001b[0;34m()\u001b[0m\n\u001b[1;32m      1\u001b[0m \u001b[0;31m#Example 3:\u001b[0m\u001b[0;34m\u001b[0m\u001b[0;34m\u001b[0m\u001b[0m\n\u001b[1;32m      2\u001b[0m \u001b[0;32mimport\u001b[0m \u001b[0msys\u001b[0m\u001b[0;34m\u001b[0m\u001b[0;34m\u001b[0m\u001b[0m\n\u001b[0;32m----> 3\u001b[0;31m \u001b[0;32massert\u001b[0m\u001b[0;34m(\u001b[0m\u001b[0;34m'win32'\u001b[0m \u001b[0;32min\u001b[0m \u001b[0msys\u001b[0m\u001b[0;34m.\u001b[0m\u001b[0mplatform\u001b[0m\u001b[0;34m)\u001b[0m\u001b[0;34m,\u001b[0m \u001b[0;34m\"This code runs only on Windows\"\u001b[0m   \u001b[0;31m# On Mac this will raise AssertionError\u001b[0m\u001b[0;34m\u001b[0m\u001b[0;34m\u001b[0m\u001b[0m\n\u001b[0m\u001b[1;32m      4\u001b[0m \u001b[0;31m#assert('darwin' in sys.platform), \"This code runs only on Mac\"    # On Mac this will succeed\u001b[0m\u001b[0;34m\u001b[0m\u001b[0;34m\u001b[0m\u001b[0m\n\u001b[1;32m      5\u001b[0m \u001b[0;34m\u001b[0m\u001b[0m\n",
            "\u001b[0;31mAssertionError\u001b[0m: This code runs only on Windows"
          ]
        }
      ]
    },
    {
      "cell_type": "markdown",
      "source": [
        "## Check your Concepts\n",
        "\n",
        "Try answering the following questions to test your understanding of the topics covered in this notebook:\n",
        "\n",
        "1. What are exceptions in Python? When do they occur?\n",
        "2. How are exceptions different from syntax errors?\n",
        "3. What are the different types of in-built exceptions in Python? Where can you learn about them?\n",
        "4. How do you prevent the termination of a program due to an exception?\n",
        "5. What is the purpose of the `try`-`except` statements in Python?\n",
        "6. What is the syntax of the `try`-`except` statements? Give an example.\n",
        "7. What happens if an exception occurs inside a `try` block?\n",
        "8. How do you handle two different types of exceptions using `except`? Can you have multiple `except` blocks under a single `try` block?\n",
        "9. How do you create an `except` block to handle any type of exception?\n",
        "10. Illustrate the usage of `try`-`except` inside a function with an example.\n",
        "11. Differentiate between checked and unchecked exceptions\n",
        "    - **Checked Exceptions** are the exceptions which occur at compile time (e.g., file not found, no such function). Since Python is not compiled, so checked exceptions don't make much sense.\n",
        "    - **Unchecked Exception** are the exceptions which are not checked by the compiler (e.g., arithmetic exception, array out of bound). If not handled by programmer properly, the program terminate at runtime.\n",
        "12. Dig out details about User-Defined Exceptions. Python also allows you to create your own exception classes by deriving them from the standard built-in Exception class. This is useful when you need to display more specific information when an exception is caught. Dig out details about user-defined exceptions from this link:https://docs.python.org/3/tutorial/errors.html#user-defined-exceptions"
      ],
      "metadata": {
        "id": "d-LiKh9WWflM"
      }
    }
  ]
}