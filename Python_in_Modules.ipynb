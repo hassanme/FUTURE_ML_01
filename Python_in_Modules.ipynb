{
  "nbformat": 4,
  "nbformat_minor": 0,
  "metadata": {
    "colab": {
      "provenance": [],
      "gpuType": "V28",
      "authorship_tag": "ABX9TyM2GR/uEIouIH74VImFloC8",
      "include_colab_link": true
    },
    "kernelspec": {
      "name": "python3",
      "display_name": "Python 3"
    },
    "language_info": {
      "name": "python"
    },
    "accelerator": "TPU"
  },
  "cells": [
    {
      "cell_type": "markdown",
      "metadata": {
        "id": "view-in-github",
        "colab_type": "text"
      },
      "source": [
        "<a href=\"https://colab.research.google.com/github/hassanme/FUTURE_ML_01/blob/main/Python_in_Modules.ipynb\" target=\"_parent\"><img src=\"https://colab.research.google.com/assets/colab-badge.svg\" alt=\"Open In Colab\"/></a>"
      ]
    },
    {
      "cell_type": "markdown",
      "source": [
        "# **Modules in Python**"
      ],
      "metadata": {
        "id": "kKklj8IBWKZR"
      }
    },
    {
      "cell_type": "markdown",
      "source": [
        "Consider a module to be the same as a code library.\n",
        "\n",
        "A file containing a set of functions you want to include in your application"
      ],
      "metadata": {
        "id": "iL--feblWPqb"
      }
    },
    {
      "cell_type": "markdown",
      "source": [
        "To create a module just save the code you want in a file with the file extension .py"
      ],
      "metadata": {
        "id": "GRIJVo4bXN2p"
      }
    },
    {
      "cell_type": "markdown",
      "source": [
        "## 1.  What are Python Built-in Modules\n",
        "- In Python, Modules are simply files with the `. py` extension containing Python code (variables, functions, classes etc) that can be imported inside another Python Program.\n",
        "- You can think of Python module like a C library, which is linked with C program during the linking phase.\n",
        "- Some advantages of Modular programming are:\n",
        ">- **Modularity:** We use modules to break down large programs into small manageable and organized files.\n",
        ">- **Simplicity:** Rather than focusing the entire problem at hand, a module typically focuses on one relatively small portion of the problem.\n",
        ">- **Maintainability:** Modules are typically designed so that they enforce logical boundries between different problem domains.\n",
        ">- **Reusability:** Functionality defined in a single module can be easily reused (through an appropriately defined interface) by other parts of the application. This eliminates the need to duplicate code. We can define our most used functions in a module and import it, instead of copying their definitions into different programs.\n",
        ">- **Scoping:** Modules typically define a separate namespace, which helps avoid collisions between identifiers in different areas of a program. The key benefit of using modules is _namespaces_: you must import the module to use its functions within a Python script or notebook. Namespaces provide encapsulation and avoid naming conflicts between your code and a module or across modules.\n",
        "\n",
        "\n",
        "**Note**: - A module is a single file of Python code that is meant to be imported, while a Python package is a simple directory having collections of Python modules under a common namespace."
      ],
      "metadata": {
        "id": "s4Dkze3xXeMG"
      }
    },
    {
      "cell_type": "markdown",
      "source": [
        "### a. Option 1: `import math`\n",
        ">- We can use the **`import`** keyword to import a module, and later using the module name we can access its functions using the dot . operator, like `math.ceil()`  "
      ],
      "metadata": {
        "id": "smt_WNnIb3Ee"
      }
    },
    {
      "cell_type": "code",
      "execution_count": null,
      "metadata": {
        "colab": {
          "base_uri": "https://localhost:8080/"
        },
        "id": "UKL9_csAV9Bc",
        "outputId": "d07ee722-e074-4ff9-c090-97d9d8de1261"
      },
      "outputs": [
        {
          "output_type": "stream",
          "name": "stdout",
          "text": [
            "['In', 'Out', '_', '__', '___', '__builtin__', '__builtins__', '__doc__', '__loader__', '__name__', '__package__', '__spec__', '_dh', '_i', '_i1', '_ih', '_ii', '_iii', '_oh', 'exit', 'get_ipython', 'quit']\n"
          ]
        }
      ],
      "source": [
        "# We have seen the use of dir() function. When called without argument it displays symbols of current module\n",
        "print(dir())"
      ]
    },
    {
      "cell_type": "code",
      "source": [
        "import math\n",
        "print(dir())\n",
        "math.ceil(2.3)\n",
        "math.factorial(10)"
      ],
      "metadata": {
        "colab": {
          "base_uri": "https://localhost:8080/"
        },
        "id": "jMgSEM7vcj11",
        "outputId": "4c6c699e-b2d4-4c14-dca0-30cb5889f851"
      },
      "execution_count": null,
      "outputs": [
        {
          "output_type": "stream",
          "name": "stdout",
          "text": [
            "['In', 'Out', '_', '__', '___', '__builtin__', '__builtins__', '__doc__', '__loader__', '__name__', '__package__', '__spec__', '_dh', '_i', '_i1', '_i2', '_ih', '_ii', '_iii', '_oh', 'exit', 'get_ipython', 'math', 'quit']\n"
          ]
        },
        {
          "output_type": "execute_result",
          "data": {
            "text/plain": [
              "3628800"
            ]
          },
          "metadata": {},
          "execution_count": 2
        }
      ]
    },
    {
      "cell_type": "code",
      "source": [
        "help(\"modules\")"
      ],
      "metadata": {
        "colab": {
          "base_uri": "https://localhost:8080/"
        },
        "id": "ug1xrIvWcpV3",
        "outputId": "daaacf9b-ebfe-4fd0-80e2-52ab37e51ddf"
      },
      "execution_count": null,
      "outputs": [
        {
          "output_type": "stream",
          "name": "stdout",
          "text": [
            "\n",
            "Please wait a moment while I gather a list of all available modules...\n",
            "\n"
          ]
        },
        {
          "output_type": "stream",
          "name": "stderr",
          "text": [
            "/usr/local/lib/python3.10/dist-packages/IPython/kernel/__init__.py:12: ShimWarning: The `IPython.kernel` package has been deprecated since IPython 4.0.You should import from ipykernel or jupyter_client instead.\n",
            "  warn(\"The `IPython.kernel` package has been deprecated since IPython 4.0.\"\n",
            "/usr/local/lib/python3.10/dist-packages/torch_xla/__init__.py:253: UserWarning: `tensorflow` can conflict with `torch-xla`. Prefer `tensorflow-cpu` when using PyTorch/XLA. To silence this warning, `pip uninstall -y tensorflow && pip install tensorflow-cpu`. If you are in a notebook environment such as Colab or Kaggle, restart your notebook runtime afterwards.\n",
            "  warnings.warn(\n",
            "/usr/local/lib/python3.10/dist-packages/altair/vega/v5/__init__.py:18: AltairDeprecationWarning: The module altair.vega.v5 is deprecated and will be removed in Altair 5.\n",
            "  warnings.warn(\n",
            "/usr/local/lib/python3.10/dist-packages/altair/vegalite/v3/__init__.py:29: AltairDeprecationWarning: The module altair.vegalite.v3 is deprecated and will be removed in Altair 5. Use `import altair as alt` instead of `import altair.vegalite.v3 as alt`.\n",
            "  warnings.warn(\n"
          ]
        }
      ]
    },
    {
      "cell_type": "code",
      "source": [
        "import math as m\n",
        "math.ceil(2.3)"
      ],
      "metadata": {
        "colab": {
          "base_uri": "https://localhost:8080/"
        },
        "id": "Dv6EXP_eebAB",
        "outputId": "5b486364-cbb5-44c3-a262-fc46f32a78e4"
      },
      "execution_count": null,
      "outputs": [
        {
          "output_type": "execute_result",
          "data": {
            "text/plain": [
              "3"
            ]
          },
          "metadata": {},
          "execution_count": 7
        }
      ]
    },
    {
      "cell_type": "code",
      "source": [
        "import math as m\n",
        "print(dir())\n",
        "m.ceil(2.3)"
      ],
      "metadata": {
        "colab": {
          "base_uri": "https://localhost:8080/"
        },
        "id": "Ypg16HUsnmxT",
        "outputId": "343f3da4-afda-477a-bc6c-f1ee282b35d8"
      },
      "execution_count": null,
      "outputs": [
        {
          "output_type": "stream",
          "name": "stdout",
          "text": [
            "['In', 'Out', '_', '_3', '_4', '_5', '_7', '__', '___', '__builtin__', '__builtins__', '__doc__', '__loader__', '__name__', '__package__', '__spec__', '_dh', '_i', '_i1', '_i2', '_i3', '_i4', '_i5', '_i6', '_i7', '_i8', '_ih', '_ii', '_iii', '_oh', 'exit', 'get_ipython', 'm', 'math', 'quit']\n"
          ]
        },
        {
          "output_type": "execute_result",
          "data": {
            "text/plain": [
              "3"
            ]
          },
          "metadata": {},
          "execution_count": 8
        }
      ]
    },
    {
      "cell_type": "markdown",
      "source": [
        "`from math import ceil`        OR       `from math import ceil, floor`\n",
        ">- We can use the **`from`** keyword to import specific name(s) from a module instead of importing the entire contents of a module. This way we don't have to use the dot operator and can access the function directly by its name"
      ],
      "metadata": {
        "id": "U_C-vBmRnxet"
      }
    },
    {
      "cell_type": "code",
      "source": [
        "from math import ceil\n",
        "print(dir())\n",
        "ceil(2.3)"
      ],
      "metadata": {
        "colab": {
          "base_uri": "https://localhost:8080/"
        },
        "id": "D0a8N2aEnqnd",
        "outputId": "ef860c1e-c04a-406f-810e-46efc7d1553e"
      },
      "execution_count": null,
      "outputs": [
        {
          "output_type": "stream",
          "name": "stdout",
          "text": [
            "['In', 'Out', '_', '_3', '_4', '_5', '_7', '_8', '__', '___', '__builtin__', '__builtins__', '__doc__', '__loader__', '__name__', '__package__', '__spec__', '_dh', '_i', '_i1', '_i2', '_i3', '_i4', '_i5', '_i6', '_i7', '_i8', '_i9', '_ih', '_ii', '_iii', '_oh', 'ceil', 'exit', 'get_ipython', 'm', 'math', 'quit']\n"
          ]
        },
        {
          "output_type": "execute_result",
          "data": {
            "text/plain": [
              "3"
            ]
          },
          "metadata": {},
          "execution_count": 9
        }
      ]
    },
    {
      "cell_type": "code",
      "source": [],
      "metadata": {
        "id": "Uqe7obPzoEaQ"
      },
      "execution_count": null,
      "outputs": []
    },
    {
      "cell_type": "code",
      "source": [
        "math.ceil(2.3)\n",
        "#"
      ],
      "metadata": {
        "colab": {
          "base_uri": "https://localhost:8080/"
        },
        "id": "dxDtbO8-faUP",
        "outputId": "aada1044-edfc-42fd-f652-5b21408b1ff6"
      },
      "execution_count": null,
      "outputs": [
        {
          "output_type": "execute_result",
          "data": {
            "text/plain": [
              "3"
            ]
          },
          "metadata": {},
          "execution_count": 3
        }
      ]
    },
    {
      "cell_type": "code",
      "source": [
        "math.floor"
      ],
      "metadata": {
        "colab": {
          "base_uri": "https://localhost:8080/"
        },
        "id": "AmqdLpP0m-B0",
        "outputId": "50152b09-d2ab-4735-9c3d-8361ad574819"
      },
      "execution_count": null,
      "outputs": [
        {
          "output_type": "execute_result",
          "data": {
            "text/plain": [
              "<function math.floor(x, /)>"
            ]
          },
          "metadata": {},
          "execution_count": 4
        }
      ]
    },
    {
      "cell_type": "code",
      "source": [
        "math.floor(2.3)"
      ],
      "metadata": {
        "colab": {
          "base_uri": "https://localhost:8080/"
        },
        "id": "Dh7JSDeEnFPm",
        "outputId": "ac84571a-a267-4c13-943c-b84f2f25eb73"
      },
      "execution_count": null,
      "outputs": [
        {
          "output_type": "execute_result",
          "data": {
            "text/plain": [
              "2"
            ]
          },
          "metadata": {},
          "execution_count": 5
        }
      ]
    },
    {
      "cell_type": "markdown",
      "source": [
        "### d. Option 4:`from mymath import *`\n",
        ">- We can import all the attributes from a module using asterik `*` construct. The difference between `import math` and `from math import *` is that in the later case you can don't have to use the dot operator and can directly use the functions, e.g., `ceil()`\n"
      ],
      "metadata": {
        "id": "KwGqmlZAodKc"
      }
    },
    {
      "cell_type": "code",
      "source": [
        "from math import *\n",
        "print(dir())\n",
        "ceil(2.3)"
      ],
      "metadata": {
        "colab": {
          "base_uri": "https://localhost:8080/"
        },
        "id": "Ls_FlNd2ocjk",
        "outputId": "259e0023-49e9-4262-dfaa-9288cb6518ae"
      },
      "execution_count": null,
      "outputs": [
        {
          "output_type": "stream",
          "name": "stdout",
          "text": [
            "['In', 'Out', '_', '_3', '_4', '_5', '_7', '_8', '_9', '__', '___', '__builtin__', '__builtins__', '__doc__', '__loader__', '__name__', '__package__', '__spec__', '_dh', '_i', '_i1', '_i10', '_i2', '_i3', '_i4', '_i5', '_i6', '_i7', '_i8', '_i9', '_ih', '_ii', '_iii', '_oh', 'acos', 'acosh', 'asin', 'asinh', 'atan', 'atan2', 'atanh', 'ceil', 'comb', 'copysign', 'cos', 'cosh', 'degrees', 'dist', 'e', 'erf', 'erfc', 'exit', 'exp', 'expm1', 'fabs', 'factorial', 'floor', 'fmod', 'frexp', 'fsum', 'gamma', 'gcd', 'get_ipython', 'hypot', 'inf', 'isclose', 'isfinite', 'isinf', 'isnan', 'isqrt', 'lcm', 'ldexp', 'lgamma', 'log', 'log10', 'log1p', 'log2', 'm', 'math', 'modf', 'nan', 'nextafter', 'perm', 'pi', 'pow', 'prod', 'quit', 'radians', 'remainder', 'sin', 'sinh', 'sqrt', 'tan', 'tanh', 'tau', 'trunc', 'ulp']\n"
          ]
        },
        {
          "output_type": "execute_result",
          "data": {
            "text/plain": [
              "3"
            ]
          },
          "metadata": {},
          "execution_count": 10
        }
      ]
    },
    {
      "cell_type": "markdown",
      "source": [
        "### a. Constants of Math Module"
      ],
      "metadata": {
        "id": "uwz4_QG4ot3N"
      }
    },
    {
      "cell_type": "markdown",
      "source": [
        "- **PI:**\n",
        "    - PI is the ratio of a circle's circumference (c) to its diameter (d).\n",
        "    - It is an irrational number, so it can be approximated to the value 22/7 = 3.141592...\n",
        "    - You can access its value since it is defined as a constant inside the math module with the name of 'pi', and is given correct upto 15 digits after the decimal point\n",
        "    - Pi has been calculated to over 50 trillion digits beyond its decimal point.  PI’s infinite nature makes it a fun challenge to memorize, and to computationally calculate more and more digits\n",
        "    - Pi Day is celebrated on March 14th (3/14) around the world."
      ],
      "metadata": {
        "id": "5EhXi79UovMY"
      }
    },
    {
      "cell_type": "code",
      "source": [
        "math.pi"
      ],
      "metadata": {
        "colab": {
          "base_uri": "https://localhost:8080/"
        },
        "id": "OwlHt6myohDG",
        "outputId": "6a7f2c49-6811-4a3a-babd-c1d385d61f1a"
      },
      "execution_count": null,
      "outputs": [
        {
          "output_type": "execute_result",
          "data": {
            "text/plain": [
              "3.141592653589793"
            ]
          },
          "metadata": {},
          "execution_count": 11
        }
      ]
    },
    {
      "cell_type": "markdown",
      "source": [
        "- **TAU:**\n",
        "    - TAU is the ratio of a circule's circumference (c) to its radius (r).\n",
        "    - This constant is equal to 2PI, or roughly 6.28\n",
        "    - Like PI, TAU is also an irrational number, and can be approximated to the value 2PI = 6.28318..."
      ],
      "metadata": {
        "id": "W2LscF7Go78i"
      }
    },
    {
      "cell_type": "code",
      "source": [
        "math.tau"
      ],
      "metadata": {
        "colab": {
          "base_uri": "https://localhost:8080/"
        },
        "id": "Z0f3gXVZo1DH",
        "outputId": "bfa97389-7b34-447b-f30b-e18d6256e442"
      },
      "execution_count": null,
      "outputs": [
        {
          "output_type": "execute_result",
          "data": {
            "text/plain": [
              "6.283185307179586"
            ]
          },
          "metadata": {},
          "execution_count": 12
        }
      ]
    },
    {
      "cell_type": "markdown",
      "source": [
        "- **Euler's Number:**\n",
        "    - Euler's number (e) is a constant that is the base of natural logarithm.\n",
        "    - It is a mathematical function that is commonly used to calculate rates of growth of decay.\n",
        "    - As with PI and TAU, `e` is also an irrational number with approximated value of 2.718"
      ],
      "metadata": {
        "id": "-5xEu7uVpS8E"
      }
    },
    {
      "cell_type": "code",
      "source": [
        "math.e\n"
      ],
      "metadata": {
        "colab": {
          "base_uri": "https://localhost:8080/"
        },
        "id": "IDDSLSYEpL7X",
        "outputId": "87245797-6359-43fd-da76-844c2f3eb60b"
      },
      "execution_count": null,
      "outputs": [
        {
          "output_type": "execute_result",
          "data": {
            "text/plain": [
              "2.718281828459045"
            ]
          },
          "metadata": {},
          "execution_count": 17
        }
      ]
    },
    {
      "cell_type": "markdown",
      "source": [
        "- **Infinity:**\n",
        "    - Infinity can't be defined by a number or a numeric value\n",
        "    - It is a mathematical concept representing something that is never ending or boundless.\n",
        "    - Infinity can go in either direction (positive as well as negative)\n",
        "    - `math.inf` (added to Python 3.5) is a special data type equivalent to a float"
      ],
      "metadata": {
        "id": "9mUGrHS3pYaz"
      }
    },
    {
      "cell_type": "code",
      "source": [
        "math.inf"
      ],
      "metadata": {
        "colab": {
          "base_uri": "https://localhost:8080/"
        },
        "id": "Xv-KVN7kpZar",
        "outputId": "7cec0270-104e-4537-fade-16e3acd665bf"
      },
      "execution_count": null,
      "outputs": [
        {
          "output_type": "execute_result",
          "data": {
            "text/plain": [
              "inf"
            ]
          },
          "metadata": {},
          "execution_count": 14
        }
      ]
    },
    {
      "cell_type": "code",
      "source": [
        "type(math.inf)"
      ],
      "metadata": {
        "colab": {
          "base_uri": "https://localhost:8080/"
        },
        "id": "xgRDAZzApy2j",
        "outputId": "d9855f61-47d8-4771-8d4d-94315e6cce22"
      },
      "execution_count": null,
      "outputs": [
        {
          "output_type": "execute_result",
          "data": {
            "text/plain": [
              "float"
            ]
          },
          "metadata": {},
          "execution_count": 15
        }
      ]
    },
    {
      "cell_type": "code",
      "source": [
        "# Proof of concept: Negative infinity is smaller than any smallest known number\n",
        "-math.inf < -91876999999999999999999999954309873211234"
      ],
      "metadata": {
        "colab": {
          "base_uri": "https://localhost:8080/"
        },
        "id": "jCDo2atWqOKm",
        "outputId": "daf74fe4-6a82-4944-e5ac-42bbfec61e5e"
      },
      "execution_count": null,
      "outputs": [
        {
          "output_type": "execute_result",
          "data": {
            "text/plain": [
              "True"
            ]
          },
          "metadata": {},
          "execution_count": 18
        }
      ]
    },
    {
      "cell_type": "code",
      "source": [
        "# Proof of concept: Whatever number is added/subtracted to positive infinity, the result is positive infinity\n",
        "math.inf + 324987699999999543"
      ],
      "metadata": {
        "colab": {
          "base_uri": "https://localhost:8080/"
        },
        "id": "a_MjAiadqV4E",
        "outputId": "1282c966-39f9-4622-8d95-dec58229ae00"
      },
      "execution_count": null,
      "outputs": [
        {
          "output_type": "execute_result",
          "data": {
            "text/plain": [
              "inf"
            ]
          },
          "metadata": {},
          "execution_count": 19
        }
      ]
    },
    {
      "cell_type": "code",
      "source": [
        "# Proof of concept: Whatever number is subtracted/added from negative infinity, the result is negative infinity\n",
        "-math.inf - 324999999999876543"
      ],
      "metadata": {
        "colab": {
          "base_uri": "https://localhost:8080/"
        },
        "id": "_2E_By3mqYXD",
        "outputId": "9d7384b4-55d3-4550-9ce6-d393b2cc7171"
      },
      "execution_count": null,
      "outputs": [
        {
          "output_type": "execute_result",
          "data": {
            "text/plain": [
              "-inf"
            ]
          },
          "metadata": {},
          "execution_count": 20
        }
      ]
    },
    {
      "cell_type": "markdown",
      "source": [
        "- **NaN (Not a Number):**\n",
        "    - Not a Number is not a mathematical concept, rather is introduced in the field of computer science as a reference to values that are not numeric\n",
        "    - `NaN` value can be due to invalid inputs, or it can indicate that a variable that should be numerical has been corrupted by text characters or symbols"
      ],
      "metadata": {
        "id": "liEc7wdFqdHj"
      }
    },
    {
      "cell_type": "code",
      "source": [
        "math.nan"
      ],
      "metadata": {
        "colab": {
          "base_uri": "https://localhost:8080/"
        },
        "id": "sAbc0nAuqgaI",
        "outputId": "c651306b-d25a-40db-c32a-9d080763cd49"
      },
      "execution_count": null,
      "outputs": [
        {
          "output_type": "execute_result",
          "data": {
            "text/plain": [
              "nan"
            ]
          },
          "metadata": {},
          "execution_count": 21
        }
      ]
    },
    {
      "cell_type": "code",
      "source": [
        "type(math.nan)"
      ],
      "metadata": {
        "colab": {
          "base_uri": "https://localhost:8080/"
        },
        "id": "DMJbGvCRqjkw",
        "outputId": "925b46d1-35ac-48fd-f511-57d7a7469c7a"
      },
      "execution_count": null,
      "outputs": [
        {
          "output_type": "execute_result",
          "data": {
            "text/plain": [
              "float"
            ]
          },
          "metadata": {},
          "execution_count": 22
        }
      ]
    },
    {
      "cell_type": "markdown",
      "source": [
        "### b. Arithmetic Functions of Math Module"
      ],
      "metadata": {
        "id": "8Zr4VOb8rCsm"
      }
    },
    {
      "cell_type": "markdown",
      "source": [
        "- Factorial of a number is obtained by multiplying that number and all numbers below it till one\n",
        "- Factorial is not defined for negative values as well as for decimal values. Factorial of zero is 1"
      ],
      "metadata": {
        "id": "712bo6sIrDi-"
      }
    },
    {
      "cell_type": "code",
      "source": [
        "import math\n",
        "math.factorial(50)"
      ],
      "metadata": {
        "colab": {
          "base_uri": "https://localhost:8080/"
        },
        "id": "Kz1RVa4xq2iF",
        "outputId": "1ba13350-78bf-4d67-fc52-79648a30fb30"
      },
      "execution_count": null,
      "outputs": [
        {
          "output_type": "execute_result",
          "data": {
            "text/plain": [
              "30414093201713378043612608166064768844377641568960512000000000000"
            ]
          },
          "metadata": {},
          "execution_count": 23
        }
      ]
    },
    {
      "cell_type": "code",
      "source": [
        "def fact_recursion(num):\n",
        "    if num < 0:\n",
        "        return 0\n",
        "    if num == 0:\n",
        "        return 1\n",
        "\n",
        "    return num * fact_recursion(num - 1)\n",
        "fact_loop(50)"
      ],
      "metadata": {
        "colab": {
          "base_uri": "https://localhost:8080/"
        },
        "id": "VL9HlzYKrT5T",
        "outputId": "87f6072b-3106-4723-cd62-ed2dedaf83d1"
      },
      "execution_count": null,
      "outputs": [
        {
          "output_type": "execute_result",
          "data": {
            "text/plain": [
              "30414093201713378043612608166064768844377641568960512000000000000"
            ]
          },
          "metadata": {},
          "execution_count": 26
        }
      ]
    },
    {
      "cell_type": "code",
      "source": [
        "def fact_loop(num):\n",
        "    if num < 0:\n",
        "        return 0\n",
        "    if num == 0:\n",
        "        return 1\n",
        "\n",
        "    factorial = 1\n",
        "    for i in range(1, num + 1):\n",
        "        factorial = factorial * i\n",
        "    return factorial\n",
        "fact_loop(50)"
      ],
      "metadata": {
        "colab": {
          "base_uri": "https://localhost:8080/"
        },
        "id": "z92ZFK1GrWk2",
        "outputId": "f0d5db8f-5d15-4483-b78e-eda07c25f55d"
      },
      "execution_count": null,
      "outputs": [
        {
          "output_type": "execute_result",
          "data": {
            "text/plain": [
              "30414093201713378043612608166064768844377641568960512000000000000"
            ]
          },
          "metadata": {},
          "execution_count": 25
        }
      ]
    },
    {
      "cell_type": "markdown",
      "source": [
        "**Lets compare the execution time of calculating factorial using above three ways, using the `timeit()` method which returns the time taken to execute the statements a specified number of times**\n",
        "```\n",
        "timeit.timeit(stmt, setup, globals, number)\n",
        "```\n",
        "Where\n",
        "- `stmt`: Code statement(s) whose execution time is to be measured.(Use ; for multiple statements)\n",
        "- `setup`: Used to import some modules or declare some necessary variables. (Use ; for multiple statements)\n",
        "- `globals`: You can simplay pass `globals()` to the globals parameter, which will cause the code to be executed within your current global namespace\n",
        "- `number`: It specifies the number of times stmt will be executed. (Default is 1 million times)"
      ],
      "metadata": {
        "id": "VWVIXdelrnc7"
      }
    },
    {
      "cell_type": "code",
      "source": [
        "import timeit"
      ],
      "metadata": {
        "id": "oWcTJ8cUreII"
      },
      "execution_count": null,
      "outputs": []
    },
    {
      "cell_type": "code",
      "source": [
        "import timeit\n",
        "timeit.timeit(\"fact_loop(10)\", globals=globals(), number = 1000000)"
      ],
      "metadata": {
        "colab": {
          "base_uri": "https://localhost:8080/"
        },
        "id": "Kf1pvYsWrt8G",
        "outputId": "af81fd69-b0cb-40d0-ca66-69c147b0041c"
      },
      "execution_count": null,
      "outputs": [
        {
          "output_type": "execute_result",
          "data": {
            "text/plain": [
              "0.60668644100042"
            ]
          },
          "metadata": {},
          "execution_count": 28
        }
      ]
    },
    {
      "cell_type": "code",
      "source": [
        "timeit.timeit(\"fact_recursion(10)\", globals=globals(), number = 1000000)"
      ],
      "metadata": {
        "colab": {
          "base_uri": "https://localhost:8080/"
        },
        "id": "Wf88xU03sO6Q",
        "outputId": "e526f56a-48f9-4444-96f2-b305cd2aa8df"
      },
      "execution_count": null,
      "outputs": [
        {
          "output_type": "execute_result",
          "data": {
            "text/plain": [
              "1.3539323779996266"
            ]
          },
          "metadata": {},
          "execution_count": 29
        }
      ]
    },
    {
      "cell_type": "code",
      "source": [
        "timeit.timeit(\"math.factorial(10)\", setup = \"import math\", number = 1000000)"
      ],
      "metadata": {
        "colab": {
          "base_uri": "https://localhost:8080/"
        },
        "id": "IyLKLwSjsRA-",
        "outputId": "7d8e0ccc-4329-4f59-d21d-bcc6fe51d444"
      },
      "execution_count": null,
      "outputs": [
        {
          "output_type": "execute_result",
          "data": {
            "text/plain": [
              "0.06713784000021406"
            ]
          },
          "metadata": {},
          "execution_count": 30
        }
      ]
    },
    {
      "cell_type": "code",
      "source": [
        "import math\n",
        "math.ceil(20.222), math.ceil(-11.85)"
      ],
      "metadata": {
        "colab": {
          "base_uri": "https://localhost:8080/"
        },
        "id": "7OiKSJlVsS4h",
        "outputId": "628b7445-11f6-405f-fc98-80024c1bb39f"
      },
      "execution_count": null,
      "outputs": [
        {
          "output_type": "execute_result",
          "data": {
            "text/plain": [
              "(21, -11)"
            ]
          },
          "metadata": {},
          "execution_count": 31
        }
      ]
    },
    {
      "cell_type": "code",
      "source": [
        "import math\n",
        "math.floor(20.99), math.floor(-13.1)"
      ],
      "metadata": {
        "colab": {
          "base_uri": "https://localhost:8080/"
        },
        "id": "zgwpNoByscHE",
        "outputId": "502ef7be-bc61-41e4-f4da-fd3b58d16375"
      },
      "execution_count": null,
      "outputs": [
        {
          "output_type": "execute_result",
          "data": {
            "text/plain": [
              "(20, -14)"
            ]
          },
          "metadata": {},
          "execution_count": 32
        }
      ]
    },
    {
      "cell_type": "code",
      "source": [
        "import math\n",
        "math.trunc(20.99), math.trunc(-13.1)"
      ],
      "metadata": {
        "colab": {
          "base_uri": "https://localhost:8080/"
        },
        "id": "Fe5BmL9XseuX",
        "outputId": "7abfec79-7123-4b57-a429-bb901a3bfb7b"
      },
      "execution_count": null,
      "outputs": [
        {
          "output_type": "execute_result",
          "data": {
            "text/plain": [
              "(20, -13)"
            ]
          },
          "metadata": {},
          "execution_count": 33
        }
      ]
    },
    {
      "cell_type": "code",
      "source": [
        "# perm(n,k) = n!/(n-k)!\n",
        "import math\n",
        "math.perm(3,2)\n",
        "#All permutations made by with letters a, b, c by taking two at a time are six (ab, ba, ac, ca, bc, cb)"
      ],
      "metadata": {
        "colab": {
          "base_uri": "https://localhost:8080/"
        },
        "id": "5bOXc6sisgaH",
        "outputId": "609dcfe2-ef16-41bd-9370-c22631a35b49"
      },
      "execution_count": null,
      "outputs": [
        {
          "output_type": "execute_result",
          "data": {
            "text/plain": [
              "6"
            ]
          },
          "metadata": {},
          "execution_count": 34
        }
      ]
    },
    {
      "cell_type": "code",
      "source": [
        "# comb(n,k) = n!/k!(n-k)!\n",
        "import math\n",
        "math.comb(3,2)\n",
        "#All combinations made by with letters a, b, c by taking two at a time are three (ab, ac, bc)"
      ],
      "metadata": {
        "id": "fH-isUCqtRaw",
        "outputId": "c237ffdf-a03e-4995-d961-ddbe50376d94",
        "colab": {
          "base_uri": "https://localhost:8080/"
        }
      },
      "execution_count": null,
      "outputs": [
        {
          "output_type": "execute_result",
          "data": {
            "text/plain": [
              "3"
            ]
          },
          "metadata": {},
          "execution_count": 35
        }
      ]
    },
    {
      "cell_type": "code",
      "source": [
        "import math\n",
        "math.gcd(39,27), math.gcd(100,50)"
      ],
      "metadata": {
        "id": "mV6Rgnz0tTkX",
        "outputId": "e9a4aadd-7667-44e7-8a8a-ef4aada7edbd",
        "colab": {
          "base_uri": "https://localhost:8080/"
        }
      },
      "execution_count": null,
      "outputs": [
        {
          "output_type": "execute_result",
          "data": {
            "text/plain": [
              "(3, 50)"
            ]
          },
          "metadata": {},
          "execution_count": 36
        }
      ]
    },
    {
      "cell_type": "code",
      "source": [
        "import math\n",
        "math.lcm(20,30) # 60. Available on Python 3.9, I have currently Python3.8 :("
      ],
      "metadata": {
        "id": "D8oJQxnZtbJI",
        "outputId": "7d14641c-1d98-4f8b-abfe-6c6bd93344a8",
        "colab": {
          "base_uri": "https://localhost:8080/"
        }
      },
      "execution_count": null,
      "outputs": [
        {
          "output_type": "execute_result",
          "data": {
            "text/plain": [
              "60"
            ]
          },
          "metadata": {},
          "execution_count": 37
        }
      ]
    },
    {
      "cell_type": "code",
      "source": [
        "# Example: The power(a,b) function returns a**b. Available in the math module as well as Python built-in function\n",
        "# The pow() function in the math module is computationally faster\n",
        "import math\n",
        "a = 2\n",
        "b = 5\n",
        "a**b , pow(a,b), math.pow(a,b)"
      ],
      "metadata": {
        "id": "s-DWLvRWtcxR",
        "colab": {
          "base_uri": "https://localhost:8080/"
        },
        "outputId": "8e818899-4fb2-4e5b-bab8-e4ce49f86051"
      },
      "execution_count": 1,
      "outputs": [
        {
          "output_type": "execute_result",
          "data": {
            "text/plain": [
              "(32, 32, 32.0)"
            ]
          },
          "metadata": {},
          "execution_count": 1
        }
      ]
    },
    {
      "cell_type": "code",
      "source": [
        "# Example: The sqrt(x) function returns a number y such that y² = x;\n",
        "import math\n",
        "math.sqrt(25)\n"
      ],
      "metadata": {
        "colab": {
          "base_uri": "https://localhost:8080/"
        },
        "id": "KCOSNoZd17jX",
        "outputId": "412529e0-d5ce-4d68-9146-4d176d37b065"
      },
      "execution_count": 2,
      "outputs": [
        {
          "output_type": "execute_result",
          "data": {
            "text/plain": [
              "5.0"
            ]
          },
          "metadata": {},
          "execution_count": 2
        }
      ]
    },
    {
      "cell_type": "code",
      "source": [
        "# Example: The exp(x) function returns e**x, where e is Euler's number (2.718281828459045)\n",
        "import math\n",
        "x = 3\n",
        "math.e ** x, math.exp(x)"
      ],
      "metadata": {
        "colab": {
          "base_uri": "https://localhost:8080/"
        },
        "id": "ZCxDHwAh191_",
        "outputId": "3f824551-d27a-4dbf-a0b1-29caf9600651"
      },
      "execution_count": 3,
      "outputs": [
        {
          "output_type": "execute_result",
          "data": {
            "text/plain": [
              "(20.085536923187664, 20.085536923187668)"
            ]
          },
          "metadata": {},
          "execution_count": 3
        }
      ]
    },
    {
      "cell_type": "code",
      "source": [
        "# Example: The log(x, base) function return the logarithm of x to the mentioned base. Default base is e\n",
        "# Logarithm is the inverse function to exponentiation\n",
        "\n",
        "math.log(8), math.log(8, math.e), math.log(8, 2), math.log(8, 10)\n"
      ],
      "metadata": {
        "colab": {
          "base_uri": "https://localhost:8080/"
        },
        "id": "s3L7eXdq2AQV",
        "outputId": "ba0a2d20-7edb-4be6-9951-fc49e5ecb099"
      },
      "execution_count": 4,
      "outputs": [
        {
          "output_type": "execute_result",
          "data": {
            "text/plain": [
              "(2.0794415416798357, 2.0794415416798357, 3.0, 0.9030899869919434)"
            ]
          },
          "metadata": {},
          "execution_count": 4
        }
      ]
    },
    {
      "cell_type": "markdown",
      "source": [
        "## 4. The `random` Module\n",
        "- The Random module is  used to perform random actions such as generating random numbers, print random value for a list or string, etc.\n",
        "#### [Read Python Documentation for details about `random` module](https://docs.python.org/3/library/random.html#module-random)"
      ],
      "metadata": {
        "id": "m54WA6LD2Jux"
      }
    },
    {
      "cell_type": "code",
      "source": [
        "#import random module\n",
        "import random\n",
        "\n",
        "# use dir() to get the list of complete functions in random module\n",
        "print(\"Existing functions in Random module: \\n\\n\", dir(random))\n"
      ],
      "metadata": {
        "colab": {
          "base_uri": "https://localhost:8080/"
        },
        "id": "NYctO4US2CE5",
        "outputId": "9ddfbd55-a66c-4448-b752-a42afe0be81a"
      },
      "execution_count": 5,
      "outputs": [
        {
          "output_type": "stream",
          "name": "stdout",
          "text": [
            "Existing functions in Random module: \n",
            "\n",
            " ['BPF', 'LOG4', 'NV_MAGICCONST', 'RECIP_BPF', 'Random', 'SG_MAGICCONST', 'SystemRandom', 'TWOPI', '_ONE', '_Sequence', '_Set', '__all__', '__builtins__', '__cached__', '__doc__', '__file__', '__loader__', '__name__', '__package__', '__spec__', '_accumulate', '_acos', '_bisect', '_ceil', '_cos', '_e', '_exp', '_floor', '_index', '_inst', '_isfinite', '_log', '_os', '_pi', '_random', '_repeat', '_sha512', '_sin', '_sqrt', '_test', '_test_generator', '_urandom', '_warn', 'betavariate', 'choice', 'choices', 'expovariate', 'gammavariate', 'gauss', 'getrandbits', 'getstate', 'lognormvariate', 'normalvariate', 'paretovariate', 'randbytes', 'randint', 'random', 'randrange', 'sample', 'seed', 'setstate', 'shuffle', 'triangular', 'uniform', 'vonmisesvariate', 'weibullvariate']\n"
          ]
        }
      ]
    },
    {
      "cell_type": "code",
      "source": [
        "import random"
      ],
      "metadata": {
        "id": "UII5S_2M2Obi"
      },
      "execution_count": 8,
      "outputs": []
    },
    {
      "cell_type": "code",
      "source": [
        "random.randint(1,100) # randint ak asa function hai jo humay sk given range kha ander random numbers generate kr kha data hai"
      ],
      "metadata": {
        "colab": {
          "base_uri": "https://localhost:8080/"
        },
        "id": "WeCbQckw2mKT",
        "outputId": "0e74eb53-44ce-4fb9-9c57-5d095c6d35ee"
      },
      "execution_count": 13,
      "outputs": [
        {
          "output_type": "execute_result",
          "data": {
            "text/plain": [
              "34"
            ]
          },
          "metadata": {},
          "execution_count": 13
        }
      ]
    },
    {
      "cell_type": "code",
      "source": [
        "a = [1,2,3,4,5,6]\n",
        "random.shuffle(a) # it just shuffle all the elements and this be permanent\n",
        "a"
      ],
      "metadata": {
        "colab": {
          "base_uri": "https://localhost:8080/"
        },
        "id": "Cy2NV9NC3KiK",
        "outputId": "493e7860-33d8-4c50-e2b7-e13b38520e28"
      },
      "execution_count": 17,
      "outputs": [
        {
          "output_type": "execute_result",
          "data": {
            "text/plain": [
              "[4, 3, 6, 5, 2, 1]"
            ]
          },
          "metadata": {},
          "execution_count": 17
        }
      ]
    },
    {
      "cell_type": "code",
      "source": [
        "import time"
      ],
      "metadata": {
        "id": "FENT6HNB3qdY"
      },
      "execution_count": 18,
      "outputs": []
    },
    {
      "cell_type": "code",
      "source": [
        "time.time()"
      ],
      "metadata": {
        "colab": {
          "base_uri": "https://localhost:8080/"
        },
        "id": "t0Q0U5iB3sFJ",
        "outputId": "9cbe228a-005e-479e-a6a2-1b6e57b6bd0b"
      },
      "execution_count": 19,
      "outputs": [
        {
          "output_type": "execute_result",
          "data": {
            "text/plain": [
              "1732530595.7630758"
            ]
          },
          "metadata": {},
          "execution_count": 19
        }
      ]
    },
    {
      "cell_type": "code",
      "source": [
        "time.ctime()"
      ],
      "metadata": {
        "colab": {
          "base_uri": "https://localhost:8080/",
          "height": 35
        },
        "id": "o4as-l6_31xX",
        "outputId": "a27d2b45-a0e9-4ab0-dcd1-8e9d689f99d1"
      },
      "execution_count": 22,
      "outputs": [
        {
          "output_type": "execute_result",
          "data": {
            "text/plain": [
              "'Mon Nov 25 10:30:42 2024'"
            ],
            "application/vnd.google.colaboratory.intrinsic+json": {
              "type": "string"
            }
          },
          "metadata": {},
          "execution_count": 22
        }
      ]
    },
    {
      "cell_type": "code",
      "source": [
        "print(\"Hello\")\n",
        "time.sleep(2)\n",
        "print(\"World\")"
      ],
      "metadata": {
        "colab": {
          "base_uri": "https://localhost:8080/"
        },
        "id": "kWkUzNJO36DM",
        "outputId": "a521aff2-e71e-4268-b1ee-a01341cc7966"
      },
      "execution_count": 23,
      "outputs": [
        {
          "output_type": "stream",
          "name": "stdout",
          "text": [
            "Hello\n",
            "World\n"
          ]
        }
      ]
    },
    {
      "cell_type": "code",
      "source": [
        "import os"
      ],
      "metadata": {
        "id": "PrtSvznG4WT_"
      },
      "execution_count": 24,
      "outputs": []
    },
    {
      "cell_type": "code",
      "source": [
        "os.getcwd()"
      ],
      "metadata": {
        "colab": {
          "base_uri": "https://localhost:8080/",
          "height": 35
        },
        "id": "8VF7xySV4YZU",
        "outputId": "b6ab5df1-90d8-475b-ec9d-9a632b9670f3"
      },
      "execution_count": 28,
      "outputs": [
        {
          "output_type": "execute_result",
          "data": {
            "text/plain": [
              "'/content'"
            ],
            "application/vnd.google.colaboratory.intrinsic+json": {
              "type": "string"
            }
          },
          "metadata": {},
          "execution_count": 28
        }
      ]
    },
    {
      "cell_type": "code",
      "source": [
        "os.listdir()"
      ],
      "metadata": {
        "colab": {
          "base_uri": "https://localhost:8080/"
        },
        "id": "YYCHeyEZ4fe7",
        "outputId": "6a1ce524-9731-4f50-8bdc-79b58118df83"
      },
      "execution_count": 29,
      "outputs": [
        {
          "output_type": "execute_result",
          "data": {
            "text/plain": [
              "['.config', 'sample_data']"
            ]
          },
          "metadata": {},
          "execution_count": 29
        }
      ]
    },
    {
      "cell_type": "markdown",
      "source": [
        "### a. The `random.random()` Function\n",
        "- This function `random.random()` returns a random float value in the interval [0,1), i.e., 0 is inclusive while 1 is not"
      ],
      "metadata": {
        "id": "swWjSn2843Sd"
      }
    },
    {
      "cell_type": "code",
      "source": [
        "import random"
      ],
      "metadata": {
        "id": "oXmNUpN14o-O"
      },
      "execution_count": 30,
      "outputs": []
    },
    {
      "cell_type": "code",
      "source": [
        "random.random()"
      ],
      "metadata": {
        "colab": {
          "base_uri": "https://localhost:8080/"
        },
        "id": "MhaiZ3yn46t_",
        "outputId": "df6c3451-f29b-48ba-bd84-4c1ef802f021"
      },
      "execution_count": 38,
      "outputs": [
        {
          "output_type": "execute_result",
          "data": {
            "text/plain": [
              "0.4266750200570757"
            ]
          },
          "metadata": {},
          "execution_count": 38
        }
      ]
    },
    {
      "cell_type": "markdown",
      "source": [
        "### b. The `random.uniform()` Function\n",
        "- This function `random.uniform(a, b)` returns a random float value in the interval a and b"
      ],
      "metadata": {
        "id": "k9N7DGc05IWh"
      }
    },
    {
      "cell_type": "code",
      "source": [
        "random.uniform(1,4), type(int)"
      ],
      "metadata": {
        "colab": {
          "base_uri": "https://localhost:8080/"
        },
        "id": "FzEQunVx5Ed-",
        "outputId": "e18ccbee-d678-4adc-8391-c58a73355d1e"
      },
      "execution_count": 48,
      "outputs": [
        {
          "output_type": "execute_result",
          "data": {
            "text/plain": [
              "(3.791094838912178, type)"
            ]
          },
          "metadata": {},
          "execution_count": 48
        }
      ]
    },
    {
      "cell_type": "markdown",
      "source": [
        "### c. The `random.randint()` and `random.randrange()` Functions\n",
        "- We have seen the use of the built-in `range()` function that provides a range object, using which you can generate a list of numbers in that specific range\n",
        "- The `random.randint(start, stop)` returns one random integer (with start and stop both inclusive).\n",
        "- The `random.randrange(start, stop=None, step=1)` returns one random integer (with stop NOT inclusive)."
      ],
      "metadata": {
        "id": "pcF1mvi25m84"
      }
    },
    {
      "cell_type": "code",
      "source": [
        "random.randint(1,100)"
      ],
      "metadata": {
        "colab": {
          "base_uri": "https://localhost:8080/"
        },
        "id": "0F2PNfQK5RMf",
        "outputId": "8ab60735-0ca0-4fff-e214-5e7cc89e41cb"
      },
      "execution_count": 51,
      "outputs": [
        {
          "output_type": "execute_result",
          "data": {
            "text/plain": [
              "29"
            ]
          },
          "metadata": {},
          "execution_count": 51
        }
      ]
    },
    {
      "cell_type": "code",
      "source": [
        "random.randrange(1,100,3)"
      ],
      "metadata": {
        "colab": {
          "base_uri": "https://localhost:8080/"
        },
        "id": "NmlAf6Mk5rfe",
        "outputId": "aea45ce8-860c-4387-ae14-84a266c9e4be"
      },
      "execution_count": 62,
      "outputs": [
        {
          "output_type": "execute_result",
          "data": {
            "text/plain": [
              "10"
            ]
          },
          "metadata": {},
          "execution_count": 62
        }
      ]
    },
    {
      "cell_type": "code",
      "source": [
        "# Note the stop value is also inclusive, which is unlike what we expect in Python\n",
        "import random\n",
        "random.randint(0, 5)"
      ],
      "metadata": {
        "colab": {
          "base_uri": "https://localhost:8080/"
        },
        "id": "Cezbonjo6Rqa",
        "outputId": "4ab85d46-cf50-4e80-cb1a-47471af86940"
      },
      "execution_count": 63,
      "outputs": [
        {
          "output_type": "execute_result",
          "data": {
            "text/plain": [
              "5"
            ]
          },
          "metadata": {},
          "execution_count": 63
        }
      ]
    },
    {
      "cell_type": "code",
      "source": [
        "# This fixes the problem and does not include the endpoint\n",
        "random.randrange(0, 5)"
      ],
      "metadata": {
        "colab": {
          "base_uri": "https://localhost:8080/"
        },
        "id": "sCWvfE5h6Utt",
        "outputId": "959cab18-0ae9-4e3f-da14-07c9b12df2cc"
      },
      "execution_count": 64,
      "outputs": [
        {
          "output_type": "execute_result",
          "data": {
            "text/plain": [
              "1"
            ]
          },
          "metadata": {},
          "execution_count": 64
        }
      ]
    },
    {
      "cell_type": "markdown",
      "source": [
        "### d. The `random.choice()` Function\n",
        "- This function is passed a non-empty sequence and returns a random element from that sequence\n",
        "```\n",
        "random.choice(seq)\n",
        "```"
      ],
      "metadata": {
        "id": "daUOMiEW6cne"
      }
    },
    {
      "cell_type": "code",
      "source": [
        "import random\n",
        "\n",
        "# select a random element from a list\n",
        "list1 = ['Arif', 'Rauf', 'Mujahid']\n",
        "print(\"Random element from list: \", random.choice(list1))\n",
        "\n",
        "# select a random character from a string\n",
        "string = \"HappyLearning\"\n",
        "print(\"Fetching Random item from string: \", random.choice(string))\n",
        "\n",
        "# select a random item from a tuple\n",
        "tuple1 = (1, 2, 3, 4, 5)\n",
        "print(\"Fetching Random element from Tuple: \",random.choice(tuple1))"
      ],
      "metadata": {
        "colab": {
          "base_uri": "https://localhost:8080/"
        },
        "id": "USNBdlpV6Wgp",
        "outputId": "bdc00550-56ca-4493-a3de-94b5653566d7"
      },
      "execution_count": 70,
      "outputs": [
        {
          "output_type": "stream",
          "name": "stdout",
          "text": [
            "Random element from list:  Arif\n",
            "Fetching Random item from string:  i\n",
            "Fetching Random element from Tuple:  1\n"
          ]
        }
      ]
    },
    {
      "cell_type": "markdown",
      "source": [
        "## Bonus Info:\n",
        "- Before, we discuss Python's `time`, `datetime`, and `calendar` modules, let me put the stage right by having a brief discussion on the concept of time and time zones:\n",
        "\n",
        "### Calendar Time:\n",
        "- The time measured from some fixed/reference point is called real time and once category of it is calendar time. Some famous reference points and their corresponding calendars are:\n",
        "    - **Hijri Calendar** (AH), measures time from the year of Hijrat, when prophet Muhammad (Peace be upon Him) migrated from Mecca to Madina\n",
        "    - **Gregorian Calendar** (AD), measures time from birth year of Jesus Christ. AD stands for Anno Domini in Latin, means \"In the year of Jesus Christ\"\n",
        "    - **UNIX Calendar**, measures time from birth year of UNIX called UNIX epoch (00:00:00 UTC on 1 January 1970)\n",
        "\n",
        "### Time Zones:\n",
        "- Since noon happens at different times in different parts of the world, therefore, we have divided the world in different time zones.\n",
        "- On Mac, Linux, and Windows operating systems, the information about these time zones is kept in files.\n",
        "- Let me show you the contents of these files on my Mac system"
      ],
      "metadata": {
        "id": "8FeZOSg27ADu"
      }
    },
    {
      "cell_type": "code",
      "source": [
        "!ls /usr/share/zoneinfo/"
      ],
      "metadata": {
        "colab": {
          "base_uri": "https://localhost:8080/"
        },
        "id": "cVRXgBIY6wyg",
        "outputId": "d5ad5452-294e-4e14-fa56-d8679e84b412"
      },
      "execution_count": 71,
      "outputs": [
        {
          "output_type": "stream",
          "name": "stdout",
          "text": [
            "Africa\t    CET      Etc      Greenwich    Japan\t      MST7MDT\t  PRC\t     Universal\n",
            "America     Chile    Europe   Hongkong\t   Kwajalein\t      Navajo\t  PST8PDT    US\n",
            "Antarctica  CST6CDT  Factory  HST\t   leapseconds\t      NZ\t  right      UTC\n",
            "Arctic\t    Cuba     GB       Iceland\t   leap-seconds.list  NZ-CHAT\t  ROC\t     WET\n",
            "Asia\t    EET      GB-Eire  Indian\t   Libya\t      Pacific\t  ROK\t     W-SU\n",
            "Atlantic    Egypt    GMT      Iran\t   localtime\t      Poland\t  Singapore  zone1970.tab\n",
            "Australia   Eire     GMT+0    iso3166.tab  MET\t\t      Portugal\t  Turkey     zonenow.tab\n",
            "Brazil\t    EST      GMT-0    Israel\t   Mexico\t      posix\t  tzdata.zi  zone.tab\n",
            "Canada\t    EST5EDT  GMT0     Jamaica\t   MST\t\t      posixrules  UCT\t     Zulu\n"
          ]
        }
      ]
    },
    {
      "cell_type": "code",
      "source": [
        "!ls /usr/share/zoneinfo/Asia"
      ],
      "metadata": {
        "colab": {
          "base_uri": "https://localhost:8080/"
        },
        "id": "ITP35dfT7RYg",
        "outputId": "0875d85e-bc09-4414-8ba5-dd9ca048bbc8"
      },
      "execution_count": 72,
      "outputs": [
        {
          "output_type": "stream",
          "name": "stdout",
          "text": [
            "Aden\t   Bishkek     Gaza\t    Kathmandu\t  Novokuznetsk\tSeoul\t       Ulan_Bator\n",
            "Almaty\t   Brunei      Harbin\t    Katmandu\t  Novosibirsk\tShanghai       Urumqi\n",
            "Amman\t   Calcutta    Hebron\t    Khandyga\t  Omsk\t\tSingapore      Ust-Nera\n",
            "Anadyr\t   Chita       Ho_Chi_Minh  Kolkata\t  Oral\t\tSrednekolymsk  Vientiane\n",
            "Aqtau\t   Choibalsan  Hong_Kong    Krasnoyarsk   Phnom_Penh\tTaipei\t       Vladivostok\n",
            "Aqtobe\t   Chongqing   Hovd\t    Kuala_Lumpur  Pontianak\tTashkent       Yakutsk\n",
            "Ashgabat   Chungking   Irkutsk\t    Kuching\t  Pyongyang\tTbilisi        Yangon\n",
            "Ashkhabad  Colombo     Istanbul     Kuwait\t  Qatar\t\tTehran\t       Yekaterinburg\n",
            "Atyrau\t   Dacca       Jakarta\t    Macao\t  Qostanay\tTel_Aviv       Yerevan\n",
            "Baghdad    Damascus    Jayapura     Macau\t  Qyzylorda\tThimbu\n",
            "Bahrain    Dhaka       Jerusalem    Magadan\t  Rangoon\tThimphu\n",
            "Baku\t   Dili        Kabul\t    Makassar\t  Riyadh\tTokyo\n",
            "Bangkok    Dubai       Kamchatka    Manila\t  Saigon\tTomsk\n",
            "Barnaul    Dushanbe    Karachi\t    Muscat\t  Sakhalin\tUjung_Pandang\n",
            "Beirut\t   Famagusta   Kashgar\t    Nicosia\t  Samarkand\tUlaanbaatar\n"
          ]
        }
      ]
    },
    {
      "cell_type": "code",
      "source": [
        "! date"
      ],
      "metadata": {
        "colab": {
          "base_uri": "https://localhost:8080/"
        },
        "id": "Z_smOYny7dR7",
        "outputId": "877d63c9-cc35-4235-fa91-081446962485"
      },
      "execution_count": 73,
      "outputs": [
        {
          "output_type": "stream",
          "name": "stdout",
          "text": [
            "Mon Nov 25 10:46:47 AM UTC 2024\n"
          ]
        }
      ]
    },
    {
      "cell_type": "code",
      "source": [
        "time.ctime()"
      ],
      "metadata": {
        "colab": {
          "base_uri": "https://localhost:8080/",
          "height": 35
        },
        "id": "65tY-TDN7qDN",
        "outputId": "dee89387-cc2f-4a70-e5b2-3af53855f131"
      },
      "execution_count": 75,
      "outputs": [
        {
          "output_type": "execute_result",
          "data": {
            "text/plain": [
              "'Mon Nov 25 10:47:18 2024'"
            ],
            "application/vnd.google.colaboratory.intrinsic+json": {
              "type": "string"
            }
          },
          "metadata": {},
          "execution_count": 75
        }
      ]
    },
    {
      "cell_type": "markdown",
      "source": [
        "**On all UNIX based systems (Mac, Linux), `TZ` is an environment variable that can be set to any of the above files to get the date of that appropriate zone. By default the system is configured to set it to the local time of the country**"
      ],
      "metadata": {
        "id": "4EvdyyvGIzqe"
      }
    },
    {
      "cell_type": "code",
      "source": [
        "! date"
      ],
      "metadata": {
        "colab": {
          "base_uri": "https://localhost:8080/"
        },
        "id": "7gSxpA447vnU",
        "outputId": "86feb7a1-483a-4606-fe86-5f694789ffeb"
      },
      "execution_count": 76,
      "outputs": [
        {
          "output_type": "stream",
          "name": "stdout",
          "text": [
            "Mon Nov 25 11:44:49 AM UTC 2024\n"
          ]
        }
      ]
    },
    {
      "cell_type": "code",
      "source": [
        "! TZ=Asia/Karachi    date"
      ],
      "metadata": {
        "colab": {
          "base_uri": "https://localhost:8080/"
        },
        "id": "9c8baA6JI3rf",
        "outputId": "81c5ca41-d2b6-4f29-929e-2a8617e45419"
      },
      "execution_count": 77,
      "outputs": [
        {
          "output_type": "stream",
          "name": "stdout",
          "text": [
            "Mon Nov 25 04:45:02 PM PKT 2024\n"
          ]
        }
      ]
    },
    {
      "cell_type": "code",
      "source": [
        "! TZ=Asia/Calcutta   date"
      ],
      "metadata": {
        "colab": {
          "base_uri": "https://localhost:8080/"
        },
        "id": "CdBSanjZI80U",
        "outputId": "46aa9dd5-f38f-4011-a928-5bf4f0c4e203"
      },
      "execution_count": 78,
      "outputs": [
        {
          "output_type": "stream",
          "name": "stdout",
          "text": [
            "Mon Nov 25 05:15:22 PM IST 2024\n"
          ]
        }
      ]
    },
    {
      "cell_type": "code",
      "source": [
        "! TZ=America/Los-Angeles   date"
      ],
      "metadata": {
        "colab": {
          "base_uri": "https://localhost:8080/"
        },
        "id": "kxOnP3CbJAC9",
        "outputId": "210695b7-f3f6-4412-96e4-305493a6d4ec"
      },
      "execution_count": 79,
      "outputs": [
        {
          "output_type": "stream",
          "name": "stdout",
          "text": [
            "Mon Nov 25 11:45:32 AM America 2024\n"
          ]
        }
      ]
    },
    {
      "cell_type": "markdown",
      "source": [
        "## 5. The `time` Module\n",
        "- Python Time module is principally for working with UNIX time stamps; expressed as a floating point number taken to be seconds since the unix epoch (00:00:00 UTC on 1 January 1970)\n",
        "#### [Read Python Documentation for details about `time` module](https://docs.python.org/3/library/time.html#module-time)"
      ],
      "metadata": {
        "id": "-nSC-UnLJGDw"
      }
    },
    {
      "cell_type": "code",
      "source": [
        "import time\n",
        "\n",
        "# use dir() to get the list of complete functions in time module\n",
        "print(\"Existing functions in time module: \\n\\n\", dir(time))"
      ],
      "metadata": {
        "colab": {
          "base_uri": "https://localhost:8080/"
        },
        "id": "eg3SqUeVJCVt",
        "outputId": "e4b12361-b6c3-4d6f-e2ae-24e4347e0535"
      },
      "execution_count": 80,
      "outputs": [
        {
          "output_type": "stream",
          "name": "stdout",
          "text": [
            "Existing functions in time module: \n",
            "\n",
            " ['CLOCK_BOOTTIME', 'CLOCK_MONOTONIC', 'CLOCK_MONOTONIC_RAW', 'CLOCK_PROCESS_CPUTIME_ID', 'CLOCK_REALTIME', 'CLOCK_TAI', 'CLOCK_THREAD_CPUTIME_ID', '_STRUCT_TM_ITEMS', '__doc__', '__loader__', '__name__', '__package__', '__spec__', 'altzone', 'asctime', 'clock_getres', 'clock_gettime', 'clock_gettime_ns', 'clock_settime', 'clock_settime_ns', 'ctime', 'daylight', 'get_clock_info', 'gmtime', 'localtime', 'mktime', 'monotonic', 'monotonic_ns', 'perf_counter', 'perf_counter_ns', 'process_time', 'process_time_ns', 'pthread_getcpuclockid', 'sleep', 'strftime', 'strptime', 'struct_time', 'thread_time', 'thread_time_ns', 'time', 'time_ns', 'timezone', 'tzname', 'tzset']\n"
          ]
        }
      ]
    },
    {
      "cell_type": "markdown",
      "source": [
        "**(i) The `time.sleep(seconds)` method is used to delay execution for a given number of seconds. The argument may be a floating point number for subsecond precision.**"
      ],
      "metadata": {
        "id": "rLlZDqg3JOr4"
      }
    },
    {
      "cell_type": "code",
      "source": [
        "import time\n",
        "print(\"This is printed immediately.\")\n",
        "time.sleep(4)\n",
        "print(\"This is printed after 4 seconds.\")"
      ],
      "metadata": {
        "colab": {
          "base_uri": "https://localhost:8080/"
        },
        "id": "qAIJ1OlCJJJA",
        "outputId": "d40b6b98-c975-4596-e18c-483778a0a2ee"
      },
      "execution_count": 81,
      "outputs": [
        {
          "output_type": "stream",
          "name": "stdout",
          "text": [
            "This is printed immediately.\n",
            "This is printed after 4 seconds.\n"
          ]
        }
      ]
    },
    {
      "cell_type": "markdown",
      "source": [
        "**(ii) The `time.time()` method returns the current time in seconds since UNIX Epoch (00:00:00 UTC on 1 January 1970).**"
      ],
      "metadata": {
        "id": "KDiFnxpGJgPr"
      }
    },
    {
      "cell_type": "code",
      "source": [
        "import time\n",
        "seconds = time.time()\n",
        "seconds"
      ],
      "metadata": {
        "colab": {
          "base_uri": "https://localhost:8080/"
        },
        "id": "s44UZcUBJTEf",
        "outputId": "32e7db76-c00c-4e88-f2bc-f31bf7ed6e77"
      },
      "execution_count": 92,
      "outputs": [
        {
          "output_type": "execute_result",
          "data": {
            "text/plain": [
              "1732535567.7922027"
            ]
          },
          "metadata": {},
          "execution_count": 92
        }
      ]
    },
    {
      "cell_type": "code",
      "source": [
        "#Get time using shell command\n",
        "!date"
      ],
      "metadata": {
        "colab": {
          "base_uri": "https://localhost:8080/"
        },
        "id": "YTIMYpQ2JiiV",
        "outputId": "bcfe1bcb-d496-4c42-bc8f-6791094dce85"
      },
      "execution_count": 83,
      "outputs": [
        {
          "output_type": "stream",
          "name": "stdout",
          "text": [
            "Mon Nov 25 11:47:56 AM UTC 2024\n"
          ]
        }
      ]
    },
    {
      "cell_type": "code",
      "source": [
        "!date +%s"
      ],
      "metadata": {
        "colab": {
          "base_uri": "https://localhost:8080/"
        },
        "id": "pN_K19sYJlca",
        "outputId": "c71ca313-cd54-4c7b-db08-21468a2e8174"
      },
      "execution_count": 84,
      "outputs": [
        {
          "output_type": "stream",
          "name": "stdout",
          "text": [
            "1732535310\n"
          ]
        }
      ]
    },
    {
      "cell_type": "markdown",
      "source": [
        "**(iii) The `time.ctime(seconds)` method takes seconds passed since epoch as argument and returns a string representing local time.**"
      ],
      "metadata": {
        "id": "MgMy-A0iLpg9"
      }
    },
    {
      "cell_type": "code",
      "source": [
        "import time\n",
        "dtg1 = time.ctime(0)\n",
        "dtg1"
      ],
      "metadata": {
        "colab": {
          "base_uri": "https://localhost:8080/",
          "height": 35
        },
        "id": "kbmN-trlJuLH",
        "outputId": "d694d0f5-c307-4d09-f138-b25daddf002e"
      },
      "execution_count": 93,
      "outputs": [
        {
          "output_type": "execute_result",
          "data": {
            "text/plain": [
              "'Thu Jan  1 00:00:00 1970'"
            ],
            "application/vnd.google.colaboratory.intrinsic+json": {
              "type": "string"
            }
          },
          "metadata": {},
          "execution_count": 93
        }
      ]
    },
    {
      "cell_type": "code",
      "source": [
        "import time\n",
        "seconds = time.time()\n",
        "dtg2 = time.ctime(seconds)\n",
        "dtg2"
      ],
      "metadata": {
        "colab": {
          "base_uri": "https://localhost:8080/",
          "height": 35
        },
        "id": "HgFjgL6PLv9x",
        "outputId": "fe28e4c1-55a9-4bc6-a967-a3aa65eb0880"
      },
      "execution_count": 94,
      "outputs": [
        {
          "output_type": "execute_result",
          "data": {
            "text/plain": [
              "'Mon Nov 25 11:59:02 2024'"
            ],
            "application/vnd.google.colaboratory.intrinsic+json": {
              "type": "string"
            }
          },
          "metadata": {},
          "execution_count": 94
        }
      ]
    },
    {
      "cell_type": "markdown",
      "source": [
        "## 6. The `datetime` Module\n",
        "- The `datetime` module can support many of the same operations as `time` module, but provides a more object oriented set of types, and also has some limited support for time zones.\n",
        "#### [Read Python Documentation for details about `datetime` module](https://docs.python.org/3/library/datetime.html#module-datetime)"
      ],
      "metadata": {
        "id": "-ipiDYZtMU-I"
      }
    },
    {
      "cell_type": "code",
      "source": [
        "# import datetime module\n",
        "import datetime\n",
        "\n",
        "# use dir() to get the list of complete functions in datetime module\n",
        "print(\"Existing functions in datetime module: \\n\\n\", dir(datetime))"
      ],
      "metadata": {
        "colab": {
          "base_uri": "https://localhost:8080/"
        },
        "id": "VaCJHSsiMLlF",
        "outputId": "65686dca-4c72-4439-d180-c0932515f43e"
      },
      "execution_count": 95,
      "outputs": [
        {
          "output_type": "stream",
          "name": "stdout",
          "text": [
            "Existing functions in datetime module: \n",
            "\n",
            " ['MAXYEAR', 'MINYEAR', '__all__', '__builtins__', '__cached__', '__doc__', '__file__', '__loader__', '__name__', '__package__', '__spec__', 'date', 'datetime', 'datetime_CAPI', 'sys', 'time', 'timedelta', 'timezone', 'tzinfo']\n"
          ]
        }
      ]
    },
    {
      "cell_type": "code",
      "source": [
        "#The smallest year number allowed in a date or datetime object. MINYEAR is 1.\n",
        "datetime.MINYEAR"
      ],
      "metadata": {
        "colab": {
          "base_uri": "https://localhost:8080/"
        },
        "id": "6tjlz4jtMYib",
        "outputId": "3cb9af78-8656-4f22-8e11-76c8756155ea"
      },
      "execution_count": 96,
      "outputs": [
        {
          "output_type": "execute_result",
          "data": {
            "text/plain": [
              "1"
            ]
          },
          "metadata": {},
          "execution_count": 96
        }
      ]
    },
    {
      "cell_type": "code",
      "source": [
        "#The largest year number allowed in a date or datetime object. MAXYEAR is 9999.\n",
        "datetime.MAXYEAR"
      ],
      "metadata": {
        "colab": {
          "base_uri": "https://localhost:8080/"
        },
        "id": "sIBAEL4hMax0",
        "outputId": "81b70a19-2ccd-4640-d0e0-d5fde0432dfe"
      },
      "execution_count": 97,
      "outputs": [
        {
          "output_type": "execute_result",
          "data": {
            "text/plain": [
              "9999"
            ]
          },
          "metadata": {},
          "execution_count": 97
        }
      ]
    },
    {
      "cell_type": "markdown",
      "source": [
        "**(i) The `datetime.datetime.today()` and `datetime.datetime.now()` methods return a datetime object as per the time zone of the system**"
      ],
      "metadata": {
        "id": "_eVs7fMUM0z0"
      }
    },
    {
      "cell_type": "code",
      "source": [
        "dtg = datetime.datetime.today()\n",
        "dtg"
      ],
      "metadata": {
        "colab": {
          "base_uri": "https://localhost:8080/"
        },
        "id": "Ub9KTN2EMd5J",
        "outputId": "5411fa74-ad85-4a18-ca90-c3df2ffdd369"
      },
      "execution_count": 98,
      "outputs": [
        {
          "output_type": "execute_result",
          "data": {
            "text/plain": [
              "datetime.datetime(2024, 11, 25, 12, 2, 19, 883127)"
            ]
          },
          "metadata": {},
          "execution_count": 98
        }
      ]
    },
    {
      "cell_type": "code",
      "source": [
        "dtg = datetime.datetime.now()\n",
        "dtg"
      ],
      "metadata": {
        "colab": {
          "base_uri": "https://localhost:8080/"
        },
        "id": "5H8TwVZxMvjj",
        "outputId": "8e5d6485-3738-4db5-bd06-8864537170d5"
      },
      "execution_count": 101,
      "outputs": [
        {
          "output_type": "execute_result",
          "data": {
            "text/plain": [
              "datetime.datetime(2024, 11, 25, 12, 3, 5, 830883)"
            ]
          },
          "metadata": {},
          "execution_count": 101
        }
      ]
    },
    {
      "cell_type": "markdown",
      "source": [
        "**(ii) Let us explore some commonly used attributes related with the `datetime` object.**\n",
        "- `dtg.year:` returns the year\n",
        "- `dtg.month:` returns the month\n",
        "- `dtg.day:` returns the date\n",
        "- `dtg.hour:` returns the hour\n",
        "- `dtg.minute:` returns the minutes\n",
        "- `dtg.second:` returns the seconds\n",
        "- `dtg.microsecond:` returns the microseconds"
      ],
      "metadata": {
        "id": "b7osQAa2NSCO"
      }
    },
    {
      "cell_type": "code",
      "source": [
        "dtg.year"
      ],
      "metadata": {
        "colab": {
          "base_uri": "https://localhost:8080/"
        },
        "id": "ONlSUfpmNE2T",
        "outputId": "be73a1f4-507a-4700-cafd-6b420dd72f7e"
      },
      "execution_count": 102,
      "outputs": [
        {
          "output_type": "execute_result",
          "data": {
            "text/plain": [
              "2024"
            ]
          },
          "metadata": {},
          "execution_count": 102
        }
      ]
    },
    {
      "cell_type": "code",
      "source": [
        "dtg.month"
      ],
      "metadata": {
        "colab": {
          "base_uri": "https://localhost:8080/"
        },
        "id": "gUoeFgmBNWb8",
        "outputId": "f50bba2a-6480-4eaa-adaa-aa68a587c01c"
      },
      "execution_count": 103,
      "outputs": [
        {
          "output_type": "execute_result",
          "data": {
            "text/plain": [
              "11"
            ]
          },
          "metadata": {},
          "execution_count": 103
        }
      ]
    },
    {
      "cell_type": "code",
      "source": [
        "dtg.day"
      ],
      "metadata": {
        "colab": {
          "base_uri": "https://localhost:8080/"
        },
        "id": "yDVffGZlNYhN",
        "outputId": "d12e61bd-ed49-4b55-c851-522ff8c80ecf"
      },
      "execution_count": 104,
      "outputs": [
        {
          "output_type": "execute_result",
          "data": {
            "text/plain": [
              "25"
            ]
          },
          "metadata": {},
          "execution_count": 104
        }
      ]
    },
    {
      "cell_type": "code",
      "source": [
        "dtg.minute"
      ],
      "metadata": {
        "colab": {
          "base_uri": "https://localhost:8080/"
        },
        "id": "i7iRr06QNaJJ",
        "outputId": "ba35853f-1206-43b0-98f9-7ac4b4250ebf"
      },
      "execution_count": 105,
      "outputs": [
        {
          "output_type": "execute_result",
          "data": {
            "text/plain": [
              "3"
            ]
          },
          "metadata": {},
          "execution_count": 105
        }
      ]
    },
    {
      "cell_type": "code",
      "source": [
        "dtg.second"
      ],
      "metadata": {
        "colab": {
          "base_uri": "https://localhost:8080/"
        },
        "id": "OxJbXiiUNb89",
        "outputId": "1416d8f5-dd66-46d0-9a8a-4517ba5529f9"
      },
      "execution_count": 106,
      "outputs": [
        {
          "output_type": "execute_result",
          "data": {
            "text/plain": [
              "5"
            ]
          },
          "metadata": {},
          "execution_count": 106
        }
      ]
    },
    {
      "cell_type": "code",
      "source": [
        "dtg.hour"
      ],
      "metadata": {
        "colab": {
          "base_uri": "https://localhost:8080/"
        },
        "id": "MJtwEh9qNd6-",
        "outputId": "e08537d8-49cb-4e06-b9a6-b9c6ac593a08"
      },
      "execution_count": 107,
      "outputs": [
        {
          "output_type": "execute_result",
          "data": {
            "text/plain": [
              "12"
            ]
          },
          "metadata": {},
          "execution_count": 107
        }
      ]
    },
    {
      "cell_type": "markdown",
      "source": [
        "**(iii) The `datetime.datetime(year, month, day[, hour[, minute[, second[, microsecond[,tzinfo]]]]])` method is used to create a `datetime` object**"
      ],
      "metadata": {
        "id": "AnMcqrcyNkI6"
      }
    },
    {
      "cell_type": "code",
      "source": [
        "import datetime\n",
        "dtg = datetime.datetime(2021,12,31)\n",
        "print(dtg)\n",
        "print(type(dtg))"
      ],
      "metadata": {
        "colab": {
          "base_uri": "https://localhost:8080/"
        },
        "id": "ag7TDmYsNgyW",
        "outputId": "bb02fb1d-27d8-449e-bafb-35fddf8ae737"
      },
      "execution_count": 108,
      "outputs": [
        {
          "output_type": "stream",
          "name": "stdout",
          "text": [
            "2021-12-31 00:00:00\n",
            "<class 'datetime.datetime'>\n"
          ]
        }
      ]
    },
    {
      "cell_type": "code",
      "source": [
        "dtg = datetime.datetime(2021, 12, 31, 4, 30, 54, 678)\n",
        "dtg"
      ],
      "metadata": {
        "colab": {
          "base_uri": "https://localhost:8080/"
        },
        "id": "p4afG69QNrKG",
        "outputId": "3f9994d3-10a3-4a1e-afef-5941b78e8fd0"
      },
      "execution_count": 109,
      "outputs": [
        {
          "output_type": "execute_result",
          "data": {
            "text/plain": [
              "datetime.datetime(2021, 12, 31, 4, 30, 54, 678)"
            ]
          },
          "metadata": {},
          "execution_count": 109
        }
      ]
    },
    {
      "cell_type": "markdown",
      "source": [
        "**(iv)  The `datetime.time([hour[, minute[, second[, microsecond[, tzinfo]]]]]) ` methods returns a `time` object.**"
      ],
      "metadata": {
        "id": "CXPKRl8ANw4n"
      }
    },
    {
      "cell_type": "code",
      "source": [
        "t1 = datetime.time(10, 15, 54, 247)\n",
        "print(t1)\n",
        "print(type(t1))"
      ],
      "metadata": {
        "colab": {
          "base_uri": "https://localhost:8080/"
        },
        "id": "D9K_ckPINuFv",
        "outputId": "40b0663f-b363-403e-ce9e-67ed36127295"
      },
      "execution_count": 110,
      "outputs": [
        {
          "output_type": "stream",
          "name": "stdout",
          "text": [
            "10:15:54.000247\n",
            "<class 'datetime.time'>\n"
          ]
        }
      ]
    },
    {
      "cell_type": "markdown",
      "source": [
        "## 7. The `calendar` Module\n",
        "- This module allows you to output calendars like the Unix `cal` program, and provides additional useful functions related to the calendar. By default, these calendars have Monday as the first day of the week, and Sunday as the last\n",
        "#### [Read Python Documentation for details about `calendar` module](https://docs.python.org/3/library/calendar.html#module-calendar)"
      ],
      "metadata": {
        "id": "Uz5Lg2gnN31s"
      }
    },
    {
      "cell_type": "code",
      "source": [
        "import calendar\n",
        "\n",
        "# use dir() to get the list of complete functions in calendar module\n",
        "print(\"Existing functions in calendar module: \\n\\n\", dir(calendar))"
      ],
      "metadata": {
        "colab": {
          "base_uri": "https://localhost:8080/"
        },
        "id": "yWkqsoTMN49b",
        "outputId": "96691ef4-1b17-441b-d981-2ac1ef544823"
      },
      "execution_count": 111,
      "outputs": [
        {
          "output_type": "stream",
          "name": "stdout",
          "text": [
            "Existing functions in calendar module: \n",
            "\n",
            " ['Calendar', 'EPOCH', 'FRIDAY', 'February', 'HTMLCalendar', 'IllegalMonthError', 'IllegalWeekdayError', 'January', 'LocaleHTMLCalendar', 'LocaleTextCalendar', 'MONDAY', 'SATURDAY', 'SUNDAY', 'THURSDAY', 'TUESDAY', 'TextCalendar', 'WEDNESDAY', '_EPOCH_ORD', '__all__', '__builtins__', '__cached__', '__doc__', '__file__', '__loader__', '__name__', '__package__', '__spec__', '_colwidth', '_locale', '_localized_day', '_localized_month', '_monthlen', '_nextmonth', '_prevmonth', '_spacing', 'c', 'calendar', 'datetime', 'day_abbr', 'day_name', 'different_locale', 'error', 'firstweekday', 'format', 'formatstring', 'isleap', 'leapdays', 'main', 'mdays', 'month', 'month_abbr', 'month_name', 'monthcalendar', 'monthrange', 'prcal', 'prmonth', 'prweek', 'repeat', 'setfirstweekday', 'sys', 'timegm', 'week', 'weekday', 'weekheader']\n"
          ]
        }
      ]
    },
    {
      "cell_type": "code",
      "source": [
        "# calendar() method to print the calendar of whole year\n",
        "cy = calendar.calendar(2021)\n",
        "print(cy)"
      ],
      "metadata": {
        "colab": {
          "base_uri": "https://localhost:8080/"
        },
        "id": "rFWAZQGkN7EO",
        "outputId": "ebc698d5-16df-4584-9fe1-23a45e0323b8"
      },
      "execution_count": 112,
      "outputs": [
        {
          "output_type": "stream",
          "name": "stdout",
          "text": [
            "                                  2021\n",
            "\n",
            "      January                   February                   March\n",
            "Mo Tu We Th Fr Sa Su      Mo Tu We Th Fr Sa Su      Mo Tu We Th Fr Sa Su\n",
            "             1  2  3       1  2  3  4  5  6  7       1  2  3  4  5  6  7\n",
            " 4  5  6  7  8  9 10       8  9 10 11 12 13 14       8  9 10 11 12 13 14\n",
            "11 12 13 14 15 16 17      15 16 17 18 19 20 21      15 16 17 18 19 20 21\n",
            "18 19 20 21 22 23 24      22 23 24 25 26 27 28      22 23 24 25 26 27 28\n",
            "25 26 27 28 29 30 31                                29 30 31\n",
            "\n",
            "       April                      May                       June\n",
            "Mo Tu We Th Fr Sa Su      Mo Tu We Th Fr Sa Su      Mo Tu We Th Fr Sa Su\n",
            "          1  2  3  4                      1  2          1  2  3  4  5  6\n",
            " 5  6  7  8  9 10 11       3  4  5  6  7  8  9       7  8  9 10 11 12 13\n",
            "12 13 14 15 16 17 18      10 11 12 13 14 15 16      14 15 16 17 18 19 20\n",
            "19 20 21 22 23 24 25      17 18 19 20 21 22 23      21 22 23 24 25 26 27\n",
            "26 27 28 29 30            24 25 26 27 28 29 30      28 29 30\n",
            "                          31\n",
            "\n",
            "        July                     August                  September\n",
            "Mo Tu We Th Fr Sa Su      Mo Tu We Th Fr Sa Su      Mo Tu We Th Fr Sa Su\n",
            "          1  2  3  4                         1             1  2  3  4  5\n",
            " 5  6  7  8  9 10 11       2  3  4  5  6  7  8       6  7  8  9 10 11 12\n",
            "12 13 14 15 16 17 18       9 10 11 12 13 14 15      13 14 15 16 17 18 19\n",
            "19 20 21 22 23 24 25      16 17 18 19 20 21 22      20 21 22 23 24 25 26\n",
            "26 27 28 29 30 31         23 24 25 26 27 28 29      27 28 29 30\n",
            "                          30 31\n",
            "\n",
            "      October                   November                  December\n",
            "Mo Tu We Th Fr Sa Su      Mo Tu We Th Fr Sa Su      Mo Tu We Th Fr Sa Su\n",
            "             1  2  3       1  2  3  4  5  6  7             1  2  3  4  5\n",
            " 4  5  6  7  8  9 10       8  9 10 11 12 13 14       6  7  8  9 10 11 12\n",
            "11 12 13 14 15 16 17      15 16 17 18 19 20 21      13 14 15 16 17 18 19\n",
            "18 19 20 21 22 23 24      22 23 24 25 26 27 28      20 21 22 23 24 25 26\n",
            "25 26 27 28 29 30 31      29 30                     27 28 29 30 31\n",
            "\n"
          ]
        }
      ]
    },
    {
      "cell_type": "code",
      "source": [
        "import calendar\n",
        "# month() method is used to print calendar of specific month\n",
        "\n",
        "#print calendar of November 2021\n",
        "c = calendar.month(2021,11)\n",
        "print(c)"
      ],
      "metadata": {
        "colab": {
          "base_uri": "https://localhost:8080/"
        },
        "id": "w2CX4FBHN-Yl",
        "outputId": "1d185857-cb7d-467d-c195-75fc08da49eb"
      },
      "execution_count": 113,
      "outputs": [
        {
          "output_type": "stream",
          "name": "stdout",
          "text": [
            "   November 2021\n",
            "Mo Tu We Th Fr Sa Su\n",
            " 1  2  3  4  5  6  7\n",
            " 8  9 10 11 12 13 14\n",
            "15 16 17 18 19 20 21\n",
            "22 23 24 25 26 27 28\n",
            "29 30\n",
            "\n"
          ]
        }
      ]
    },
    {
      "cell_type": "code",
      "source": [
        "import calendar\n",
        "# can check wether the year is leap year or not\n",
        "print(\"2021 is leap year: \", calendar.isleap(2021))\n",
        "\n",
        "print(\"2020 was be leap year: \", calendar.isleap(2020))"
      ],
      "metadata": {
        "colab": {
          "base_uri": "https://localhost:8080/"
        },
        "id": "uwyDgQ4xOA5r",
        "outputId": "9c6ed719-6aed-4dc0-da76-aedbb6d32a6d"
      },
      "execution_count": 114,
      "outputs": [
        {
          "output_type": "stream",
          "name": "stdout",
          "text": [
            "2021 is leap year:  False\n",
            "2020 was be leap year:  True\n"
          ]
        }
      ]
    },
    {
      "cell_type": "markdown",
      "source": [
        "## 8. The `os` Module\n",
        "- This module provides a portable way of using operating system dependent functionality and provides dozens of functions for interacting with the operating system\n",
        "#### [Read Python Documentation for details about `os` module](https://docs.python.org/3/library/os.html#module-os)"
      ],
      "metadata": {
        "id": "1saZIKXUOFFD"
      }
    },
    {
      "cell_type": "code",
      "source": [
        "import os\n",
        "# to get the list of complete functions in OS module\n",
        "print(\"Existing functions in OS module: \\n\\n\", dir(os))\n"
      ],
      "metadata": {
        "colab": {
          "base_uri": "https://localhost:8080/"
        },
        "id": "FzCS794LOC09",
        "outputId": "75381245-dd1c-4681-d96a-d48171c0a2d9"
      },
      "execution_count": 115,
      "outputs": [
        {
          "output_type": "stream",
          "name": "stdout",
          "text": [
            "Existing functions in OS module: \n",
            "\n",
            " ['CLD_CONTINUED', 'CLD_DUMPED', 'CLD_EXITED', 'CLD_KILLED', 'CLD_STOPPED', 'CLD_TRAPPED', 'DirEntry', 'EFD_CLOEXEC', 'EFD_NONBLOCK', 'EFD_SEMAPHORE', 'EX_CANTCREAT', 'EX_CONFIG', 'EX_DATAERR', 'EX_IOERR', 'EX_NOHOST', 'EX_NOINPUT', 'EX_NOPERM', 'EX_NOUSER', 'EX_OK', 'EX_OSERR', 'EX_OSFILE', 'EX_PROTOCOL', 'EX_SOFTWARE', 'EX_TEMPFAIL', 'EX_UNAVAILABLE', 'EX_USAGE', 'F_LOCK', 'F_OK', 'F_TEST', 'F_TLOCK', 'F_ULOCK', 'GRND_NONBLOCK', 'GRND_RANDOM', 'GenericAlias', 'MFD_ALLOW_SEALING', 'MFD_CLOEXEC', 'MFD_HUGETLB', 'MFD_HUGE_16GB', 'MFD_HUGE_16MB', 'MFD_HUGE_1GB', 'MFD_HUGE_1MB', 'MFD_HUGE_256MB', 'MFD_HUGE_2GB', 'MFD_HUGE_2MB', 'MFD_HUGE_32MB', 'MFD_HUGE_512KB', 'MFD_HUGE_512MB', 'MFD_HUGE_64KB', 'MFD_HUGE_8MB', 'MFD_HUGE_MASK', 'MFD_HUGE_SHIFT', 'Mapping', 'MutableMapping', 'NGROUPS_MAX', 'O_ACCMODE', 'O_APPEND', 'O_ASYNC', 'O_CLOEXEC', 'O_CREAT', 'O_DIRECT', 'O_DIRECTORY', 'O_DSYNC', 'O_EXCL', 'O_FSYNC', 'O_LARGEFILE', 'O_NDELAY', 'O_NOATIME', 'O_NOCTTY', 'O_NOFOLLOW', 'O_NONBLOCK', 'O_PATH', 'O_RDONLY', 'O_RDWR', 'O_RSYNC', 'O_SYNC', 'O_TMPFILE', 'O_TRUNC', 'O_WRONLY', 'POSIX_FADV_DONTNEED', 'POSIX_FADV_NOREUSE', 'POSIX_FADV_NORMAL', 'POSIX_FADV_RANDOM', 'POSIX_FADV_SEQUENTIAL', 'POSIX_FADV_WILLNEED', 'POSIX_SPAWN_CLOSE', 'POSIX_SPAWN_DUP2', 'POSIX_SPAWN_OPEN', 'PRIO_PGRP', 'PRIO_PROCESS', 'PRIO_USER', 'P_ALL', 'P_NOWAIT', 'P_NOWAITO', 'P_PGID', 'P_PID', 'P_PIDFD', 'P_WAIT', 'PathLike', 'RTLD_DEEPBIND', 'RTLD_GLOBAL', 'RTLD_LAZY', 'RTLD_LOCAL', 'RTLD_NODELETE', 'RTLD_NOLOAD', 'RTLD_NOW', 'RWF_APPEND', 'RWF_DSYNC', 'RWF_HIPRI', 'RWF_NOWAIT', 'RWF_SYNC', 'R_OK', 'SCHED_BATCH', 'SCHED_FIFO', 'SCHED_IDLE', 'SCHED_OTHER', 'SCHED_RESET_ON_FORK', 'SCHED_RR', 'SEEK_CUR', 'SEEK_DATA', 'SEEK_END', 'SEEK_HOLE', 'SEEK_SET', 'SPLICE_F_MORE', 'SPLICE_F_MOVE', 'SPLICE_F_NONBLOCK', 'ST_APPEND', 'ST_MANDLOCK', 'ST_NOATIME', 'ST_NODEV', 'ST_NODIRATIME', 'ST_NOEXEC', 'ST_NOSUID', 'ST_RDONLY', 'ST_RELATIME', 'ST_SYNCHRONOUS', 'ST_WRITE', 'TMP_MAX', 'WCONTINUED', 'WCOREDUMP', 'WEXITED', 'WEXITSTATUS', 'WIFCONTINUED', 'WIFEXITED', 'WIFSIGNALED', 'WIFSTOPPED', 'WNOHANG', 'WNOWAIT', 'WSTOPPED', 'WSTOPSIG', 'WTERMSIG', 'WUNTRACED', 'W_OK', 'XATTR_CREATE', 'XATTR_REPLACE', 'XATTR_SIZE_MAX', 'X_OK', '_Environ', '__all__', '__builtins__', '__cached__', '__doc__', '__file__', '__loader__', '__name__', '__package__', '__spec__', '_check_methods', '_execvpe', '_exists', '_exit', '_fspath', '_fwalk', '_get_exports_list', '_spawnvef', '_walk', '_wrap_close', 'abc', 'abort', 'access', 'altsep', 'chdir', 'chmod', 'chown', 'chroot', 'close', 'closerange', 'confstr', 'confstr_names', 'copy_file_range', 'cpu_count', 'ctermid', 'curdir', 'defpath', 'device_encoding', 'devnull', 'dup', 'dup2', 'environ', 'environb', 'error', 'eventfd', 'eventfd_read', 'eventfd_write', 'execl', 'execle', 'execlp', 'execlpe', 'execv', 'execve', 'execvp', 'execvpe', 'extsep', 'fchdir', 'fchmod', 'fchown', 'fdatasync', 'fdopen', 'fork', 'forkpty', 'fpathconf', 'fsdecode', 'fsencode', 'fspath', 'fstat', 'fstatvfs', 'fsync', 'ftruncate', 'fwalk', 'get_blocking', 'get_exec_path', 'get_inheritable', 'get_terminal_size', 'getcwd', 'getcwdb', 'getegid', 'getenv', 'getenvb', 'geteuid', 'getgid', 'getgrouplist', 'getgroups', 'getloadavg', 'getlogin', 'getpgid', 'getpgrp', 'getpid', 'getppid', 'getpriority', 'getrandom', 'getresgid', 'getresuid', 'getsid', 'getuid', 'getxattr', 'initgroups', 'isatty', 'kill', 'killpg', 'lchown', 'linesep', 'link', 'listdir', 'listxattr', 'lockf', 'lseek', 'lstat', 'major', 'makedev', 'makedirs', 'memfd_create', 'minor', 'mkdir', 'mkfifo', 'mknod', 'name', 'nice', 'open', 'openpty', 'pardir', 'path', 'pathconf', 'pathconf_names', 'pathsep', 'pidfd_open', 'pipe', 'pipe2', 'popen', 'posix_fadvise', 'posix_fallocate', 'posix_spawn', 'posix_spawnp', 'pread', 'preadv', 'putenv', 'pwrite', 'pwritev', 'read', 'readlink', 'readv', 'register_at_fork', 'remove', 'removedirs', 'removexattr', 'rename', 'renames', 'replace', 'rmdir', 'scandir', 'sched_get_priority_max', 'sched_get_priority_min', 'sched_getaffinity', 'sched_getparam', 'sched_getscheduler', 'sched_param', 'sched_rr_get_interval', 'sched_setaffinity', 'sched_setparam', 'sched_setscheduler', 'sched_yield', 'sendfile', 'sep', 'set_blocking', 'set_inheritable', 'setegid', 'seteuid', 'setgid', 'setgroups', 'setpgid', 'setpgrp', 'setpriority', 'setregid', 'setresgid', 'setresuid', 'setreuid', 'setsid', 'setuid', 'setxattr', 'spawnl', 'spawnle', 'spawnlp', 'spawnlpe', 'spawnv', 'spawnve', 'spawnvp', 'spawnvpe', 'splice', 'st', 'stat', 'stat_result', 'statvfs', 'statvfs_result', 'strerror', 'supports_bytes_environ', 'supports_dir_fd', 'supports_effective_ids', 'supports_fd', 'supports_follow_symlinks', 'symlink', 'sync', 'sys', 'sysconf', 'sysconf_names', 'system', 'tcgetpgrp', 'tcsetpgrp', 'terminal_size', 'times', 'times_result', 'truncate', 'ttyname', 'umask', 'uname', 'uname_result', 'unlink', 'unsetenv', 'urandom', 'utime', 'wait', 'wait3', 'wait4', 'waitid', 'waitid_result', 'waitpid', 'waitstatus_to_exitcode', 'walk', 'write', 'writev']\n"
          ]
        }
      ]
    },
    {
      "cell_type": "markdown",
      "source": [
        "### a. The `os.getcwd()`  and `os.listdir()` Function\n",
        "- The `os.getcwd()` return a unicode string representing the current working directory.\n",
        "- The `os.listdir(path=None)` return a list containing the names of the files in the pwd in arbitrary order. Does not display '.' and '..' directories. An optional path can be specified\n"
      ],
      "metadata": {
        "id": "bc17Vx4LOLg2"
      }
    },
    {
      "cell_type": "code",
      "source": [
        "import os\n",
        "\n",
        "# getcwd() function is used to return the current working directory\n",
        "cwd = os.getcwd()\n",
        "print(\"Current working directory:\\n\", cwd )\n",
        "\n",
        "# lisdir() function is used to return the contents of current working directory\n",
        "mylist = os.listdir(os.getcwd())\n",
        "print(\"\\nContents of directory: \\n\", mylist )\n"
      ],
      "metadata": {
        "colab": {
          "base_uri": "https://localhost:8080/"
        },
        "id": "-fPTrqWcOILa",
        "outputId": "56a9a6cd-65f3-4008-b758-bb5a3c6bb1ee"
      },
      "execution_count": 116,
      "outputs": [
        {
          "output_type": "stream",
          "name": "stdout",
          "text": [
            "Current working directory:\n",
            " /content\n",
            "\n",
            "Contents of directory: \n",
            " ['.config', 'sample_data']\n"
          ]
        }
      ]
    },
    {
      "cell_type": "markdown",
      "source": [
        "### b. The `os.chdir()` Function\n",
        "- The `os.chdir(path)` function is used to change the current working directory to the specified path."
      ],
      "metadata": {
        "id": "4cFo6hDrOVF_"
      }
    },
    {
      "cell_type": "code",
      "source": [
        "import os\n",
        "\n",
        "print(\"Get current working directory:\\n\", os.getcwd())\n",
        "\n",
        "os.chdir('/Users/arif/')\n",
        "#os.chdir('C:\\\\Users\\Arif\\Desktop')\n",
        "\n",
        "print(\"Get current working directory again:\\n\", os.getcwd())"
      ],
      "metadata": {
        "colab": {
          "base_uri": "https://localhost:8080/",
          "height": 245
        },
        "id": "qrltLx6KOPoW",
        "outputId": "56074c17-9ac2-49e3-c8df-983d8445402f"
      },
      "execution_count": 117,
      "outputs": [
        {
          "output_type": "stream",
          "name": "stdout",
          "text": [
            "Get current working directory:\n",
            " /content\n"
          ]
        },
        {
          "output_type": "error",
          "ename": "FileNotFoundError",
          "evalue": "[Errno 2] No such file or directory: '/Users/arif/'",
          "traceback": [
            "\u001b[0;31m---------------------------------------------------------------------------\u001b[0m",
            "\u001b[0;31mFileNotFoundError\u001b[0m                         Traceback (most recent call last)",
            "\u001b[0;32m<ipython-input-117-d1dfc17d799e>\u001b[0m in \u001b[0;36m<cell line: 5>\u001b[0;34m()\u001b[0m\n\u001b[1;32m      3\u001b[0m \u001b[0mprint\u001b[0m\u001b[0;34m(\u001b[0m\u001b[0;34m\"Get current working directory:\\n\"\u001b[0m\u001b[0;34m,\u001b[0m \u001b[0mos\u001b[0m\u001b[0;34m.\u001b[0m\u001b[0mgetcwd\u001b[0m\u001b[0;34m(\u001b[0m\u001b[0;34m)\u001b[0m\u001b[0;34m)\u001b[0m\u001b[0;34m\u001b[0m\u001b[0;34m\u001b[0m\u001b[0m\n\u001b[1;32m      4\u001b[0m \u001b[0;34m\u001b[0m\u001b[0m\n\u001b[0;32m----> 5\u001b[0;31m \u001b[0mos\u001b[0m\u001b[0;34m.\u001b[0m\u001b[0mchdir\u001b[0m\u001b[0;34m(\u001b[0m\u001b[0;34m'/Users/arif/'\u001b[0m\u001b[0;34m)\u001b[0m\u001b[0;34m\u001b[0m\u001b[0;34m\u001b[0m\u001b[0m\n\u001b[0m\u001b[1;32m      6\u001b[0m \u001b[0;31m#os.chdir('C:\\\\Users\\Arif\\Desktop')\u001b[0m\u001b[0;34m\u001b[0m\u001b[0;34m\u001b[0m\u001b[0m\n\u001b[1;32m      7\u001b[0m \u001b[0;34m\u001b[0m\u001b[0m\n",
            "\u001b[0;31mFileNotFoundError\u001b[0m: [Errno 2] No such file or directory: '/Users/arif/'"
          ]
        }
      ]
    },
    {
      "cell_type": "markdown",
      "source": [
        "### c. The   `os.mkdir()` and `os.rmdir()`Function\n",
        "- The `os.mkdir(path)` funcion creates a new directory\n",
        "- The `os.rmdir(path)` funcion removes a directory\n"
      ],
      "metadata": {
        "id": "f36WzXTHOciU"
      }
    },
    {
      "cell_type": "code",
      "source": [
        "import os\n",
        "\n",
        "os.chdir('/Users/arif/Documents/')\n",
        "\n",
        "list1 = os.listdir(os.getcwd())\n",
        "print(\"Contents of directory: \", list1)\n",
        "\n",
        "os.mkdir(\"ANewDir\")\n",
        "list2 = os.listdir(os.getcwd())\n",
        "print(\"Contents of directory: \", list2)\n",
        "\n",
        "os.rmdir(\"ANewDir\")\n",
        "list3 = os.listdir(os.getcwd())\n",
        "print(\"Contents of directory: \", list3)\n",
        "\n"
      ],
      "metadata": {
        "colab": {
          "base_uri": "https://localhost:8080/",
          "height": 211
        },
        "id": "hyDgDvIaOeE8",
        "outputId": "26aa4225-f90e-4edf-962a-cdb040ebbd20"
      },
      "execution_count": 119,
      "outputs": [
        {
          "output_type": "error",
          "ename": "FileNotFoundError",
          "evalue": "[Errno 2] No such file or directory: '/Users/arif/Documents/'",
          "traceback": [
            "\u001b[0;31m---------------------------------------------------------------------------\u001b[0m",
            "\u001b[0;31mFileNotFoundError\u001b[0m                         Traceback (most recent call last)",
            "\u001b[0;32m<ipython-input-119-a2dd8f99c1c2>\u001b[0m in \u001b[0;36m<cell line: 3>\u001b[0;34m()\u001b[0m\n\u001b[1;32m      1\u001b[0m \u001b[0;32mimport\u001b[0m \u001b[0mos\u001b[0m\u001b[0;34m\u001b[0m\u001b[0;34m\u001b[0m\u001b[0m\n\u001b[1;32m      2\u001b[0m \u001b[0;34m\u001b[0m\u001b[0m\n\u001b[0;32m----> 3\u001b[0;31m \u001b[0mos\u001b[0m\u001b[0;34m.\u001b[0m\u001b[0mchdir\u001b[0m\u001b[0;34m(\u001b[0m\u001b[0;34m'/Users/arif/Documents/'\u001b[0m\u001b[0;34m)\u001b[0m\u001b[0;34m\u001b[0m\u001b[0;34m\u001b[0m\u001b[0m\n\u001b[0m\u001b[1;32m      4\u001b[0m \u001b[0;34m\u001b[0m\u001b[0m\n\u001b[1;32m      5\u001b[0m \u001b[0mlist1\u001b[0m \u001b[0;34m=\u001b[0m \u001b[0mos\u001b[0m\u001b[0;34m.\u001b[0m\u001b[0mlistdir\u001b[0m\u001b[0;34m(\u001b[0m\u001b[0mos\u001b[0m\u001b[0;34m.\u001b[0m\u001b[0mgetcwd\u001b[0m\u001b[0;34m(\u001b[0m\u001b[0;34m)\u001b[0m\u001b[0;34m)\u001b[0m\u001b[0;34m\u001b[0m\u001b[0;34m\u001b[0m\u001b[0m\n",
            "\u001b[0;31mFileNotFoundError\u001b[0m: [Errno 2] No such file or directory: '/Users/arif/Documents/'"
          ]
        }
      ]
    },
    {
      "cell_type": "code",
      "source": [
        "help(os.system)"
      ],
      "metadata": {
        "colab": {
          "base_uri": "https://localhost:8080/"
        },
        "id": "IkQPiCdnOhY6",
        "outputId": "1c31809f-bdfd-45ae-c7f6-f373c8855bfc"
      },
      "execution_count": 118,
      "outputs": [
        {
          "output_type": "stream",
          "name": "stdout",
          "text": [
            "Help on built-in function system in module posix:\n",
            "\n",
            "system(command)\n",
            "    Execute the command in a subshell.\n",
            "\n"
          ]
        }
      ]
    },
    {
      "cell_type": "markdown",
      "source": [
        "### d. The   `os.system()` Function\n",
        "- The `os.system(command)` method is used to execute the command in a subshell"
      ],
      "metadata": {
        "id": "q-IAsnRrPKBl"
      }
    },
    {
      "cell_type": "code",
      "source": [
        "import os\n",
        "\n",
        "os.system('ls -l    /Users/')\n",
        "\n",
        "print(\"\\n\")\n",
        "os.system('echo \"This is getting more and more interesting\"')\n",
        "\n",
        "print(\"\\n\")\n",
        "os.system('date')"
      ],
      "metadata": {
        "id": "_VFIHvizOh3q"
      },
      "execution_count": null,
      "outputs": []
    },
    {
      "cell_type": "markdown",
      "source": [
        "## 9. The `threading` Module\n",
        "- A thread is an entity within a process that can be scheduled for execution. Also, it is the smallest unit of processing that can be performed in an OS (Operating System).\n",
        "- In simple words, a thread is a sequence of such instructions within a program that can be executed independently of other code. For simplicity, you can assume that a thread is simply a subset of a process!\n",
        "- A thread contains all this information in a Thread Control Block (TCB):\n",
        " - Thread Identifier: Unique id (TID) is assigned to every new thread\n",
        " - Stack pointer: Points to thread’s stack in the process. Stack contains the local variables under thread’s scope.\n",
        " - Program counter: a register which stores the address of the instruction currently being executed by thread.\n",
        " - Thread state: can be running, ready, waiting, start or done.\n",
        " - Thread’s register set: registers assigned to thread for computations.\n",
        " - Parent process Pointer: A pointer to the Process control block (PCB) of the process that the thread lives on.\n",
        "#### [Read Python Documentation for details about `threading` module](https://docs.python.org/3/library/threading.html#module-threading)"
      ],
      "metadata": {
        "id": "ISekf4A6gMQl"
      }
    },
    {
      "cell_type": "code",
      "source": [
        "# Python program to illustrate the concept of threading\n",
        "import threading\n",
        "import os\n",
        "import time\n",
        "\n",
        "def display1():\n",
        "    for i in range(4):\n",
        "        print(\"\\nI am Thread1 and my PID is {}\". format(os.getpid()))\n",
        "        time.sleep(2)\n",
        "\n",
        "def display2():\n",
        "    for i in range(4):\n",
        "        print(\"\\nI am Thread2 and my PID is {}\". format(os.getpid()))\n",
        "        time.sleep(2)\n",
        "\n",
        "# creating thread\n",
        "t1 = threading.Thread(target=display1)\n",
        "t2 = threading.Thread(target=display2)\n",
        "\n",
        "\n",
        "t1.start()\n",
        "t2.start()\n",
        "\n",
        "# wait until thread 1 is completely executed\n",
        "t1.join()\n",
        "# wait until thread 2 is completely executed\n",
        "t2.join()\n",
        "\n",
        "# both threads completely executed\n",
        "print(\"Done!\")"
      ],
      "metadata": {
        "colab": {
          "base_uri": "https://localhost:8080/"
        },
        "id": "pPhVuWTRgNYu",
        "outputId": "2cfa369f-cbdf-4c5e-b808-e1e57c1f9050"
      },
      "execution_count": 120,
      "outputs": [
        {
          "output_type": "stream",
          "name": "stdout",
          "text": [
            "\n",
            "I am Thread1 and my PID is 299\n",
            "\n",
            "I am Thread2 and my PID is 299\n",
            "\n",
            "I am Thread1 and my PID is 299\n",
            "\n",
            "I am Thread2 and my PID is 299\n",
            "\n",
            "I am Thread1 and my PID is 299\n",
            "\n",
            "I am Thread2 and my PID is 299\n",
            "\n",
            "I am Thread1 and my PID is 299\n",
            "\n",
            "I am Thread2 and my PID is 299\n",
            "Done!\n"
          ]
        }
      ]
    },
    {
      "cell_type": "markdown",
      "source": [
        "## 10. The `urllib` Package\n",
        "- The `urllib` package in Python 3 is a collection of following Python modules used for working with Uniform Resource Locators:\n",
        "    - `urllib.request` for opening and reading URLs, using variety of protocols\n",
        "    - `urllib.error` containing the exceptions raised by urllib.request\n",
        "    - `urllib.parse` for parsing URLs\n",
        "    - `urllib.robotparser` for parsing robots.txt files\n",
        "\n",
        "#### [Read Python Documentation for details about `urllib` package](https://docs.python.org/3/library/urllib.html#module-urllib)"
      ],
      "metadata": {
        "id": "MonFXPGFgiw6"
      }
    },
    {
      "cell_type": "markdown",
      "source": [
        "## Create a GitHub Hist"
      ],
      "metadata": {
        "id": "9bnenNz0gn1W"
      }
    },
    {
      "cell_type": "markdown",
      "source": [
        ">**The `urllib.request.urlopen()`, may return a URLError saying `SSL: CERTIFICATE_VERIFY_FAILED`. To handle this error set  the `_create_default_https_context` attribute of `ssl` to `_create_unverified_context`**"
      ],
      "metadata": {
        "id": "MJVb8J0Fgq9y"
      }
    },
    {
      "cell_type": "code",
      "source": [
        "import ssl\n",
        "ssl._create_default_https_context = ssl._create_unverified_context"
      ],
      "metadata": {
        "id": "swr_k4f1gfIz"
      },
      "execution_count": 123,
      "outputs": []
    },
    {
      "cell_type": "markdown",
      "source": [
        "### b. The   `urllib.request.urlretrieve()` Function\n",
        "- The `urllib.request.urlretrieve(url, filename=None)` method is used to retrieve a remote file into a temporary location on disk.\n",
        "- Let us download a public csv file from github gist"
      ],
      "metadata": {
        "id": "baBxPRD0gzkh"
      }
    },
    {
      "cell_type": "code",
      "source": [
        "import urllib\n",
        "\n",
        "#Get the raw data url from your github gist account\n",
        "myurl = 'https://gist.githubusercontent.com/arifpucit/bbcb0bba0b5c245585b375f273f17876/raw/6c64ac3e1d2ce9d91c5dfcc652387ad9c3fb6293/family.csv'\n",
        "\n",
        "\n",
        "urllib.request.urlretrieve(myurl, './downloads/family.csv')\n"
      ],
      "metadata": {
        "colab": {
          "base_uri": "https://localhost:8080/",
          "height": 297
        },
        "id": "UbsH1rgOgv6k",
        "outputId": "022ae1f8-9f43-4143-fd6f-a367f36fa06c"
      },
      "execution_count": 122,
      "outputs": [
        {
          "output_type": "error",
          "ename": "FileNotFoundError",
          "evalue": "[Errno 2] No such file or directory: './downloads/family.csv'",
          "traceback": [
            "\u001b[0;31m---------------------------------------------------------------------------\u001b[0m",
            "\u001b[0;31mFileNotFoundError\u001b[0m                         Traceback (most recent call last)",
            "\u001b[0;32m<ipython-input-122-83e3ba11838d>\u001b[0m in \u001b[0;36m<cell line: 7>\u001b[0;34m()\u001b[0m\n\u001b[1;32m      5\u001b[0m \u001b[0;34m\u001b[0m\u001b[0m\n\u001b[1;32m      6\u001b[0m \u001b[0;34m\u001b[0m\u001b[0m\n\u001b[0;32m----> 7\u001b[0;31m \u001b[0murllib\u001b[0m\u001b[0;34m.\u001b[0m\u001b[0mrequest\u001b[0m\u001b[0;34m.\u001b[0m\u001b[0murlretrieve\u001b[0m\u001b[0;34m(\u001b[0m\u001b[0mmyurl\u001b[0m\u001b[0;34m,\u001b[0m \u001b[0;34m'./downloads/family.csv'\u001b[0m\u001b[0;34m)\u001b[0m\u001b[0;34m\u001b[0m\u001b[0;34m\u001b[0m\u001b[0m\n\u001b[0m",
            "\u001b[0;32m/usr/lib/python3.10/urllib/request.py\u001b[0m in \u001b[0;36murlretrieve\u001b[0;34m(url, filename, reporthook, data)\u001b[0m\n\u001b[1;32m    249\u001b[0m         \u001b[0;31m# Handle temporary file setup.\u001b[0m\u001b[0;34m\u001b[0m\u001b[0;34m\u001b[0m\u001b[0m\n\u001b[1;32m    250\u001b[0m         \u001b[0;32mif\u001b[0m \u001b[0mfilename\u001b[0m\u001b[0;34m:\u001b[0m\u001b[0;34m\u001b[0m\u001b[0;34m\u001b[0m\u001b[0m\n\u001b[0;32m--> 251\u001b[0;31m             \u001b[0mtfp\u001b[0m \u001b[0;34m=\u001b[0m \u001b[0mopen\u001b[0m\u001b[0;34m(\u001b[0m\u001b[0mfilename\u001b[0m\u001b[0;34m,\u001b[0m \u001b[0;34m'wb'\u001b[0m\u001b[0;34m)\u001b[0m\u001b[0;34m\u001b[0m\u001b[0;34m\u001b[0m\u001b[0m\n\u001b[0m\u001b[1;32m    252\u001b[0m         \u001b[0;32melse\u001b[0m\u001b[0;34m:\u001b[0m\u001b[0;34m\u001b[0m\u001b[0;34m\u001b[0m\u001b[0m\n\u001b[1;32m    253\u001b[0m             \u001b[0mtfp\u001b[0m \u001b[0;34m=\u001b[0m \u001b[0mtempfile\u001b[0m\u001b[0;34m.\u001b[0m\u001b[0mNamedTemporaryFile\u001b[0m\u001b[0;34m(\u001b[0m\u001b[0mdelete\u001b[0m\u001b[0;34m=\u001b[0m\u001b[0;32mFalse\u001b[0m\u001b[0;34m)\u001b[0m\u001b[0;34m\u001b[0m\u001b[0;34m\u001b[0m\u001b[0m\n",
            "\u001b[0;31mFileNotFoundError\u001b[0m: [Errno 2] No such file or directory: './downloads/family.csv'"
          ]
        }
      ]
    },
    {
      "cell_type": "code",
      "source": [
        "import math\n",
        "help(math)"
      ],
      "metadata": {
        "colab": {
          "base_uri": "https://localhost:8080/"
        },
        "id": "4wERf3u7S9RC",
        "outputId": "bd25f32b-447c-48d4-ce1d-c5eaac0428b9"
      },
      "execution_count": 3,
      "outputs": [
        {
          "output_type": "stream",
          "name": "stdout",
          "text": [
            "Help on built-in module math:\n",
            "\n",
            "NAME\n",
            "    math\n",
            "\n",
            "DESCRIPTION\n",
            "    This module provides access to the mathematical functions\n",
            "    defined by the C standard.\n",
            "\n",
            "FUNCTIONS\n",
            "    acos(x, /)\n",
            "        Return the arc cosine (measured in radians) of x.\n",
            "        \n",
            "        The result is between 0 and pi.\n",
            "    \n",
            "    acosh(x, /)\n",
            "        Return the inverse hyperbolic cosine of x.\n",
            "    \n",
            "    asin(x, /)\n",
            "        Return the arc sine (measured in radians) of x.\n",
            "        \n",
            "        The result is between -pi/2 and pi/2.\n",
            "    \n",
            "    asinh(x, /)\n",
            "        Return the inverse hyperbolic sine of x.\n",
            "    \n",
            "    atan(x, /)\n",
            "        Return the arc tangent (measured in radians) of x.\n",
            "        \n",
            "        The result is between -pi/2 and pi/2.\n",
            "    \n",
            "    atan2(y, x, /)\n",
            "        Return the arc tangent (measured in radians) of y/x.\n",
            "        \n",
            "        Unlike atan(y/x), the signs of both x and y are considered.\n",
            "    \n",
            "    atanh(x, /)\n",
            "        Return the inverse hyperbolic tangent of x.\n",
            "    \n",
            "    ceil(x, /)\n",
            "        Return the ceiling of x as an Integral.\n",
            "        \n",
            "        This is the smallest integer >= x.\n",
            "    \n",
            "    comb(n, k, /)\n",
            "        Number of ways to choose k items from n items without repetition and without order.\n",
            "        \n",
            "        Evaluates to n! / (k! * (n - k)!) when k <= n and evaluates\n",
            "        to zero when k > n.\n",
            "        \n",
            "        Also called the binomial coefficient because it is equivalent\n",
            "        to the coefficient of k-th term in polynomial expansion of the\n",
            "        expression (1 + x)**n.\n",
            "        \n",
            "        Raises TypeError if either of the arguments are not integers.\n",
            "        Raises ValueError if either of the arguments are negative.\n",
            "    \n",
            "    copysign(x, y, /)\n",
            "        Return a float with the magnitude (absolute value) of x but the sign of y.\n",
            "        \n",
            "        On platforms that support signed zeros, copysign(1.0, -0.0)\n",
            "        returns -1.0.\n",
            "    \n",
            "    cos(x, /)\n",
            "        Return the cosine of x (measured in radians).\n",
            "    \n",
            "    cosh(x, /)\n",
            "        Return the hyperbolic cosine of x.\n",
            "    \n",
            "    degrees(x, /)\n",
            "        Convert angle x from radians to degrees.\n",
            "    \n",
            "    dist(p, q, /)\n",
            "        Return the Euclidean distance between two points p and q.\n",
            "        \n",
            "        The points should be specified as sequences (or iterables) of\n",
            "        coordinates.  Both inputs must have the same dimension.\n",
            "        \n",
            "        Roughly equivalent to:\n",
            "            sqrt(sum((px - qx) ** 2.0 for px, qx in zip(p, q)))\n",
            "    \n",
            "    erf(x, /)\n",
            "        Error function at x.\n",
            "    \n",
            "    erfc(x, /)\n",
            "        Complementary error function at x.\n",
            "    \n",
            "    exp(x, /)\n",
            "        Return e raised to the power of x.\n",
            "    \n",
            "    expm1(x, /)\n",
            "        Return exp(x)-1.\n",
            "        \n",
            "        This function avoids the loss of precision involved in the direct evaluation of exp(x)-1 for small x.\n",
            "    \n",
            "    fabs(x, /)\n",
            "        Return the absolute value of the float x.\n",
            "    \n",
            "    factorial(x, /)\n",
            "        Find x!.\n",
            "        \n",
            "        Raise a ValueError if x is negative or non-integral.\n",
            "    \n",
            "    floor(x, /)\n",
            "        Return the floor of x as an Integral.\n",
            "        \n",
            "        This is the largest integer <= x.\n",
            "    \n",
            "    fmod(x, y, /)\n",
            "        Return fmod(x, y), according to platform C.\n",
            "        \n",
            "        x % y may differ.\n",
            "    \n",
            "    frexp(x, /)\n",
            "        Return the mantissa and exponent of x, as pair (m, e).\n",
            "        \n",
            "        m is a float and e is an int, such that x = m * 2.**e.\n",
            "        If x is 0, m and e are both 0.  Else 0.5 <= abs(m) < 1.0.\n",
            "    \n",
            "    fsum(seq, /)\n",
            "        Return an accurate floating point sum of values in the iterable seq.\n",
            "        \n",
            "        Assumes IEEE-754 floating point arithmetic.\n",
            "    \n",
            "    gamma(x, /)\n",
            "        Gamma function at x.\n",
            "    \n",
            "    gcd(*integers)\n",
            "        Greatest Common Divisor.\n",
            "    \n",
            "    hypot(...)\n",
            "        hypot(*coordinates) -> value\n",
            "        \n",
            "        Multidimensional Euclidean distance from the origin to a point.\n",
            "        \n",
            "        Roughly equivalent to:\n",
            "            sqrt(sum(x**2 for x in coordinates))\n",
            "        \n",
            "        For a two dimensional point (x, y), gives the hypotenuse\n",
            "        using the Pythagorean theorem:  sqrt(x*x + y*y).\n",
            "        \n",
            "        For example, the hypotenuse of a 3/4/5 right triangle is:\n",
            "        \n",
            "            >>> hypot(3.0, 4.0)\n",
            "            5.0\n",
            "    \n",
            "    isclose(a, b, *, rel_tol=1e-09, abs_tol=0.0)\n",
            "        Determine whether two floating point numbers are close in value.\n",
            "        \n",
            "          rel_tol\n",
            "            maximum difference for being considered \"close\", relative to the\n",
            "            magnitude of the input values\n",
            "          abs_tol\n",
            "            maximum difference for being considered \"close\", regardless of the\n",
            "            magnitude of the input values\n",
            "        \n",
            "        Return True if a is close in value to b, and False otherwise.\n",
            "        \n",
            "        For the values to be considered close, the difference between them\n",
            "        must be smaller than at least one of the tolerances.\n",
            "        \n",
            "        -inf, inf and NaN behave similarly to the IEEE 754 Standard.  That\n",
            "        is, NaN is not close to anything, even itself.  inf and -inf are\n",
            "        only close to themselves.\n",
            "    \n",
            "    isfinite(x, /)\n",
            "        Return True if x is neither an infinity nor a NaN, and False otherwise.\n",
            "    \n",
            "    isinf(x, /)\n",
            "        Return True if x is a positive or negative infinity, and False otherwise.\n",
            "    \n",
            "    isnan(x, /)\n",
            "        Return True if x is a NaN (not a number), and False otherwise.\n",
            "    \n",
            "    isqrt(n, /)\n",
            "        Return the integer part of the square root of the input.\n",
            "    \n",
            "    lcm(*integers)\n",
            "        Least Common Multiple.\n",
            "    \n",
            "    ldexp(x, i, /)\n",
            "        Return x * (2**i).\n",
            "        \n",
            "        This is essentially the inverse of frexp().\n",
            "    \n",
            "    lgamma(x, /)\n",
            "        Natural logarithm of absolute value of Gamma function at x.\n",
            "    \n",
            "    log(...)\n",
            "        log(x, [base=math.e])\n",
            "        Return the logarithm of x to the given base.\n",
            "        \n",
            "        If the base not specified, returns the natural logarithm (base e) of x.\n",
            "    \n",
            "    log10(x, /)\n",
            "        Return the base 10 logarithm of x.\n",
            "    \n",
            "    log1p(x, /)\n",
            "        Return the natural logarithm of 1+x (base e).\n",
            "        \n",
            "        The result is computed in a way which is accurate for x near zero.\n",
            "    \n",
            "    log2(x, /)\n",
            "        Return the base 2 logarithm of x.\n",
            "    \n",
            "    modf(x, /)\n",
            "        Return the fractional and integer parts of x.\n",
            "        \n",
            "        Both results carry the sign of x and are floats.\n",
            "    \n",
            "    nextafter(x, y, /)\n",
            "        Return the next floating-point value after x towards y.\n",
            "    \n",
            "    perm(n, k=None, /)\n",
            "        Number of ways to choose k items from n items without repetition and with order.\n",
            "        \n",
            "        Evaluates to n! / (n - k)! when k <= n and evaluates\n",
            "        to zero when k > n.\n",
            "        \n",
            "        If k is not specified or is None, then k defaults to n\n",
            "        and the function returns n!.\n",
            "        \n",
            "        Raises TypeError if either of the arguments are not integers.\n",
            "        Raises ValueError if either of the arguments are negative.\n",
            "    \n",
            "    pow(x, y, /)\n",
            "        Return x**y (x to the power of y).\n",
            "    \n",
            "    prod(iterable, /, *, start=1)\n",
            "        Calculate the product of all the elements in the input iterable.\n",
            "        \n",
            "        The default start value for the product is 1.\n",
            "        \n",
            "        When the iterable is empty, return the start value.  This function is\n",
            "        intended specifically for use with numeric values and may reject\n",
            "        non-numeric types.\n",
            "    \n",
            "    radians(x, /)\n",
            "        Convert angle x from degrees to radians.\n",
            "    \n",
            "    remainder(x, y, /)\n",
            "        Difference between x and the closest integer multiple of y.\n",
            "        \n",
            "        Return x - n*y where n*y is the closest integer multiple of y.\n",
            "        In the case where x is exactly halfway between two multiples of\n",
            "        y, the nearest even value of n is used. The result is always exact.\n",
            "    \n",
            "    sin(x, /)\n",
            "        Return the sine of x (measured in radians).\n",
            "    \n",
            "    sinh(x, /)\n",
            "        Return the hyperbolic sine of x.\n",
            "    \n",
            "    sqrt(x, /)\n",
            "        Return the square root of x.\n",
            "    \n",
            "    tan(x, /)\n",
            "        Return the tangent of x (measured in radians).\n",
            "    \n",
            "    tanh(x, /)\n",
            "        Return the hyperbolic tangent of x.\n",
            "    \n",
            "    trunc(x, /)\n",
            "        Truncates the Real x to the nearest Integral toward 0.\n",
            "        \n",
            "        Uses the __trunc__ magic method.\n",
            "    \n",
            "    ulp(x, /)\n",
            "        Return the value of the least significant bit of the float x.\n",
            "\n",
            "DATA\n",
            "    e = 2.718281828459045\n",
            "    inf = inf\n",
            "    nan = nan\n",
            "    pi = 3.141592653589793\n",
            "    tau = 6.283185307179586\n",
            "\n",
            "FILE\n",
            "    (built-in)\n",
            "\n",
            "\n"
          ]
        }
      ]
    },
    {
      "cell_type": "code",
      "source": [
        "import os\n",
        "\n",
        "# 1. Current working directory\n",
        "print(os.getcwd())\n",
        "\n",
        "# 2. List files in a directory\n",
        "print(os.listdir('.'))\n",
        "\n",
        "# 3. Create a directory\n",
        "os.mkdir('example_dir')\n",
        "\n",
        "# 4. Check if a path exists\n",
        "print(os.path.exists('example_dir'))\n",
        "\n",
        "# 5. Join paths\n",
        "print(os.path.join('folder', 'file.txt'))\n"
      ],
      "metadata": {
        "colab": {
          "base_uri": "https://localhost:8080/"
        },
        "id": "2ssYo1reYpOH",
        "outputId": "3db58875-5100-43d1-a17c-eda14834fbb3"
      },
      "execution_count": 4,
      "outputs": [
        {
          "output_type": "stream",
          "name": "stdout",
          "text": [
            "/content\n",
            "['.config', 'sample_data']\n",
            "True\n",
            "folder/file.txt\n"
          ]
        }
      ]
    },
    {
      "cell_type": "code",
      "source": [
        "dir(os)\n"
      ],
      "metadata": {
        "colab": {
          "base_uri": "https://localhost:8080/"
        },
        "id": "EFl5sB5bZBPx",
        "outputId": "48b52b2d-d7d8-4ce7-e4ab-ebd96b604ddc"
      },
      "execution_count": 5,
      "outputs": [
        {
          "output_type": "execute_result",
          "data": {
            "text/plain": [
              "['CLD_CONTINUED',\n",
              " 'CLD_DUMPED',\n",
              " 'CLD_EXITED',\n",
              " 'CLD_KILLED',\n",
              " 'CLD_STOPPED',\n",
              " 'CLD_TRAPPED',\n",
              " 'DirEntry',\n",
              " 'EFD_CLOEXEC',\n",
              " 'EFD_NONBLOCK',\n",
              " 'EFD_SEMAPHORE',\n",
              " 'EX_CANTCREAT',\n",
              " 'EX_CONFIG',\n",
              " 'EX_DATAERR',\n",
              " 'EX_IOERR',\n",
              " 'EX_NOHOST',\n",
              " 'EX_NOINPUT',\n",
              " 'EX_NOPERM',\n",
              " 'EX_NOUSER',\n",
              " 'EX_OK',\n",
              " 'EX_OSERR',\n",
              " 'EX_OSFILE',\n",
              " 'EX_PROTOCOL',\n",
              " 'EX_SOFTWARE',\n",
              " 'EX_TEMPFAIL',\n",
              " 'EX_UNAVAILABLE',\n",
              " 'EX_USAGE',\n",
              " 'F_LOCK',\n",
              " 'F_OK',\n",
              " 'F_TEST',\n",
              " 'F_TLOCK',\n",
              " 'F_ULOCK',\n",
              " 'GRND_NONBLOCK',\n",
              " 'GRND_RANDOM',\n",
              " 'GenericAlias',\n",
              " 'MFD_ALLOW_SEALING',\n",
              " 'MFD_CLOEXEC',\n",
              " 'MFD_HUGETLB',\n",
              " 'MFD_HUGE_16GB',\n",
              " 'MFD_HUGE_16MB',\n",
              " 'MFD_HUGE_1GB',\n",
              " 'MFD_HUGE_1MB',\n",
              " 'MFD_HUGE_256MB',\n",
              " 'MFD_HUGE_2GB',\n",
              " 'MFD_HUGE_2MB',\n",
              " 'MFD_HUGE_32MB',\n",
              " 'MFD_HUGE_512KB',\n",
              " 'MFD_HUGE_512MB',\n",
              " 'MFD_HUGE_64KB',\n",
              " 'MFD_HUGE_8MB',\n",
              " 'MFD_HUGE_MASK',\n",
              " 'MFD_HUGE_SHIFT',\n",
              " 'Mapping',\n",
              " 'MutableMapping',\n",
              " 'NGROUPS_MAX',\n",
              " 'O_ACCMODE',\n",
              " 'O_APPEND',\n",
              " 'O_ASYNC',\n",
              " 'O_CLOEXEC',\n",
              " 'O_CREAT',\n",
              " 'O_DIRECT',\n",
              " 'O_DIRECTORY',\n",
              " 'O_DSYNC',\n",
              " 'O_EXCL',\n",
              " 'O_FSYNC',\n",
              " 'O_LARGEFILE',\n",
              " 'O_NDELAY',\n",
              " 'O_NOATIME',\n",
              " 'O_NOCTTY',\n",
              " 'O_NOFOLLOW',\n",
              " 'O_NONBLOCK',\n",
              " 'O_PATH',\n",
              " 'O_RDONLY',\n",
              " 'O_RDWR',\n",
              " 'O_RSYNC',\n",
              " 'O_SYNC',\n",
              " 'O_TMPFILE',\n",
              " 'O_TRUNC',\n",
              " 'O_WRONLY',\n",
              " 'POSIX_FADV_DONTNEED',\n",
              " 'POSIX_FADV_NOREUSE',\n",
              " 'POSIX_FADV_NORMAL',\n",
              " 'POSIX_FADV_RANDOM',\n",
              " 'POSIX_FADV_SEQUENTIAL',\n",
              " 'POSIX_FADV_WILLNEED',\n",
              " 'POSIX_SPAWN_CLOSE',\n",
              " 'POSIX_SPAWN_DUP2',\n",
              " 'POSIX_SPAWN_OPEN',\n",
              " 'PRIO_PGRP',\n",
              " 'PRIO_PROCESS',\n",
              " 'PRIO_USER',\n",
              " 'P_ALL',\n",
              " 'P_NOWAIT',\n",
              " 'P_NOWAITO',\n",
              " 'P_PGID',\n",
              " 'P_PID',\n",
              " 'P_PIDFD',\n",
              " 'P_WAIT',\n",
              " 'PathLike',\n",
              " 'RTLD_DEEPBIND',\n",
              " 'RTLD_GLOBAL',\n",
              " 'RTLD_LAZY',\n",
              " 'RTLD_LOCAL',\n",
              " 'RTLD_NODELETE',\n",
              " 'RTLD_NOLOAD',\n",
              " 'RTLD_NOW',\n",
              " 'RWF_APPEND',\n",
              " 'RWF_DSYNC',\n",
              " 'RWF_HIPRI',\n",
              " 'RWF_NOWAIT',\n",
              " 'RWF_SYNC',\n",
              " 'R_OK',\n",
              " 'SCHED_BATCH',\n",
              " 'SCHED_FIFO',\n",
              " 'SCHED_IDLE',\n",
              " 'SCHED_OTHER',\n",
              " 'SCHED_RESET_ON_FORK',\n",
              " 'SCHED_RR',\n",
              " 'SEEK_CUR',\n",
              " 'SEEK_DATA',\n",
              " 'SEEK_END',\n",
              " 'SEEK_HOLE',\n",
              " 'SEEK_SET',\n",
              " 'SPLICE_F_MORE',\n",
              " 'SPLICE_F_MOVE',\n",
              " 'SPLICE_F_NONBLOCK',\n",
              " 'ST_APPEND',\n",
              " 'ST_MANDLOCK',\n",
              " 'ST_NOATIME',\n",
              " 'ST_NODEV',\n",
              " 'ST_NODIRATIME',\n",
              " 'ST_NOEXEC',\n",
              " 'ST_NOSUID',\n",
              " 'ST_RDONLY',\n",
              " 'ST_RELATIME',\n",
              " 'ST_SYNCHRONOUS',\n",
              " 'ST_WRITE',\n",
              " 'TMP_MAX',\n",
              " 'WCONTINUED',\n",
              " 'WCOREDUMP',\n",
              " 'WEXITED',\n",
              " 'WEXITSTATUS',\n",
              " 'WIFCONTINUED',\n",
              " 'WIFEXITED',\n",
              " 'WIFSIGNALED',\n",
              " 'WIFSTOPPED',\n",
              " 'WNOHANG',\n",
              " 'WNOWAIT',\n",
              " 'WSTOPPED',\n",
              " 'WSTOPSIG',\n",
              " 'WTERMSIG',\n",
              " 'WUNTRACED',\n",
              " 'W_OK',\n",
              " 'XATTR_CREATE',\n",
              " 'XATTR_REPLACE',\n",
              " 'XATTR_SIZE_MAX',\n",
              " 'X_OK',\n",
              " '_Environ',\n",
              " '__all__',\n",
              " '__builtins__',\n",
              " '__cached__',\n",
              " '__doc__',\n",
              " '__file__',\n",
              " '__loader__',\n",
              " '__name__',\n",
              " '__package__',\n",
              " '__spec__',\n",
              " '_check_methods',\n",
              " '_execvpe',\n",
              " '_exists',\n",
              " '_exit',\n",
              " '_fspath',\n",
              " '_fwalk',\n",
              " '_get_exports_list',\n",
              " '_spawnvef',\n",
              " '_walk',\n",
              " '_wrap_close',\n",
              " 'abc',\n",
              " 'abort',\n",
              " 'access',\n",
              " 'altsep',\n",
              " 'chdir',\n",
              " 'chmod',\n",
              " 'chown',\n",
              " 'chroot',\n",
              " 'close',\n",
              " 'closerange',\n",
              " 'confstr',\n",
              " 'confstr_names',\n",
              " 'copy_file_range',\n",
              " 'cpu_count',\n",
              " 'ctermid',\n",
              " 'curdir',\n",
              " 'defpath',\n",
              " 'device_encoding',\n",
              " 'devnull',\n",
              " 'dup',\n",
              " 'dup2',\n",
              " 'environ',\n",
              " 'environb',\n",
              " 'error',\n",
              " 'eventfd',\n",
              " 'eventfd_read',\n",
              " 'eventfd_write',\n",
              " 'execl',\n",
              " 'execle',\n",
              " 'execlp',\n",
              " 'execlpe',\n",
              " 'execv',\n",
              " 'execve',\n",
              " 'execvp',\n",
              " 'execvpe',\n",
              " 'extsep',\n",
              " 'fchdir',\n",
              " 'fchmod',\n",
              " 'fchown',\n",
              " 'fdatasync',\n",
              " 'fdopen',\n",
              " 'fork',\n",
              " 'forkpty',\n",
              " 'fpathconf',\n",
              " 'fsdecode',\n",
              " 'fsencode',\n",
              " 'fspath',\n",
              " 'fstat',\n",
              " 'fstatvfs',\n",
              " 'fsync',\n",
              " 'ftruncate',\n",
              " 'fwalk',\n",
              " 'get_blocking',\n",
              " 'get_exec_path',\n",
              " 'get_inheritable',\n",
              " 'get_terminal_size',\n",
              " 'getcwd',\n",
              " 'getcwdb',\n",
              " 'getegid',\n",
              " 'getenv',\n",
              " 'getenvb',\n",
              " 'geteuid',\n",
              " 'getgid',\n",
              " 'getgrouplist',\n",
              " 'getgroups',\n",
              " 'getloadavg',\n",
              " 'getlogin',\n",
              " 'getpgid',\n",
              " 'getpgrp',\n",
              " 'getpid',\n",
              " 'getppid',\n",
              " 'getpriority',\n",
              " 'getrandom',\n",
              " 'getresgid',\n",
              " 'getresuid',\n",
              " 'getsid',\n",
              " 'getuid',\n",
              " 'getxattr',\n",
              " 'initgroups',\n",
              " 'isatty',\n",
              " 'kill',\n",
              " 'killpg',\n",
              " 'lchown',\n",
              " 'linesep',\n",
              " 'link',\n",
              " 'listdir',\n",
              " 'listxattr',\n",
              " 'lockf',\n",
              " 'lseek',\n",
              " 'lstat',\n",
              " 'major',\n",
              " 'makedev',\n",
              " 'makedirs',\n",
              " 'memfd_create',\n",
              " 'minor',\n",
              " 'mkdir',\n",
              " 'mkfifo',\n",
              " 'mknod',\n",
              " 'name',\n",
              " 'nice',\n",
              " 'open',\n",
              " 'openpty',\n",
              " 'pardir',\n",
              " 'path',\n",
              " 'pathconf',\n",
              " 'pathconf_names',\n",
              " 'pathsep',\n",
              " 'pidfd_open',\n",
              " 'pipe',\n",
              " 'pipe2',\n",
              " 'popen',\n",
              " 'posix_fadvise',\n",
              " 'posix_fallocate',\n",
              " 'posix_spawn',\n",
              " 'posix_spawnp',\n",
              " 'pread',\n",
              " 'preadv',\n",
              " 'putenv',\n",
              " 'pwrite',\n",
              " 'pwritev',\n",
              " 'read',\n",
              " 'readlink',\n",
              " 'readv',\n",
              " 'register_at_fork',\n",
              " 'remove',\n",
              " 'removedirs',\n",
              " 'removexattr',\n",
              " 'rename',\n",
              " 'renames',\n",
              " 'replace',\n",
              " 'rmdir',\n",
              " 'scandir',\n",
              " 'sched_get_priority_max',\n",
              " 'sched_get_priority_min',\n",
              " 'sched_getaffinity',\n",
              " 'sched_getparam',\n",
              " 'sched_getscheduler',\n",
              " 'sched_param',\n",
              " 'sched_rr_get_interval',\n",
              " 'sched_setaffinity',\n",
              " 'sched_setparam',\n",
              " 'sched_setscheduler',\n",
              " 'sched_yield',\n",
              " 'sendfile',\n",
              " 'sep',\n",
              " 'set_blocking',\n",
              " 'set_inheritable',\n",
              " 'setegid',\n",
              " 'seteuid',\n",
              " 'setgid',\n",
              " 'setgroups',\n",
              " 'setpgid',\n",
              " 'setpgrp',\n",
              " 'setpriority',\n",
              " 'setregid',\n",
              " 'setresgid',\n",
              " 'setresuid',\n",
              " 'setreuid',\n",
              " 'setsid',\n",
              " 'setuid',\n",
              " 'setxattr',\n",
              " 'spawnl',\n",
              " 'spawnle',\n",
              " 'spawnlp',\n",
              " 'spawnlpe',\n",
              " 'spawnv',\n",
              " 'spawnve',\n",
              " 'spawnvp',\n",
              " 'spawnvpe',\n",
              " 'splice',\n",
              " 'st',\n",
              " 'stat',\n",
              " 'stat_result',\n",
              " 'statvfs',\n",
              " 'statvfs_result',\n",
              " 'strerror',\n",
              " 'supports_bytes_environ',\n",
              " 'supports_dir_fd',\n",
              " 'supports_effective_ids',\n",
              " 'supports_fd',\n",
              " 'supports_follow_symlinks',\n",
              " 'symlink',\n",
              " 'sync',\n",
              " 'sys',\n",
              " 'sysconf',\n",
              " 'sysconf_names',\n",
              " 'system',\n",
              " 'tcgetpgrp',\n",
              " 'tcsetpgrp',\n",
              " 'terminal_size',\n",
              " 'times',\n",
              " 'times_result',\n",
              " 'truncate',\n",
              " 'ttyname',\n",
              " 'umask',\n",
              " 'uname',\n",
              " 'uname_result',\n",
              " 'unlink',\n",
              " 'unsetenv',\n",
              " 'urandom',\n",
              " 'utime',\n",
              " 'wait',\n",
              " 'wait3',\n",
              " 'wait4',\n",
              " 'waitid',\n",
              " 'waitid_result',\n",
              " 'waitpid',\n",
              " 'waitstatus_to_exitcode',\n",
              " 'walk',\n",
              " 'write',\n",
              " 'writev']"
            ]
          },
          "metadata": {},
          "execution_count": 5
        }
      ]
    }
  ]
}