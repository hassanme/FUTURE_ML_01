{
  "nbformat": 4,
  "nbformat_minor": 0,
  "metadata": {
    "colab": {
      "provenance": [],
      "gpuType": "V28",
      "authorship_tag": "ABX9TyNO8DiBa3+8T8oeJPmX6zPv",
      "include_colab_link": true
    },
    "kernelspec": {
      "name": "python3",
      "display_name": "Python 3"
    },
    "language_info": {
      "name": "python"
    },
    "accelerator": "TPU"
  },
  "cells": [
    {
      "cell_type": "markdown",
      "metadata": {
        "id": "view-in-github",
        "colab_type": "text"
      },
      "source": [
        "<a href=\"https://colab.research.google.com/github/hassanme/FUTURE_ML_01/blob/main/Looping_in_Python.ipynb\" target=\"_parent\"><img src=\"https://colab.research.google.com/assets/colab-badge.svg\" alt=\"Open In Colab\"/></a>"
      ]
    },
    {
      "cell_type": "markdown",
      "source": [
        "## Learning agenda of this notebook\n",
        "There are scenarios is programming, where we need to repeat a set of instructions a specified number of times or until a condition is met. This is called iteration. A programming structure that implements iteration is called a loop. In programming there are two types of iteration:\n",
        "1. Indefinite Iteration, implemented using a `while` loop\n",
        "    - Basic `while` loop examples\n",
        "    - Use of `break`,  `continue` and `else` in `while` loop   \n",
        "    - Nested `while` loop <br><br>\n",
        "3. Definite Iteration, implemented using a `for` loop\n",
        "    - Iterables and Iterators\n",
        "    - Basic `for` loop examples\n",
        "    - The `range()` and `enumerate()` functions\n",
        "    - Use of `break`, `continue` and `else` in `for` loop\n",
        "    - Nested `for` loop <br><br>\n",
        "4. List Comprehension <br><br>\n",
        "5. Dictionary Comprehension"
      ],
      "metadata": {
        "id": "95ell3jffbUo"
      }
    },
    {
      "cell_type": "markdown",
      "source": [
        "<img align=\"right\" width=\"400\" height=\"300\"  src=\"https://github.com/arifpucit/data-science/blob/master/Section-2-Basics-of-Python-Programming/Lec-2.10-Repetition-Structure/images/while.png?raw=1\" >\n",
        "\n",
        "## 1. The `while` Loop\n",
        "```\n",
        "initialize loop variable\n",
        "while (condition is true):\n",
        "    statement(s)\n",
        "    update loop variable\n",
        "statement(s)\n",
        "```\n",
        "- The indented block of code, often refered to as body of the loop will be executed repeatedly until the condition/expression evaluates to False.\n",
        "- The condition or controlling expression, typically involves on or more variables that are initialized prior to starting the loop and then modified somewhere in the loop body.\n",
        "- While loop is generally used, when we don't know the number of times to iterate beforehand."
      ],
      "metadata": {
        "id": "x02_3W0kfhR9"
      }
    },
    {
      "cell_type": "code",
      "execution_count": null,
      "metadata": {
        "colab": {
          "base_uri": "https://localhost:8080/"
        },
        "id": "uDETEUO9fR33",
        "outputId": "3ae2a989-2c6b-4614-cfda-25c0ae6f7cad"
      },
      "outputs": [
        {
          "output_type": "stream",
          "name": "stdout",
          "text": [
            "The \"while\" statement\n",
            "*********************\n",
            "\n",
            "The \"while\" statement is used for repeated execution as long as an\n",
            "expression is true:\n",
            "\n",
            "   while_stmt ::= \"while\" assignment_expression \":\" suite\n",
            "                  [\"else\" \":\" suite]\n",
            "\n",
            "This repeatedly tests the expression and, if it is true, executes the\n",
            "first suite; if the expression is false (which may be the first time\n",
            "it is tested) the suite of the \"else\" clause, if present, is executed\n",
            "and the loop terminates.\n",
            "\n",
            "A \"break\" statement executed in the first suite terminates the loop\n",
            "without executing the \"else\" clause’s suite.  A \"continue\" statement\n",
            "executed in the first suite skips the rest of the suite and goes back\n",
            "to testing the expression.\n",
            "\n",
            "Related help topics: break, continue, if, TRUTHVALUE\n",
            "\n"
          ]
        }
      ],
      "source": [
        "help('while')"
      ]
    },
    {
      "cell_type": "code",
      "source": [
        "dir('while')"
      ],
      "metadata": {
        "colab": {
          "base_uri": "https://localhost:8080/"
        },
        "id": "B912KnjNf84D",
        "outputId": "94d5889a-2aed-4b7a-c757-f23caf1f1aa2"
      },
      "execution_count": null,
      "outputs": [
        {
          "output_type": "execute_result",
          "data": {
            "text/plain": [
              "['__add__',\n",
              " '__class__',\n",
              " '__contains__',\n",
              " '__delattr__',\n",
              " '__dir__',\n",
              " '__doc__',\n",
              " '__eq__',\n",
              " '__format__',\n",
              " '__ge__',\n",
              " '__getattribute__',\n",
              " '__getitem__',\n",
              " '__getnewargs__',\n",
              " '__gt__',\n",
              " '__hash__',\n",
              " '__init__',\n",
              " '__init_subclass__',\n",
              " '__iter__',\n",
              " '__le__',\n",
              " '__len__',\n",
              " '__lt__',\n",
              " '__mod__',\n",
              " '__mul__',\n",
              " '__ne__',\n",
              " '__new__',\n",
              " '__reduce__',\n",
              " '__reduce_ex__',\n",
              " '__repr__',\n",
              " '__rmod__',\n",
              " '__rmul__',\n",
              " '__setattr__',\n",
              " '__sizeof__',\n",
              " '__str__',\n",
              " '__subclasshook__',\n",
              " 'capitalize',\n",
              " 'casefold',\n",
              " 'center',\n",
              " 'count',\n",
              " 'encode',\n",
              " 'endswith',\n",
              " 'expandtabs',\n",
              " 'find',\n",
              " 'format',\n",
              " 'format_map',\n",
              " 'index',\n",
              " 'isalnum',\n",
              " 'isalpha',\n",
              " 'isascii',\n",
              " 'isdecimal',\n",
              " 'isdigit',\n",
              " 'isidentifier',\n",
              " 'islower',\n",
              " 'isnumeric',\n",
              " 'isprintable',\n",
              " 'isspace',\n",
              " 'istitle',\n",
              " 'isupper',\n",
              " 'join',\n",
              " 'ljust',\n",
              " 'lower',\n",
              " 'lstrip',\n",
              " 'maketrans',\n",
              " 'partition',\n",
              " 'removeprefix',\n",
              " 'removesuffix',\n",
              " 'replace',\n",
              " 'rfind',\n",
              " 'rindex',\n",
              " 'rjust',\n",
              " 'rpartition',\n",
              " 'rsplit',\n",
              " 'rstrip',\n",
              " 'split',\n",
              " 'splitlines',\n",
              " 'startswith',\n",
              " 'strip',\n",
              " 'swapcase',\n",
              " 'title',\n",
              " 'translate',\n",
              " 'upper',\n",
              " 'zfill']"
            ]
          },
          "metadata": {},
          "execution_count": 3
        }
      ]
    },
    {
      "cell_type": "code",
      "source": [
        "help('while'.join)"
      ],
      "metadata": {
        "colab": {
          "base_uri": "https://localhost:8080/"
        },
        "id": "i11bndcngQlu",
        "outputId": "4da039f0-12e9-4130-e5f2-8fd6e6ed2fe2"
      },
      "execution_count": null,
      "outputs": [
        {
          "output_type": "stream",
          "name": "stdout",
          "text": [
            "Help on built-in function join:\n",
            "\n",
            "join(iterable, /) method of builtins.str instance\n",
            "    Concatenate any number of strings.\n",
            "    \n",
            "    The string whose method is called is inserted in between each given string.\n",
            "    The result is returned as a new string.\n",
            "    \n",
            "    Example: '.'.join(['ab', 'pq', 'rs']) -> 'ab.pq.rs'\n",
            "\n"
          ]
        }
      ]
    },
    {
      "cell_type": "code",
      "source": [
        "help('for')"
      ],
      "metadata": {
        "colab": {
          "base_uri": "https://localhost:8080/"
        },
        "id": "T9hxOvwsgWET",
        "outputId": "9a5992e1-261b-4111-d842-7190cf73d973"
      },
      "execution_count": null,
      "outputs": [
        {
          "output_type": "stream",
          "name": "stdout",
          "text": [
            "The \"for\" statement\n",
            "*******************\n",
            "\n",
            "The \"for\" statement is used to iterate over the elements of a sequence\n",
            "(such as a string, tuple or list) or other iterable object:\n",
            "\n",
            "   for_stmt ::= \"for\" target_list \"in\" expression_list \":\" suite\n",
            "                [\"else\" \":\" suite]\n",
            "\n",
            "The expression list is evaluated once; it should yield an iterable\n",
            "object.  An iterator is created for the result of the\n",
            "\"expression_list\".  The suite is then executed once for each item\n",
            "provided by the iterator, in the order returned by the iterator.  Each\n",
            "item in turn is assigned to the target list using the standard rules\n",
            "for assignments (see Assignment statements), and then the suite is\n",
            "executed.  When the items are exhausted (which is immediately when the\n",
            "sequence is empty or an iterator raises a \"StopIteration\" exception),\n",
            "the suite in the \"else\" clause, if present, is executed, and the loop\n",
            "terminates.\n",
            "\n",
            "A \"break\" statement executed in the first suite terminates the loop\n",
            "without executing the \"else\" clause’s suite.  A \"continue\" statement\n",
            "executed in the first suite skips the rest of the suite and continues\n",
            "with the next item, or with the \"else\" clause if there is no next\n",
            "item.\n",
            "\n",
            "The for-loop makes assignments to the variables in the target list.\n",
            "This overwrites all previous assignments to those variables including\n",
            "those made in the suite of the for-loop:\n",
            "\n",
            "   for i in range(10):\n",
            "       print(i)\n",
            "       i = 5             # this will not affect the for-loop\n",
            "                         # because i will be overwritten with the next\n",
            "                         # index in the range\n",
            "\n",
            "Names in the target list are not deleted when the loop is finished,\n",
            "but if the sequence is empty, they will not have been assigned to at\n",
            "all by the loop.  Hint: the built-in type \"range()\" represents\n",
            "immutable arithmetic sequences of integers. For instance, iterating\n",
            "\"range(3)\" successively yields 0, 1, and then 2.\n",
            "\n",
            "Related help topics: break, continue, while\n",
            "\n"
          ]
        }
      ]
    },
    {
      "cell_type": "code",
      "source": [
        "dir('for')"
      ],
      "metadata": {
        "colab": {
          "base_uri": "https://localhost:8080/"
        },
        "id": "_sI9wH7JggwL",
        "outputId": "f1e2f3cb-2e11-4a50-95b6-251db4c0fddd"
      },
      "execution_count": null,
      "outputs": [
        {
          "output_type": "execute_result",
          "data": {
            "text/plain": [
              "['__add__',\n",
              " '__class__',\n",
              " '__contains__',\n",
              " '__delattr__',\n",
              " '__dir__',\n",
              " '__doc__',\n",
              " '__eq__',\n",
              " '__format__',\n",
              " '__ge__',\n",
              " '__getattribute__',\n",
              " '__getitem__',\n",
              " '__getnewargs__',\n",
              " '__gt__',\n",
              " '__hash__',\n",
              " '__init__',\n",
              " '__init_subclass__',\n",
              " '__iter__',\n",
              " '__le__',\n",
              " '__len__',\n",
              " '__lt__',\n",
              " '__mod__',\n",
              " '__mul__',\n",
              " '__ne__',\n",
              " '__new__',\n",
              " '__reduce__',\n",
              " '__reduce_ex__',\n",
              " '__repr__',\n",
              " '__rmod__',\n",
              " '__rmul__',\n",
              " '__setattr__',\n",
              " '__sizeof__',\n",
              " '__str__',\n",
              " '__subclasshook__',\n",
              " 'capitalize',\n",
              " 'casefold',\n",
              " 'center',\n",
              " 'count',\n",
              " 'encode',\n",
              " 'endswith',\n",
              " 'expandtabs',\n",
              " 'find',\n",
              " 'format',\n",
              " 'format_map',\n",
              " 'index',\n",
              " 'isalnum',\n",
              " 'isalpha',\n",
              " 'isascii',\n",
              " 'isdecimal',\n",
              " 'isdigit',\n",
              " 'isidentifier',\n",
              " 'islower',\n",
              " 'isnumeric',\n",
              " 'isprintable',\n",
              " 'isspace',\n",
              " 'istitle',\n",
              " 'isupper',\n",
              " 'join',\n",
              " 'ljust',\n",
              " 'lower',\n",
              " 'lstrip',\n",
              " 'maketrans',\n",
              " 'partition',\n",
              " 'removeprefix',\n",
              " 'removesuffix',\n",
              " 'replace',\n",
              " 'rfind',\n",
              " 'rindex',\n",
              " 'rjust',\n",
              " 'rpartition',\n",
              " 'rsplit',\n",
              " 'rstrip',\n",
              " 'split',\n",
              " 'splitlines',\n",
              " 'startswith',\n",
              " 'strip',\n",
              " 'swapcase',\n",
              " 'title',\n",
              " 'translate',\n",
              " 'upper',\n",
              " 'zfill']"
            ]
          },
          "metadata": {},
          "execution_count": 7
        }
      ]
    },
    {
      "cell_type": "code",
      "source": [
        "# Example 1: Print numbers\n",
        "# initialize loop variable - check condition - update loop variable\n",
        "number = 0\n",
        "while number < 7:\n",
        "    print(number)\n",
        "    number += 1\n",
        "print(\"Bye-Bye\")"
      ],
      "metadata": {
        "colab": {
          "base_uri": "https://localhost:8080/"
        },
        "id": "GpHMJZirhz5i",
        "outputId": "d91f3e00-675c-425d-fd79-b7dc59e08e7a"
      },
      "execution_count": null,
      "outputs": [
        {
          "output_type": "stream",
          "name": "stdout",
          "text": [
            "0\n",
            "1\n",
            "2\n",
            "3\n",
            "4\n",
            "5\n",
            "6\n",
            "Bye-Bye\n"
          ]
        }
      ]
    },
    {
      "cell_type": "code",
      "source": [
        "%%time\n",
        "# Example 2: Calculate 100th factorial\n",
        "i = 1\n",
        "result = 1\n",
        "if i == 0:\n",
        "    result = 1\n",
        "else:\n",
        "    while (i <= 100):\n",
        "        result = result * i\n",
        "        i += 1\n",
        "print(result)"
      ],
      "metadata": {
        "colab": {
          "base_uri": "https://localhost:8080/"
        },
        "id": "-3YwrIuch3xf",
        "outputId": "3da1e427-82f6-43d5-89e1-0c486551a419"
      },
      "execution_count": null,
      "outputs": [
        {
          "output_type": "stream",
          "name": "stdout",
          "text": [
            "93326215443944152681699238856266700490715968264381621468592963895217599993229915608941463976156518286253697920827223758251185210916864000000000000000000000000\n",
            "CPU times: user 363 µs, sys: 1.64 ms, total: 2 ms\n",
            "Wall time: 1.91 ms\n"
          ]
        }
      ]
    },
    {
      "cell_type": "code",
      "source": [
        "n = int(input(\"Enter number: \"))\n",
        "sum = 0\n",
        "i = 1\n",
        "while (i <= n):\n",
        "    sum = sum + i\n",
        "    i = i+1   # update counter\n",
        "print(\"The sum is\", sum)"
      ],
      "metadata": {
        "colab": {
          "base_uri": "https://localhost:8080/"
        },
        "id": "w_fuAiu3iLCZ",
        "outputId": "91e28711-e225-482c-f224-23b68e6600a0"
      },
      "execution_count": null,
      "outputs": [
        {
          "output_type": "stream",
          "name": "stdout",
          "text": [
            "Enter number: 11\n",
            "The sum is 66\n"
          ]
        }
      ]
    },
    {
      "cell_type": "code",
      "source": [
        "# Example 3: Input number from user and compute the sum 1+2+3+4+....+n\n",
        "n = int(input(\"Enter number: \"))\n",
        "sum = 0\n",
        "i = 1\n",
        "while (i <= n):\n",
        "    sum = sum + i\n",
        "    i = i+1   # update counter\n",
        "print(\"The sum is\", sum)"
      ],
      "metadata": {
        "colab": {
          "base_uri": "https://localhost:8080/"
        },
        "id": "svrRz7edkq-Q",
        "outputId": "7f790c17-adad-4a30-ba08-e1781d411d95"
      },
      "execution_count": null,
      "outputs": [
        {
          "output_type": "stream",
          "name": "stdout",
          "text": [
            "Enter number: 11\n",
            "The sum is 66\n"
          ]
        }
      ]
    },
    {
      "cell_type": "code",
      "source": [
        "# # Example 4: while loop iterates over the elements until a certain condition is met\n",
        "list1 = ['Learning', 'is', 'fun', 'with', 'Arif Butt']\n",
        "ctr = 0\n",
        "while(ctr < len(list1)):\n",
        "    print(list1[ctr])\n",
        "    ctr += 1\n",
        "\n",
        "print(list1)"
      ],
      "metadata": {
        "colab": {
          "base_uri": "https://localhost:8080/"
        },
        "id": "9ERcmII3kvW-",
        "outputId": "8e813339-e39e-4ff6-8c95-23445e834813"
      },
      "execution_count": null,
      "outputs": [
        {
          "output_type": "stream",
          "name": "stdout",
          "text": [
            "Learning\n",
            "is\n",
            "fun\n",
            "with\n",
            "Arif Butt\n",
            "['Learning', 'is', 'fun', 'with', 'Arif Butt']\n"
          ]
        }
      ]
    },
    {
      "cell_type": "code",
      "source": [
        "# Example 5: Using iterables inside a while loop expression\n",
        "mylist = ['Arif', 'Hadeed','Mujahid', 'Maaz']\n",
        "print(\"mylist before the loop: \", mylist)\n",
        "\n",
        "x = 1\n",
        "while mylist:   #you read it as while there exist elements in the iterable mylist do following\n",
        "    print(\"This is iteration number: \", x)\n",
        "    x += 1\n",
        "    mylist.pop()   # removes the right most value from the iterable mylist each time it is called\n",
        "\n",
        "print(\"mylist after the loop: \",mylist)"
      ],
      "metadata": {
        "colab": {
          "base_uri": "https://localhost:8080/"
        },
        "id": "0UvECDqvlSwG",
        "outputId": "1bc1a61d-04e6-49f7-8953-0b67cb83d6ed"
      },
      "execution_count": null,
      "outputs": [
        {
          "output_type": "stream",
          "name": "stdout",
          "text": [
            "mylist before the loop:  ['Arif', 'Hadeed', 'Mujahid', 'Maaz']\n",
            "This is iteration number:  1\n",
            "This is iteration number:  2\n",
            "This is iteration number:  3\n",
            "This is iteration number:  4\n",
            "mylist after the loop:  []\n"
          ]
        }
      ]
    },
    {
      "cell_type": "code",
      "source": [
        "# Example 6: Print Fibonacci series\n",
        "n = int(input(\"Enter count of fibonacci numbers you want to print: \"))\n",
        "i = 1\n",
        "if n<1:\n",
        "    fib = []       # In case user enter <0, the list is empty\n",
        "elif n==1:\n",
        "    fib = [0]      # If user enters 1, the list has the first fibonacci number\n",
        "elif n==2:\n",
        "    fib = [0, 1]   # If user enters 2, the list has the first two fibonacci numbers\n",
        "elif n > 2:\n",
        "    fib = [0, 1]   # if n>2, then we need to enter in while loop to compute the rest of the fibonacci numbers\n",
        "    while (i < n-1):\n",
        "        fib.append(fib[i] + fib[i-1])\n",
        "        i += 1\n",
        "print(\"Required Fibonacci series: \", fib)"
      ],
      "metadata": {
        "colab": {
          "base_uri": "https://localhost:8080/"
        },
        "id": "rpEU0eY9me0X",
        "outputId": "f2e15bfc-06c9-4ba2-a4a5-9d417aad95bc"
      },
      "execution_count": null,
      "outputs": [
        {
          "output_type": "stream",
          "name": "stdout",
          "text": [
            "Enter count of fibonacci numbers you want to print: 6\n",
            "Required Fibonacci series:  [0, 1, 1, 2, 3, 5]\n"
          ]
        }
      ]
    },
    {
      "cell_type": "code",
      "source": [
        "# Example 1: A while loop nested inside another while loop\n",
        "# Note the inner while loop works on a list that is declared again and again inside the outer loop\n",
        "a = [1,2,3,4,5]\n",
        "while (a):\n",
        "    print(\"Outer: \", a.pop())\n",
        "    b = ['Arif', 'Rauf']\n",
        "    while (b):\n",
        "        print(\"\\t Inner: \", b.pop())\n",
        "\n",
        "print(\"After both the loops end\")\n",
        "print(\"a= \", a)\n",
        "print(\"b= \", b)\n"
      ],
      "metadata": {
        "colab": {
          "base_uri": "https://localhost:8080/"
        },
        "id": "cQMmDjLOrDgO",
        "outputId": "057be1a4-c891-4b45-8e46-7d6e84a4ab30"
      },
      "execution_count": null,
      "outputs": [
        {
          "output_type": "stream",
          "name": "stdout",
          "text": [
            "Outer:  5\n",
            "\t Inner:  Rauf\n",
            "\t Inner:  Arif\n",
            "Outer:  4\n",
            "\t Inner:  Rauf\n",
            "\t Inner:  Arif\n",
            "Outer:  3\n",
            "\t Inner:  Rauf\n",
            "\t Inner:  Arif\n",
            "Outer:  2\n",
            "\t Inner:  Rauf\n",
            "\t Inner:  Arif\n",
            "Outer:  1\n",
            "\t Inner:  Rauf\n",
            "\t Inner:  Arif\n",
            "After both the loops end\n",
            "a=  []\n",
            "b=  []\n"
          ]
        }
      ]
    },
    {
      "cell_type": "markdown",
      "source": [
        "## 2. Jump Statements in Python (`break` and `continue`)\n",
        "\n",
        "<img align=\"left\" width=\"300\" height=\"300\"  src=\"https://github.com/arifpucit/data-science/blob/master/Section-2-Basics-of-Python-Programming/Lec-2.10-Repetition-Structure/images/break.png?raw=1\" >\n",
        "\n",
        "<img align=\"right\" width=\"300\" height=\"300\"  src=\"https://github.com/arifpucit/data-science/blob/master/Section-2-Basics-of-Python-Programming/Lec-2.10-Repetition-Structure/images/continue.png?raw=1\" >\n",
        "\n",
        "In the above examples, we have seen that the entire body of the while loop is executed on each iteration. Python provides two keywords that terminate a loop iteration prematurely:\n",
        "- Python **`break`** statement immediately terminates a loop entirely. Program execution proceeds to the first statement after the loop body.<br><br>\n",
        "- Python **`continue`** statement immediately terminates the current loop iteration. Program execution jumps to the top of the loop, and the loop condition is re-evaluated to determine whether the loop will execute again or terminate\n",
        "    "
      ],
      "metadata": {
        "id": "4BNyvbdsr9LK"
      }
    },
    {
      "cell_type": "code",
      "source": [
        "help('break')"
      ],
      "metadata": {
        "colab": {
          "base_uri": "https://localhost:8080/"
        },
        "id": "nRmfflByr5t7",
        "outputId": "d480fcf6-03e2-453e-9b5c-d4a3b2e7325e"
      },
      "execution_count": null,
      "outputs": [
        {
          "output_type": "stream",
          "name": "stdout",
          "text": [
            "The \"break\" statement\n",
            "*********************\n",
            "\n",
            "   break_stmt ::= \"break\"\n",
            "\n",
            "\"break\" may only occur syntactically nested in a \"for\" or \"while\"\n",
            "loop, but not nested in a function or class definition within that\n",
            "loop.\n",
            "\n",
            "It terminates the nearest enclosing loop, skipping the optional \"else\"\n",
            "clause if the loop has one.\n",
            "\n",
            "If a \"for\" loop is terminated by \"break\", the loop control target\n",
            "keeps its current value.\n",
            "\n",
            "When \"break\" passes control out of a \"try\" statement with a \"finally\"\n",
            "clause, that \"finally\" clause is executed before really leaving the\n",
            "loop.\n",
            "\n",
            "Related help topics: while, for\n",
            "\n"
          ]
        }
      ]
    },
    {
      "cell_type": "code",
      "source": [
        "total = 0\n",
        "num = 1\n",
        "while num <= 100:\n",
        "    total += num\n",
        "    num += 1\n",
        "print(\"Sum:\", total)"
      ],
      "metadata": {
        "colab": {
          "base_uri": "https://localhost:8080/"
        },
        "id": "d6U-DrGssd6F",
        "outputId": "f33b6b60-59c3-4d24-fbf2-2c071432f1ad"
      },
      "execution_count": null,
      "outputs": [
        {
          "output_type": "stream",
          "name": "stdout",
          "text": [
            "Sum: 5050\n"
          ]
        }
      ]
    },
    {
      "cell_type": "code",
      "source": [
        "import time\n",
        "\n",
        "for limit in [100, 1000, 10000, 100000]:\n",
        "    start = time.time()\n",
        "    total = 0\n",
        "    num = 1\n",
        "    while num <= limit:\n",
        "        total += num\n",
        "        num += 1\n",
        "    end = time.time()\n",
        "    print(f\"Sum of 1 to {limit}: {total}, Time taken: {end - start} seconds\")"
      ],
      "metadata": {
        "colab": {
          "base_uri": "https://localhost:8080/"
        },
        "id": "Vm8EPTrhtQIC",
        "outputId": "6cda091d-1492-4eb2-cf1b-34d2dd3b2a3c"
      },
      "execution_count": null,
      "outputs": [
        {
          "output_type": "stream",
          "name": "stdout",
          "text": [
            "Sum of 1 to 100: 5050, Time taken: 2.09808349609375e-05 seconds\n",
            "Sum of 1 to 1000: 500500, Time taken: 0.00043082237243652344 seconds\n",
            "Sum of 1 to 10000: 50005000, Time taken: 0.0039196014404296875 seconds\n",
            "Sum of 1 to 100000: 5000050000, Time taken: 0.026083707809448242 seconds\n"
          ]
        }
      ]
    },
    {
      "cell_type": "code",
      "source": [
        "#Example 1: Breaking an infinite while loop on a certain condition\n",
        "n = 0\n",
        "while (True):\n",
        "    n = n + 1\n",
        "    if (n == 5):\n",
        "        break\n",
        "    print(n)\n",
        "print(\"Outside loop\")"
      ],
      "metadata": {
        "colab": {
          "base_uri": "https://localhost:8080/"
        },
        "id": "ADk-BYCctQKd",
        "outputId": "e5e90229-e928-44d2-ce66-ba91eb81dae6"
      },
      "execution_count": null,
      "outputs": [
        {
          "output_type": "stream",
          "name": "stdout",
          "text": [
            "1\n",
            "2\n",
            "3\n",
            "4\n",
            "Outside loop\n"
          ]
        }
      ]
    },
    {
      "cell_type": "code",
      "source": [
        "n = 10\n",
        "while (n > 0):\n",
        "    n = n - 1\n",
        "    if (n == 5):\n",
        "        break\n",
        "    print(n)"
      ],
      "metadata": {
        "colab": {
          "base_uri": "https://localhost:8080/"
        },
        "id": "w-3i0DuhycI1",
        "outputId": "1eb69c21-c5ee-434f-d8f0-aeab05c8efbd"
      },
      "execution_count": null,
      "outputs": [
        {
          "output_type": "stream",
          "name": "stdout",
          "text": [
            "9\n",
            "8\n",
            "7\n",
            "6\n"
          ]
        }
      ]
    },
    {
      "cell_type": "code",
      "source": [
        "help(\"continue\")"
      ],
      "metadata": {
        "colab": {
          "base_uri": "https://localhost:8080/"
        },
        "id": "eUy0SCDo0YYW",
        "outputId": "1a4b8de1-b9e1-42c0-ddf9-f68b87609e22"
      },
      "execution_count": null,
      "outputs": [
        {
          "output_type": "stream",
          "name": "stdout",
          "text": [
            "The \"continue\" statement\n",
            "************************\n",
            "\n",
            "   continue_stmt ::= \"continue\"\n",
            "\n",
            "\"continue\" may only occur syntactically nested in a \"for\" or \"while\"\n",
            "loop, but not nested in a function or class definition within that\n",
            "loop.  It continues with the next cycle of the nearest enclosing loop.\n",
            "\n",
            "When \"continue\" passes control out of a \"try\" statement with a\n",
            "\"finally\" clause, that \"finally\" clause is executed before really\n",
            "starting the next loop cycle.\n",
            "\n",
            "Related help topics: while, for\n",
            "\n"
          ]
        }
      ]
    },
    {
      "cell_type": "code",
      "source": [
        "dir('continue')"
      ],
      "metadata": {
        "colab": {
          "base_uri": "https://localhost:8080/"
        },
        "id": "BtxnNdvG0bLa",
        "outputId": "d35fc679-7131-4990-f349-cb83a662d27f"
      },
      "execution_count": null,
      "outputs": [
        {
          "output_type": "execute_result",
          "data": {
            "text/plain": [
              "['__add__',\n",
              " '__class__',\n",
              " '__contains__',\n",
              " '__delattr__',\n",
              " '__dir__',\n",
              " '__doc__',\n",
              " '__eq__',\n",
              " '__format__',\n",
              " '__ge__',\n",
              " '__getattribute__',\n",
              " '__getitem__',\n",
              " '__getnewargs__',\n",
              " '__gt__',\n",
              " '__hash__',\n",
              " '__init__',\n",
              " '__init_subclass__',\n",
              " '__iter__',\n",
              " '__le__',\n",
              " '__len__',\n",
              " '__lt__',\n",
              " '__mod__',\n",
              " '__mul__',\n",
              " '__ne__',\n",
              " '__new__',\n",
              " '__reduce__',\n",
              " '__reduce_ex__',\n",
              " '__repr__',\n",
              " '__rmod__',\n",
              " '__rmul__',\n",
              " '__setattr__',\n",
              " '__sizeof__',\n",
              " '__str__',\n",
              " '__subclasshook__',\n",
              " 'capitalize',\n",
              " 'casefold',\n",
              " 'center',\n",
              " 'count',\n",
              " 'encode',\n",
              " 'endswith',\n",
              " 'expandtabs',\n",
              " 'find',\n",
              " 'format',\n",
              " 'format_map',\n",
              " 'index',\n",
              " 'isalnum',\n",
              " 'isalpha',\n",
              " 'isascii',\n",
              " 'isdecimal',\n",
              " 'isdigit',\n",
              " 'isidentifier',\n",
              " 'islower',\n",
              " 'isnumeric',\n",
              " 'isprintable',\n",
              " 'isspace',\n",
              " 'istitle',\n",
              " 'isupper',\n",
              " 'join',\n",
              " 'ljust',\n",
              " 'lower',\n",
              " 'lstrip',\n",
              " 'maketrans',\n",
              " 'partition',\n",
              " 'removeprefix',\n",
              " 'removesuffix',\n",
              " 'replace',\n",
              " 'rfind',\n",
              " 'rindex',\n",
              " 'rjust',\n",
              " 'rpartition',\n",
              " 'rsplit',\n",
              " 'rstrip',\n",
              " 'split',\n",
              " 'splitlines',\n",
              " 'startswith',\n",
              " 'strip',\n",
              " 'swapcase',\n",
              " 'title',\n",
              " 'translate',\n",
              " 'upper',\n",
              " 'zfill']"
            ]
          },
          "metadata": {},
          "execution_count": 32
        }
      ]
    },
    {
      "cell_type": "code",
      "source": [
        "n = 10\n",
        "while n > 0:\n",
        "    n = n - 1\n",
        "    if (n == 5 or n == 7):\n",
        "        continue\n",
        "    print(n)"
      ],
      "metadata": {
        "colab": {
          "base_uri": "https://localhost:8080/"
        },
        "id": "A631_drZ0eb_",
        "outputId": "c28df89e-a522-447e-fd7a-46b6f0aa729f"
      },
      "execution_count": null,
      "outputs": [
        {
          "output_type": "stream",
          "name": "stdout",
          "text": [
            "9\n",
            "8\n",
            "6\n",
            "4\n",
            "3\n",
            "2\n",
            "1\n",
            "0\n"
          ]
        }
      ]
    },
    {
      "cell_type": "code",
      "source": [
        "#Example 2: Use of continue\n",
        "n = 10\n",
        "while n > 0:\n",
        "    n = n - 1\n",
        "    if (n % 2 == 0):\n",
        "        continue\n",
        "    print(n)"
      ],
      "metadata": {
        "colab": {
          "base_uri": "https://localhost:8080/"
        },
        "id": "LMMyj2j90-nF",
        "outputId": "80f83824-a5e8-4663-ab7a-54b1600cdbe3"
      },
      "execution_count": null,
      "outputs": [
        {
          "output_type": "stream",
          "name": "stdout",
          "text": [
            "9\n",
            "7\n",
            "5\n",
            "3\n",
            "1\n"
          ]
        }
      ]
    },
    {
      "cell_type": "markdown",
      "source": [
        "### c. The `while` loop with `else` statement:\n",
        "- On normal termination of loop, i.e., when the loop condition becomes False, the `else` clause will execute.\n",
        "- However, if the loop is terminated prematurely by either a break or return statement, the `else` clause won’t execute at all."
      ],
      "metadata": {
        "id": "Q8VJ3A832BQu"
      }
    },
    {
      "cell_type": "code",
      "source": [
        "# Example: The `else` block will execute only when the loop condition becomes false\n",
        "n = 5\n",
        "while n > 0:\n",
        "    n = n - 1\n",
        "    print(n)\n",
        "else:\n",
        "    print(\"Loop is finished\")\n",
        "print(\"outside loop\")"
      ],
      "metadata": {
        "colab": {
          "base_uri": "https://localhost:8080/"
        },
        "id": "6U4Jdt_G1KDD",
        "outputId": "9c43a78d-ee61-4603-adae-2fcce93e358c"
      },
      "execution_count": null,
      "outputs": [
        {
          "output_type": "stream",
          "name": "stdout",
          "text": [
            "4\n",
            "3\n",
            "2\n",
            "1\n",
            "0\n",
            "Loop is finished\n",
            "outside loop\n"
          ]
        }
      ]
    },
    {
      "cell_type": "code",
      "source": [
        "# Example: The `else` block will NOT execute because the loop breaks w/o the loop condition being false\n",
        "n = 5\n",
        "while n > 0:\n",
        "    n = n - 1\n",
        "    if (n==2):\n",
        "        break\n",
        "    print(n)\n",
        "else:\n",
        "    print(\"Loop is finished\")\n",
        "print(\"outside loop\")"
      ],
      "metadata": {
        "colab": {
          "base_uri": "https://localhost:8080/"
        },
        "id": "asnUnI4U1qOG",
        "outputId": "06ca48ca-8b03-4820-833a-eba09caa4930"
      },
      "execution_count": null,
      "outputs": [
        {
          "output_type": "stream",
          "name": "stdout",
          "text": [
            "4\n",
            "3\n",
            "outside loop\n"
          ]
        }
      ]
    },
    {
      "cell_type": "markdown",
      "source": [
        "<img align=\"right\" width=\"300\" height=\"300\"  src=\"https://github.com/arifpucit/data-science/blob/master/Section-2-Basics-of-Python-Programming/Lec-2.10-Repetition-Structure/images/for.png?raw=1\" >\n",
        "\n",
        "## 3. The `for` Loop\n",
        "- We use `for` loop when we want to run a block of code for known set of items in an iterable.\n",
        "- In the context of most data science work, Python `for` loops are used to loop through an iterable object (like a list, tuple, set, dictionary) and perform the same action for each entry.\n",
        "- For example, a for loop would allow us to iterate through a list, performing the same action on each item in the list.\n",
        "```\n",
        "for variable in <iterable>:\n",
        "    <statement(s)>\n",
        "```\n",
        "- Before we see a basic example of a Python `for` loop, let us first understand the concept of **Iterables** and **Iterators**"
      ],
      "metadata": {
        "id": "vGSFILT32OPl"
      }
    },
    {
      "cell_type": "markdown",
      "source": [
        "### a. Iterables and Iterators\n",
        "- An `Iterable` in Python is an object that is capable of returning its members one at a time, and therefore, can be used in an iteration. Lists, Tuples, Sets and Dictionaries are iterables.\n",
        "- An `Iterator` in Python is an object that is used to iterate over iterable objects\n",
        "    - To initialize an iterator we pass an iterable object to Python built-in function `iter()`\n",
        "    - The `iter()` function returns an iterator for that iterable object.\n",
        "    - Later we use the Python built-in `next()` function to iterate over the elements of that iterable\n",
        "- Let us understand this using some example codes:"
      ],
      "metadata": {
        "id": "ZhSb83W82xDC"
      }
    },
    {
      "cell_type": "code",
      "source": [
        "help('iter')"
      ],
      "metadata": {
        "colab": {
          "base_uri": "https://localhost:8080/"
        },
        "id": "L-XQyGJX16qC",
        "outputId": "24132f1f-a514-4474-e986-41f9774ef9fc"
      },
      "execution_count": null,
      "outputs": [
        {
          "output_type": "stream",
          "name": "stdout",
          "text": [
            "Help on built-in function iter in module builtins:\n",
            "\n",
            "iter(...)\n",
            "    iter(iterable) -> iterator\n",
            "    iter(callable, sentinel) -> iterator\n",
            "    \n",
            "    Get an iterator from an object.  In the first form, the argument must\n",
            "    supply its own iterator, or be a sequence.\n",
            "    In the second form, the callable is called until it returns the sentinel.\n",
            "\n"
          ]
        }
      ]
    },
    {
      "cell_type": "code",
      "source": [
        "# Creating list iterator from a list iterable using the iter() method\n",
        "mylist = ['banana', 'mango', 'grapes']\n",
        "iterator_mylist = iter(mylist)\n",
        "iterator_mylist"
      ],
      "metadata": {
        "colab": {
          "base_uri": "https://localhost:8080/"
        },
        "id": "P3rFLAi_3fgG",
        "outputId": "a32cd37a-cafa-4ff0-9590-5ea58046d2f3"
      },
      "execution_count": null,
      "outputs": [
        {
          "output_type": "execute_result",
          "data": {
            "text/plain": [
              "<list_iterator at 0x7d411c25a4a0>"
            ]
          },
          "metadata": {},
          "execution_count": 1
        }
      ]
    },
    {
      "cell_type": "code",
      "source": [
        "# Creating tuple iterator from a tuple iterable using the iter() method\n",
        "mytuple = ('banana', 'mango', 'grapes')\n",
        "iterator_mytuple = iter(mytuple)\n",
        "iterator_mytuple"
      ],
      "metadata": {
        "colab": {
          "base_uri": "https://localhost:8080/"
        },
        "id": "tNk3KW0K357d",
        "outputId": "82efe62b-638d-45a1-df97-1c55721067db"
      },
      "execution_count": null,
      "outputs": [
        {
          "output_type": "execute_result",
          "data": {
            "text/plain": [
              "<tuple_iterator at 0x7d411c259810>"
            ]
          },
          "metadata": {},
          "execution_count": 2
        }
      ]
    },
    {
      "cell_type": "code",
      "source": [
        "# Creating set iterator from a set iterable using the iter() method\n",
        "myset = set(['banana', 'mango', 'grapes'])\n",
        "iterator_myset = iter(myset)\n",
        "iterator_myset"
      ],
      "metadata": {
        "colab": {
          "base_uri": "https://localhost:8080/"
        },
        "id": "lBS3__3I4Dee",
        "outputId": "6275859a-bf62-42bc-e905-ba3c7f5cfe95"
      },
      "execution_count": null,
      "outputs": [
        {
          "output_type": "execute_result",
          "data": {
            "text/plain": [
              "<set_iterator at 0x7d411c0d3d00>"
            ]
          },
          "metadata": {},
          "execution_count": 3
        }
      ]
    },
    {
      "cell_type": "code",
      "source": [
        "# Creating dictionary key-iterator from a dictionary iterable using the iter() method\n",
        "mydict = {1:'banana', 2:'mango', 3:'grapes'}\n",
        "iterator_dictkeys = iter(mydict)\n",
        "iterator_dictkeys"
      ],
      "metadata": {
        "colab": {
          "base_uri": "https://localhost:8080/"
        },
        "id": "U67Ux26S4F23",
        "outputId": "40394ccd-5e03-4817-f510-fc34bdbf5598"
      },
      "execution_count": null,
      "outputs": [
        {
          "output_type": "execute_result",
          "data": {
            "text/plain": [
              "<dict_keyiterator at 0x7d411c261530>"
            ]
          },
          "metadata": {},
          "execution_count": 4
        }
      ]
    },
    {
      "cell_type": "code",
      "source": [
        "# Creating dictionary key-iterator from a dictionary iterable using the iter() method\n",
        "mydict = {1:'banana', 2:'mango', 3:'grapes'}\n",
        "iterator_dictkeys = iter(mydict.keys())\n",
        "iterator_dictkeys"
      ],
      "metadata": {
        "colab": {
          "base_uri": "https://localhost:8080/"
        },
        "id": "vJ-fc7Bx4Huu",
        "outputId": "6b3975be-901a-4771-e6ad-6ec66405545d"
      },
      "execution_count": null,
      "outputs": [
        {
          "output_type": "execute_result",
          "data": {
            "text/plain": [
              "<dict_keyiterator at 0x7d411c260ea0>"
            ]
          },
          "metadata": {},
          "execution_count": 5
        }
      ]
    },
    {
      "cell_type": "code",
      "source": [
        "# Creating dictionary value-iterator from a dictionary iterable using the iter() method\n",
        "mydict = {1:'banana', 2:'mango', 3:'grapes'}\n",
        "iterator_dictvals = iter(mydict.values())\n",
        "iterator_dictvals"
      ],
      "metadata": {
        "colab": {
          "base_uri": "https://localhost:8080/"
        },
        "id": "fQbFIOue4QiN",
        "outputId": "e533b728-ed8d-4af7-8a02-1a2dbb259a72"
      },
      "execution_count": null,
      "outputs": [
        {
          "output_type": "execute_result",
          "data": {
            "text/plain": [
              "<dict_valueiterator at 0x7d411c260c20>"
            ]
          },
          "metadata": {},
          "execution_count": 6
        }
      ]
    },
    {
      "cell_type": "code",
      "source": [
        "# Creating dictionary item-iterator from a dictionary iterable using the iter() method\n",
        "mydict = {1:'banana', 2:'mango', 3:'grapes'}\n",
        "iterator_dictitems = iter(mydict.items())\n",
        "iterator_dictitems"
      ],
      "metadata": {
        "colab": {
          "base_uri": "https://localhost:8080/"
        },
        "id": "hhE_y5Ie4Sud",
        "outputId": "3ec07034-aa6f-47ab-ec07-27f94cef3499"
      },
      "execution_count": null,
      "outputs": [
        {
          "output_type": "execute_result",
          "data": {
            "text/plain": [
              "<dict_itemiterator at 0x7d411c09dfd0>"
            ]
          },
          "metadata": {},
          "execution_count": 7
        }
      ]
    },
    {
      "cell_type": "markdown",
      "source": [
        "### b. Basic For Loop Examples"
      ],
      "metadata": {
        "id": "m19QrTCA4nek"
      }
    },
    {
      "cell_type": "code",
      "source": [
        "# Example 1\n",
        "mylist = ['Arif', 'Hadeed', 'Muhahid']\n",
        "\n",
        "for i in mylist:\n",
        "    print(i)\n",
        "print(\"Elements of mylist exhausted and next() returned StopIteration Error, which is handled by for loop\")"
      ],
      "metadata": {
        "colab": {
          "base_uri": "https://localhost:8080/"
        },
        "id": "pDmy_yYE4Urx",
        "outputId": "0e48951a-a406-4139-d78c-8b23091f4391"
      },
      "execution_count": null,
      "outputs": [
        {
          "output_type": "stream",
          "name": "stdout",
          "text": [
            "Arif\n",
            "Hadeed\n",
            "Muhahid\n",
            "Elements of mylist exhausted and next() returned StopIteration Error, which is handled by for loop\n"
          ]
        }
      ]
    },
    {
      "cell_type": "markdown",
      "source": [
        "- Let us see behind the curtain (How the above for loop works):\n",
        "    - Calls `iter()` to obtain an iterator for mylist\n",
        "    - Calls `next()` repeatedly to obtain items from the iterator object\n",
        "    - Terminate the for loop when `next()` raises a StopIteration exception"
      ],
      "metadata": {
        "id": "btMWpPVS4yIs"
      }
    },
    {
      "cell_type": "code",
      "source": [
        "for i in range(5):\n",
        "    print(i)\n"
      ],
      "metadata": {
        "colab": {
          "base_uri": "https://localhost:8080/"
        },
        "id": "EI-AgBog4siH",
        "outputId": "442db664-94db-42c0-fcdf-16cfb637bddf"
      },
      "execution_count": null,
      "outputs": [
        {
          "output_type": "stream",
          "name": "stdout",
          "text": [
            "0\n",
            "1\n",
            "2\n",
            "3\n",
            "4\n"
          ]
        }
      ]
    },
    {
      "cell_type": "code",
      "source": [
        "# Example 2: Loop through the letters in a string\n",
        "for i in (\"Be Happy\"):\n",
        "    print(i)"
      ],
      "metadata": {
        "colab": {
          "base_uri": "https://localhost:8080/"
        },
        "id": "84rUdu5v5h3l",
        "outputId": "f791e20c-b3e2-4a27-f28e-708a7a07e4d5"
      },
      "execution_count": null,
      "outputs": [
        {
          "output_type": "stream",
          "name": "stdout",
          "text": [
            "B\n",
            "e\n",
            " \n",
            "H\n",
            "a\n",
            "p\n",
            "p\n",
            "y\n"
          ]
        }
      ]
    },
    {
      "cell_type": "code",
      "source": [
        "for char in \"Python\":\n",
        "    print(char)\n"
      ],
      "metadata": {
        "colab": {
          "base_uri": "https://localhost:8080/"
        },
        "id": "WI_KU7Sc5lsh",
        "outputId": "c5919166-3bc7-43bf-d03d-9251980a8ef1"
      },
      "execution_count": null,
      "outputs": [
        {
          "output_type": "stream",
          "name": "stdout",
          "text": [
            "P\n",
            "y\n",
            "t\n",
            "h\n",
            "o\n",
            "n\n"
          ]
        }
      ]
    },
    {
      "cell_type": "code",
      "source": [
        "for i in \"python\":\n",
        "  print(i)"
      ],
      "metadata": {
        "colab": {
          "base_uri": "https://localhost:8080/"
        },
        "id": "vch4QrLP50dh",
        "outputId": "aa6a2bd5-5484-4947-b5a9-b2de323d6ee3"
      },
      "execution_count": null,
      "outputs": [
        {
          "output_type": "stream",
          "name": "stdout",
          "text": [
            "p\n",
            "y\n",
            "t\n",
            "h\n",
            "o\n",
            "n\n"
          ]
        }
      ]
    },
    {
      "cell_type": "code",
      "source": [
        "list = [1,2,3,4,5]\n",
        "for i in list:\n",
        "  print(i)"
      ],
      "metadata": {
        "colab": {
          "base_uri": "https://localhost:8080/"
        },
        "id": "aFqRahH154ja",
        "outputId": "3115fb8f-cfa4-4db2-faae-b5ab23d1dae6"
      },
      "execution_count": null,
      "outputs": [
        {
          "output_type": "stream",
          "name": "stdout",
          "text": [
            "1\n",
            "2\n",
            "3\n",
            "4\n",
            "5\n"
          ]
        }
      ]
    },
    {
      "cell_type": "code",
      "source": [
        "tuple = (1,2,3,4,5)\n",
        "for i in tuple:\n",
        "  print(i)"
      ],
      "metadata": {
        "colab": {
          "base_uri": "https://localhost:8080/"
        },
        "id": "NUhM-Ef96Dcs",
        "outputId": "a3bcdf71-bdd3-4e2f-9a60-6b7727f532d4"
      },
      "execution_count": null,
      "outputs": [
        {
          "output_type": "stream",
          "name": "stdout",
          "text": [
            "1\n",
            "2\n",
            "3\n",
            "4\n",
            "5\n"
          ]
        }
      ]
    },
    {
      "cell_type": "code",
      "source": [
        "my_dict = {'a': 1, 'b': 2}\n",
        "for key, value in my_dict.items():\n",
        "    print(key, value)\n"
      ],
      "metadata": {
        "colab": {
          "base_uri": "https://localhost:8080/"
        },
        "id": "H2EYrzQU7JP1",
        "outputId": "c273942a-ea48-4187-ce5b-4ea0fc7f89f4"
      },
      "execution_count": null,
      "outputs": [
        {
          "output_type": "stream",
          "name": "stdout",
          "text": [
            "a 1\n",
            "b 2\n"
          ]
        }
      ]
    },
    {
      "cell_type": "code",
      "source": [
        "# Example 3: Iterate a tuple using for loop\n",
        "friends = ('arif', 'rauf', 'hadeed', 'zalaid')\n",
        "\n",
        "for friend in friends:\n",
        "    print(friend)"
      ],
      "metadata": {
        "colab": {
          "base_uri": "https://localhost:8080/"
        },
        "id": "jiVfYGqe6IrY",
        "outputId": "0eab4656-dc4f-4497-935b-b6671c7312da"
      },
      "execution_count": null,
      "outputs": [
        {
          "output_type": "stream",
          "name": "stdout",
          "text": [
            "arif\n",
            "rauf\n",
            "hadeed\n",
            "zalaid\n"
          ]
        }
      ]
    },
    {
      "cell_type": "code",
      "source": [
        "# Example 4: Iterate a string using for loop and count the count of a specific character\n",
        "word = \"Welcome to Learning with Mohsin Khan.\"\n",
        "count = 0\n",
        "for character in word:\n",
        "    if character == 'i':\n",
        "        count = count+1\n",
        "print(count)"
      ],
      "metadata": {
        "colab": {
          "base_uri": "https://localhost:8080/"
        },
        "id": "IdvnFWUQ6SQE",
        "outputId": "18571f54-466b-4d9d-b95e-13c12acdc2dc"
      },
      "execution_count": null,
      "outputs": [
        {
          "output_type": "stream",
          "name": "stdout",
          "text": [
            "3\n"
          ]
        }
      ]
    },
    {
      "cell_type": "code",
      "source": [
        "word = \"Welcome hassan\"\n",
        "count = 0\n",
        "for i in word:\n",
        "  if i == 'm':\n",
        "    count = count+1\n",
        "print(count)"
      ],
      "metadata": {
        "colab": {
          "base_uri": "https://localhost:8080/"
        },
        "id": "_Np-ybVP6l4K",
        "outputId": "21568345-e724-4c3c-87fc-ebe7f4d69064"
      },
      "execution_count": null,
      "outputs": [
        {
          "output_type": "stream",
          "name": "stdout",
          "text": [
            "1\n"
          ]
        }
      ]
    },
    {
      "cell_type": "code",
      "source": [
        "# Example 5:  Iterating through a dictionary keys\n",
        "d1 = {\n",
        "    'Name': 'Kakamanna',\n",
        "    'Gender': 'Male',\n",
        "    'Age': 23,\n",
        "    'Height': 6.1,\n",
        "    'Occupation': 'Student'\n",
        "}\n",
        "print(\"Iterating through dictionary keys:\")\n",
        "for i in d1:\n",
        "    print(i)\n",
        "\n",
        "print(\"Another way of iterating through dictionary keys:\")\n",
        "for i in d1.keys():\n",
        "    print(i)\n",
        "\n",
        "print(\"Another way to iterating keys with its values also: \")\n",
        "for i in d1.items():\n",
        "    print(i)\n",
        "for i in d1.values():\n",
        "    print(i)\n",
        "for keys, values in d1.items():\n",
        "  print(keys, values)"
      ],
      "metadata": {
        "colab": {
          "base_uri": "https://localhost:8080/"
        },
        "id": "MsfMvJSk7DlI",
        "outputId": "79c4aeed-a336-4d38-9c1c-c73db773375b"
      },
      "execution_count": null,
      "outputs": [
        {
          "output_type": "stream",
          "name": "stdout",
          "text": [
            "Iterating through dictionary keys:\n",
            "Name\n",
            "Gender\n",
            "Age\n",
            "Height\n",
            "Occupation\n",
            "Another way of iterating through dictionary keys:\n",
            "Name\n",
            "Gender\n",
            "Age\n",
            "Height\n",
            "Occupation\n",
            "Another way to iterating keys with its values also: \n",
            "('Name', 'Kakamanna')\n",
            "('Gender', 'Male')\n",
            "('Age', 23)\n",
            "('Height', 6.1)\n",
            "('Occupation', 'Student')\n",
            "Kakamanna\n",
            "Male\n",
            "23\n",
            "6.1\n",
            "Student\n",
            "Name Kakamanna\n",
            "Gender Male\n",
            "Age 23\n",
            "Height 6.1\n",
            "Occupation Student\n"
          ]
        }
      ]
    },
    {
      "cell_type": "code",
      "source": [
        "for i in range(1, 6):\n",
        "    print(i)\n"
      ],
      "metadata": {
        "colab": {
          "base_uri": "https://localhost:8080/"
        },
        "id": "LHUVsDe98bd0",
        "outputId": "5b86428e-f1d4-4638-f05c-4db85f8ee482"
      },
      "execution_count": null,
      "outputs": [
        {
          "output_type": "stream",
          "name": "stdout",
          "text": [
            "1\n",
            "2\n",
            "3\n",
            "4\n",
            "5\n"
          ]
        }
      ]
    },
    {
      "cell_type": "code",
      "source": [
        "d1 = {\n",
        "    'Name': 'Kakamanna',\n",
        "    'Gender': 'Male',\n",
        "    'Age': 23,\n",
        "    'Height': 6.1,\n",
        "    'Occupation': 'Student'\n",
        "}\n",
        "print(\"\\nIterating through a dictionary key:value pairs:\")\n",
        "for k,v in d1.items():\n",
        "    print(k,v)"
      ],
      "metadata": {
        "colab": {
          "base_uri": "https://localhost:8080/"
        },
        "id": "qbw_zrwq8iPF",
        "outputId": "7dbf3d0b-afab-414a-e0e8-402170d63119"
      },
      "execution_count": null,
      "outputs": [
        {
          "output_type": "stream",
          "name": "stdout",
          "text": [
            "\n",
            "Iterating through a dictionary key:value pairs:\n",
            "Name Kakamanna\n",
            "Gender Male\n",
            "Age 23\n",
            "Height 6.1\n",
            "Occupation Student\n"
          ]
        }
      ]
    },
    {
      "cell_type": "markdown",
      "source": [
        "#### The `pass` statement in a `for` loop\n",
        "- The `pass` statement is generally used as a placeholder i.e. when the user does not know what code to write.\n",
        "- So user can simply write `pass` statement, where empty code is not allowed, like in loops, function definitions, class definitions, or in if statements."
      ],
      "metadata": {
        "id": "HuN1M1z08zs-"
      }
    },
    {
      "cell_type": "code",
      "source": [
        "help('pass')"
      ],
      "metadata": {
        "colab": {
          "base_uri": "https://localhost:8080/"
        },
        "id": "MV3dYVDl8wf_",
        "outputId": "966eabb7-a563-4777-c9c2-49975b4dcff4"
      },
      "execution_count": null,
      "outputs": [
        {
          "output_type": "stream",
          "name": "stdout",
          "text": [
            "The \"pass\" statement\n",
            "********************\n",
            "\n",
            "   pass_stmt ::= \"pass\"\n",
            "\n",
            "\"pass\" is a null operation — when it is executed, nothing happens. It\n",
            "is useful as a placeholder when a statement is required syntactically,\n",
            "but no code needs to be executed, for example:\n",
            "\n",
            "   def f(arg): pass    # a function that does nothing (yet)\n",
            "\n",
            "   class C: pass       # a class with no methods (yet)\n",
            "\n"
          ]
        }
      ]
    },
    {
      "cell_type": "code",
      "source": [
        "# Print all elements of list ignoring string \"arif\"\n",
        "list1 =['rauf', 'arif', 'hadeed', 'mujahid']\n",
        "\n",
        "for i in list1:\n",
        "    if(i =='arif'):\n",
        "        pass    # do nothing\n",
        "    else:\n",
        "        print(i)"
      ],
      "metadata": {
        "colab": {
          "base_uri": "https://localhost:8080/"
        },
        "id": "4nEWRnIK85ad",
        "outputId": "5b602593-e4cd-462c-a858-5595cd8c0e9d"
      },
      "execution_count": null,
      "outputs": [
        {
          "output_type": "stream",
          "name": "stdout",
          "text": [
            "rauf\n",
            "hadeed\n",
            "mujahid\n"
          ]
        }
      ]
    },
    {
      "cell_type": "code",
      "source": [
        "# Print the string ignoring spaces\n",
        "str1 = \"This is great stuff\"\n",
        "for i in str1:\n",
        "    if(i ==' '):\n",
        "        pass\n",
        "    else:\n",
        "        print(i, end=\"\")"
      ],
      "metadata": {
        "colab": {
          "base_uri": "https://localhost:8080/"
        },
        "id": "DlfKhYBi9hBS",
        "outputId": "32510154-9bf8-4666-86a3-fcaaffd7ee12"
      },
      "execution_count": null,
      "outputs": [
        {
          "output_type": "stream",
          "name": "stdout",
          "text": [
            "Thisisgreatstuff"
          ]
        }
      ]
    },
    {
      "cell_type": "markdown",
      "source": [
        "### c. Using `range()` Function in `for` Loops\n",
        "- The `range()` method is used to create a range object, containing sequence of numbers that can be iterated over using a `for` loop.\n",
        "- It can be used in 3 ways:\n",
        "* `range(n)` - Creates a sequence of numbers from `0` to `n-1`\n",
        "* `range(a, b)` - Creates a sequence of numbers from `a` to `b-1`\n",
        "* `range(a, b, step)` - Creates a sequence of numbers from `a` to `b-1` with increment/decrement of `step`"
      ],
      "metadata": {
        "id": "_bne5vhH950y"
      }
    },
    {
      "cell_type": "code",
      "source": [
        "help(range)"
      ],
      "metadata": {
        "colab": {
          "base_uri": "https://localhost:8080/"
        },
        "id": "KfW1dAkT9iJa",
        "outputId": "ec615dde-6d34-4efc-9196-3ea32a82be76"
      },
      "execution_count": null,
      "outputs": [
        {
          "output_type": "stream",
          "name": "stdout",
          "text": [
            "Help on class range in module builtins:\n",
            "\n",
            "class range(object)\n",
            " |  range(stop) -> range object\n",
            " |  range(start, stop[, step]) -> range object\n",
            " |  \n",
            " |  Return an object that produces a sequence of integers from start (inclusive)\n",
            " |  to stop (exclusive) by step.  range(i, j) produces i, i+1, i+2, ..., j-1.\n",
            " |  start defaults to 0, and stop is omitted!  range(4) produces 0, 1, 2, 3.\n",
            " |  These are exactly the valid indices for a list of 4 elements.\n",
            " |  When step is given, it specifies the increment (or decrement).\n",
            " |  \n",
            " |  Methods defined here:\n",
            " |  \n",
            " |  __bool__(self, /)\n",
            " |      True if self else False\n",
            " |  \n",
            " |  __contains__(self, key, /)\n",
            " |      Return key in self.\n",
            " |  \n",
            " |  __eq__(self, value, /)\n",
            " |      Return self==value.\n",
            " |  \n",
            " |  __ge__(self, value, /)\n",
            " |      Return self>=value.\n",
            " |  \n",
            " |  __getattribute__(self, name, /)\n",
            " |      Return getattr(self, name).\n",
            " |  \n",
            " |  __getitem__(self, key, /)\n",
            " |      Return self[key].\n",
            " |  \n",
            " |  __gt__(self, value, /)\n",
            " |      Return self>value.\n",
            " |  \n",
            " |  __hash__(self, /)\n",
            " |      Return hash(self).\n",
            " |  \n",
            " |  __iter__(self, /)\n",
            " |      Implement iter(self).\n",
            " |  \n",
            " |  __le__(self, value, /)\n",
            " |      Return self<=value.\n",
            " |  \n",
            " |  __len__(self, /)\n",
            " |      Return len(self).\n",
            " |  \n",
            " |  __lt__(self, value, /)\n",
            " |      Return self<value.\n",
            " |  \n",
            " |  __ne__(self, value, /)\n",
            " |      Return self!=value.\n",
            " |  \n",
            " |  __reduce__(...)\n",
            " |      Helper for pickle.\n",
            " |  \n",
            " |  __repr__(self, /)\n",
            " |      Return repr(self).\n",
            " |  \n",
            " |  __reversed__(...)\n",
            " |      Return a reverse iterator.\n",
            " |  \n",
            " |  count(...)\n",
            " |      rangeobject.count(value) -> integer -- return number of occurrences of value\n",
            " |  \n",
            " |  index(...)\n",
            " |      rangeobject.index(value) -> integer -- return index of value.\n",
            " |      Raise ValueError if the value is not present.\n",
            " |  \n",
            " |  ----------------------------------------------------------------------\n",
            " |  Static methods defined here:\n",
            " |  \n",
            " |  __new__(*args, **kwargs) from builtins.type\n",
            " |      Create and return a new object.  See help(type) for accurate signature.\n",
            " |  \n",
            " |  ----------------------------------------------------------------------\n",
            " |  Data descriptors defined here:\n",
            " |  \n",
            " |  start\n",
            " |  \n",
            " |  step\n",
            " |  \n",
            " |  stop\n",
            "\n"
          ]
        }
      ]
    },
    {
      "cell_type": "code",
      "source": [
        "type(range)"
      ],
      "metadata": {
        "colab": {
          "base_uri": "https://localhost:8080/"
        },
        "id": "g_EjNLQs9-0Z",
        "outputId": "44979354-59a9-4386-eda8-e4ac23f093f9"
      },
      "execution_count": null,
      "outputs": [
        {
          "output_type": "execute_result",
          "data": {
            "text/plain": [
              "type"
            ]
          },
          "metadata": {},
          "execution_count": 33
        }
      ]
    },
    {
      "cell_type": "code",
      "source": [
        "n=range(90)\n",
        "print(type(n))"
      ],
      "metadata": {
        "colab": {
          "base_uri": "https://localhost:8080/"
        },
        "id": "UB1uxyeU-HfO",
        "outputId": "57aa6038-3e4c-4568-d80b-a77648a06a82"
      },
      "execution_count": null,
      "outputs": [
        {
          "output_type": "stream",
          "name": "stdout",
          "text": [
            "<class 'range'>\n"
          ]
        }
      ]
    },
    {
      "cell_type": "code",
      "source": [
        "# Restore the original functionality of the 'list' function.\n",
        "# You might need to restart your kernel or reassign 'list' to its original function.\n",
        "# Since restarting the kernel isn't an option here, we'll reassign 'list' by importing the 'builtins' module.\n",
        "import builtins\n",
        "list = builtins.list\n",
        "\n",
        "# Now your code should work correctly:\n",
        "print(range(10))    # returns an iterator object containing integer values\n",
        "\n",
        "print(list(range(10)))\n",
        "\n",
        "print(list(range(-5, 2, 1)))\n",
        "\n",
        "print(list(range(20, 2, -3)))"
      ],
      "metadata": {
        "colab": {
          "base_uri": "https://localhost:8080/"
        },
        "id": "b0WKBsyV-Okn",
        "outputId": "8a4860ab-e45d-4b2c-e7ce-cb588ff0ef6d"
      },
      "execution_count": null,
      "outputs": [
        {
          "output_type": "stream",
          "name": "stdout",
          "text": [
            "range(0, 10)\n",
            "[0, 1, 2, 3, 4, 5, 6, 7, 8, 9]\n",
            "[-5, -4, -3, -2, -1, 0, 1]\n",
            "[20, 17, 14, 11, 8, 5]\n"
          ]
        }
      ]
    },
    {
      "cell_type": "code",
      "source": [
        "a = range(5)\n",
        "for i in a:\n",
        "    print(i)"
      ],
      "metadata": {
        "colab": {
          "base_uri": "https://localhost:8080/"
        },
        "id": "Ef9pkQTh-ucI",
        "outputId": "dfcbf643-852a-4ac9-e95f-231176364cf9"
      },
      "execution_count": null,
      "outputs": [
        {
          "output_type": "stream",
          "name": "stdout",
          "text": [
            "0\n",
            "1\n",
            "2\n",
            "3\n",
            "4\n"
          ]
        }
      ]
    },
    {
      "cell_type": "code",
      "source": [
        "#Example 2:\n",
        "#a = range(3, 10)\n",
        "for i in range(3, 10):\n",
        "    print(i)"
      ],
      "metadata": {
        "colab": {
          "base_uri": "https://localhost:8080/"
        },
        "id": "kQ9k4zzD_SDN",
        "outputId": "f8c0ce26-04ab-4140-d939-908772cf0485"
      },
      "execution_count": null,
      "outputs": [
        {
          "output_type": "stream",
          "name": "stdout",
          "text": [
            "3\n",
            "4\n",
            "5\n",
            "6\n",
            "7\n",
            "8\n",
            "9\n"
          ]
        }
      ]
    },
    {
      "cell_type": "code",
      "source": [
        "for index, value in enumerate(['a', 'b', 'c']):\n",
        "    print(index, value) # it returns the index value of items over a sequence\n"
      ],
      "metadata": {
        "colab": {
          "base_uri": "https://localhost:8080/"
        },
        "id": "3iXq93ZV_3kx",
        "outputId": "c50fa6e8-0b24-40db-f1cf-f103e0abba8f"
      },
      "execution_count": null,
      "outputs": [
        {
          "output_type": "stream",
          "name": "stdout",
          "text": [
            "0 a\n",
            "1 b\n",
            "2 c\n"
          ]
        }
      ]
    },
    {
      "cell_type": "code",
      "source": [
        "#Example 3:\n",
        "a = range(3, 15, 4)\n",
        "for i in a:\n",
        "    print(i)"
      ],
      "metadata": {
        "colab": {
          "base_uri": "https://localhost:8080/"
        },
        "id": "83V-3DEiAPiV",
        "outputId": "081eb0de-3a97-42c6-a840-1b402ba2989b"
      },
      "execution_count": null,
      "outputs": [
        {
          "output_type": "stream",
          "name": "stdout",
          "text": [
            "3\n",
            "7\n",
            "11\n"
          ]
        }
      ]
    },
    {
      "cell_type": "code",
      "source": [
        "# Example 4: Used to iterate over Lists, when you need to track the index of elements while iterating.\n",
        "friends = ['Rauf','Arif', 'Maaz', 'Hadeed', 'Muhahid', 'Mohid']\n",
        "\n",
        "for i in range(len(friends)):  # Remember the len() function returns 6 in this scenario\n",
        "    print('The value at position {} is {}.'.format(i, friends[i]))"
      ],
      "metadata": {
        "colab": {
          "base_uri": "https://localhost:8080/"
        },
        "id": "kOCY7h8EAZvU",
        "outputId": "65632495-1689-4d4e-b996-3cf5a3f9672c"
      },
      "execution_count": null,
      "outputs": [
        {
          "output_type": "stream",
          "name": "stdout",
          "text": [
            "The value at position 0 is Rauf.\n",
            "The value at position 1 is Arif.\n",
            "The value at position 2 is Maaz.\n",
            "The value at position 3 is Hadeed.\n",
            "The value at position 4 is Muhahid.\n",
            "The value at position 5 is Mohid.\n"
          ]
        }
      ]
    },
    {
      "cell_type": "code",
      "source": [
        "for i in range(3):\n",
        "    for j in range(3):\n",
        "        print(i, j)\n"
      ],
      "metadata": {
        "colab": {
          "base_uri": "https://localhost:8080/"
        },
        "id": "S11KPvvrA0Af",
        "outputId": "d677bcdd-56c6-4412-bccc-396c5ed53bb7"
      },
      "execution_count": null,
      "outputs": [
        {
          "output_type": "stream",
          "name": "stdout",
          "text": [
            "0 0\n",
            "0 1\n",
            "0 2\n",
            "1 0\n",
            "1 1\n",
            "1 2\n",
            "2 0\n",
            "2 1\n",
            "2 2\n"
          ]
        }
      ]
    },
    {
      "cell_type": "code",
      "source": [
        "for i in range(3):\n",
        "  print(j)"
      ],
      "metadata": {
        "colab": {
          "base_uri": "https://localhost:8080/"
        },
        "id": "xccwS4ScBMkV",
        "outputId": "34abe8b7-c624-4e39-86c1-71dd39435d34"
      },
      "execution_count": null,
      "outputs": [
        {
          "output_type": "stream",
          "name": "stdout",
          "text": [
            "2\n",
            "2\n",
            "2\n"
          ]
        }
      ]
    },
    {
      "cell_type": "code",
      "source": [
        "import timeit\n",
        "\n",
        "nums = list(range(100000))\n",
        "\n",
        "# Using map\n",
        "map_time = timeit.timeit(lambda: list(map(lambda x: x * 2, nums)), number=100)\n",
        "\n",
        "# Using list comprehension\n",
        "list_time = timeit.timeit(lambda: [x * 2 for x in nums], number=100)\n",
        "\n",
        "print(f\"Map Time: {map_time}, List Comprehension Time: {list_time}\")\n"
      ],
      "metadata": {
        "colab": {
          "base_uri": "https://localhost:8080/"
        },
        "id": "i3OwJn63BdUJ",
        "outputId": "faa0e4c2-c8e7-4b06-8f81-65e7dac354b7"
      },
      "execution_count": null,
      "outputs": [
        {
          "output_type": "stream",
          "name": "stdout",
          "text": [
            "Map Time: 1.0422892149999825, List Comprehension Time: 0.6081504440007848\n"
          ]
        }
      ]
    },
    {
      "cell_type": "markdown",
      "source": [
        "### d. Using  `enumerate()` Function in `for` Loops\n",
        "- The `enumerate()` method is passed an iterable object and returns an enumerate object containing tuples, each tuple having two values:\n",
        "```\n",
        "(index, data_at_that_index_in_the_iterable)\n",
        "```\n",
        "- It is is useful for obtaining an indexed list:\n",
        "```\n",
        "       (0, seq[0]), (1, seq[1]), (2, seq[2]), ...\n",
        "```"
      ],
      "metadata": {
        "id": "mcuG1Im7B_LA"
      }
    },
    {
      "cell_type": "code",
      "source": [
        "mylist = ['arif', 'hadeed', 'mujahid']\n",
        "print(list(enumerate(mylist)))"
      ],
      "metadata": {
        "colab": {
          "base_uri": "https://localhost:8080/"
        },
        "id": "e0s0DoAYB34p",
        "outputId": "5c6d9ff6-334f-45d2-a967-859aef9dbfb5"
      },
      "execution_count": null,
      "outputs": [
        {
          "output_type": "stream",
          "name": "stdout",
          "text": [
            "[(0, 'arif'), (1, 'hadeed'), (2, 'mujahid')]\n"
          ]
        }
      ]
    },
    {
      "cell_type": "code",
      "source": [
        "mylist = ['arif', 'hadeed', 'mujahid']\n",
        "print(dict(enumerate(mylist)))"
      ],
      "metadata": {
        "colab": {
          "base_uri": "https://localhost:8080/"
        },
        "id": "GTxCTmT7CIDr",
        "outputId": "6d48ec48-8519-46d5-c820-9a89324a7fd3"
      },
      "execution_count": null,
      "outputs": [
        {
          "output_type": "stream",
          "name": "stdout",
          "text": [
            "{0: 'arif', 1: 'hadeed', 2: 'mujahid'}\n"
          ]
        }
      ]
    },
    {
      "cell_type": "code",
      "source": [
        "friends = ['Rauf', 'Arif', 'Maaz', 'Hadeed', 'Muhahid', 'Mohid']\n",
        "\n",
        "for i, name in enumerate(friends):\n",
        "    print('The value at position {} is {}.'.format(i, friends[i]))"
      ],
      "metadata": {
        "colab": {
          "base_uri": "https://localhost:8080/"
        },
        "id": "bMkZx7UcCKIU",
        "outputId": "63fffe7d-47b2-4af7-82e2-01497326e466"
      },
      "execution_count": null,
      "outputs": [
        {
          "output_type": "stream",
          "name": "stdout",
          "text": [
            "The value at position 0 is Rauf.\n",
            "The value at position 1 is Arif.\n",
            "The value at position 2 is Maaz.\n",
            "The value at position 3 is Hadeed.\n",
            "The value at position 4 is Muhahid.\n",
            "The value at position 5 is Mohid.\n"
          ]
        }
      ]
    },
    {
      "cell_type": "code",
      "source": [
        "# Example 4: Used to iterate over Lists, when you need to track the index of elements while iterating.\n",
        "friends = ['Rauf','Arif', 'Maaz', 'Hadeed', 'Muhahid', 'Mohid']\n",
        "\n",
        "for i in range(len(friends)):  # Remember the len() function returns 6 in this scenario\n",
        "    print('The value at position {} is {}.'.format(i, friends[i]))"
      ],
      "metadata": {
        "colab": {
          "base_uri": "https://localhost:8080/"
        },
        "id": "Va2TneuHCS-f",
        "outputId": "fbf705d5-00e6-4160-ef6c-8faf476937c8"
      },
      "execution_count": null,
      "outputs": [
        {
          "output_type": "stream",
          "name": "stdout",
          "text": [
            "The value at position 0 is Rauf.\n",
            "The value at position 1 is Arif.\n",
            "The value at position 2 is Maaz.\n",
            "The value at position 3 is Hadeed.\n",
            "The value at position 4 is Muhahid.\n",
            "The value at position 5 is Mohid.\n"
          ]
        }
      ]
    },
    {
      "cell_type": "markdown",
      "source": [
        "### d. Use of `break` and `continue` statement inside a `for` loop\n",
        "- Python **break** statement immediately terminates a loop entirely. Program execution proceeds to the first statement after the loop body.\n",
        "- Python **continue** statement immediately terminates the current loop iteration. Program execution jumps to the top of the loop, and the loop condition is re-evaluated to determine whether the loop will execute again or terminate"
      ],
      "metadata": {
        "id": "Ab8PUFT3CvD4"
      }
    },
    {
      "cell_type": "code",
      "source": [
        "# Example 1: Break the loop when it reaches the element \"cherry\"\n",
        "fruits = [\"apple\", \"banana\", \"cherry\", \"guava\"]\n",
        "for x in fruits:\n",
        "  if x == \"cherry\":\n",
        "    break\n",
        "  print(x)"
      ],
      "metadata": {
        "colab": {
          "base_uri": "https://localhost:8080/"
        },
        "id": "r6VObiEhCrW9",
        "outputId": "245c83af-265a-45c6-bfec-716f1141d60d"
      },
      "execution_count": null,
      "outputs": [
        {
          "output_type": "stream",
          "name": "stdout",
          "text": [
            "apple\n",
            "banana\n"
          ]
        }
      ]
    },
    {
      "cell_type": "code",
      "source": [
        "# Example 1: Break the loop when it reaches the element \"cherry\"\n",
        "fruits = [\"apple\", \"banana\", \"cherry\", \"guava\"]\n",
        "for x in fruits:\n",
        "  if x == \"cherry\":\n",
        "    break\n",
        "  print(x)"
      ],
      "metadata": {
        "colab": {
          "base_uri": "https://localhost:8080/"
        },
        "id": "ETnEpoNiC0iI",
        "outputId": "04e779bd-0ba8-4977-c2cf-97af9ff3e3e0"
      },
      "execution_count": null,
      "outputs": [
        {
          "output_type": "stream",
          "name": "stdout",
          "text": [
            "apple\n",
            "banana\n"
          ]
        }
      ]
    },
    {
      "cell_type": "code",
      "source": [
        "# Example 2: Do not print banana from the list\n",
        "fruits = [\"apple\", \"banana\", \"cherry\", \"guava\"]\n",
        "for x in fruits:\n",
        "  if x == \"banana\":\n",
        "    continue\n",
        "  print(x)"
      ],
      "metadata": {
        "colab": {
          "base_uri": "https://localhost:8080/"
        },
        "id": "Yq9_TZQPDuTk",
        "outputId": "eeba7138-b0ed-403d-9e15-b041bbf8490f"
      },
      "execution_count": null,
      "outputs": [
        {
          "output_type": "stream",
          "name": "stdout",
          "text": [
            "apple\n",
            "cherry\n",
            "guava\n"
          ]
        }
      ]
    },
    {
      "cell_type": "code",
      "source": [
        "# Example 3: Print odd numbers from 1 to 11\n",
        "for i in range(1,12):\n",
        "    if i%2 == 0:\n",
        "        continue\n",
        "    print(i)"
      ],
      "metadata": {
        "colab": {
          "base_uri": "https://localhost:8080/"
        },
        "id": "gmxM3H4-DvLU",
        "outputId": "7209bd51-86d9-4bd7-e1c4-f697ff5fdada"
      },
      "execution_count": null,
      "outputs": [
        {
          "output_type": "stream",
          "name": "stdout",
          "text": [
            "1\n",
            "3\n",
            "5\n",
            "7\n",
            "9\n",
            "11\n"
          ]
        }
      ]
    },
    {
      "cell_type": "code",
      "source": [
        "for i in range(1,12,2):\n",
        "\n",
        "  print(i)"
      ],
      "metadata": {
        "colab": {
          "base_uri": "https://localhost:8080/"
        },
        "id": "zmaHgX_TDvSz",
        "outputId": "55ee4b21-c424-46a8-808a-75a646f5bbc9"
      },
      "execution_count": null,
      "outputs": [
        {
          "output_type": "stream",
          "name": "stdout",
          "text": [
            "1\n",
            "3\n",
            "5\n",
            "7\n",
            "9\n",
            "11\n"
          ]
        }
      ]
    },
    {
      "cell_type": "code",
      "source": [
        "# Example 4: A for loop with else and break\n",
        "mydict = {\n",
        "          'arif':90,\n",
        "          'rauf':95,\n",
        "          'maaz':81,\n",
        "          'hadeed':77,\n",
        "          'mujahid':86,\n",
        "          'mohid':100\n",
        "        }\n",
        "\n",
        "student_name = input('enter name: ')\n",
        "for name in mydict.keys():\n",
        "    if name == student_name:\n",
        "        print(mydict[name])\n",
        "        break\n",
        "else:\n",
        "    print('No entry with that name found.')\n",
        "print(\"Outside loop\")\n"
      ],
      "metadata": {
        "colab": {
          "base_uri": "https://localhost:8080/"
        },
        "id": "MEwfYmSMENar",
        "outputId": "fce3dc0a-7c1e-40c3-f4d5-1a52f2688cce"
      },
      "execution_count": null,
      "outputs": [
        {
          "output_type": "stream",
          "name": "stdout",
          "text": [
            "enter name: hassan\n",
            "No entry with that name found.\n",
            "Outside loop\n"
          ]
        }
      ]
    },
    {
      "cell_type": "code",
      "source": [
        "# Example: A for loop nested inside another for loop\n",
        "# Note the inner for loop works on a list that is declared again and again inside the outer loop\n",
        "list1 = [1,2,3,4]\n",
        "for numb in list1:\n",
        "    print(\"Outer: \", numb)\n",
        "    list2 = ['Arif', 'Rauf']\n",
        "    for name in list2:\n",
        "        print(\"\\t Inner: \", name)\n",
        "\n",
        "print(\"Outside loops\")"
      ],
      "metadata": {
        "colab": {
          "base_uri": "https://localhost:8080/"
        },
        "id": "5PR-zrYWEnxD",
        "outputId": "9abc0ee7-9258-4b74-cd9d-7fd909afa1fc"
      },
      "execution_count": null,
      "outputs": [
        {
          "output_type": "stream",
          "name": "stdout",
          "text": [
            "Outer:  1\n",
            "\t Inner:  Arif\n",
            "\t Inner:  Rauf\n",
            "Outer:  2\n",
            "\t Inner:  Arif\n",
            "\t Inner:  Rauf\n",
            "Outer:  3\n",
            "\t Inner:  Arif\n",
            "\t Inner:  Rauf\n",
            "Outer:  4\n",
            "\t Inner:  Arif\n",
            "\t Inner:  Rauf\n",
            "Outside loops\n"
          ]
        }
      ]
    },
    {
      "cell_type": "code",
      "source": [
        "days = ['Monday', 'Tuesday', 'Wednesday']\n",
        "fruits = ['apple', 'banana', 'guava']\n",
        "\n",
        "for day in days:\n",
        "    for fruit in fruits:\n",
        "        print(day, fruit)"
      ],
      "metadata": {
        "colab": {
          "base_uri": "https://localhost:8080/"
        },
        "id": "h8RHzL0dFFb7",
        "outputId": "74e10da8-5ff3-4513-b22f-3c546569a7ed"
      },
      "execution_count": null,
      "outputs": [
        {
          "output_type": "stream",
          "name": "stdout",
          "text": [
            "Monday apple\n",
            "Monday banana\n",
            "Monday guava\n",
            "Tuesday apple\n",
            "Tuesday banana\n",
            "Tuesday guava\n",
            "Wednesday apple\n",
            "Wednesday banana\n",
            "Wednesday guava\n"
          ]
        }
      ]
    },
    {
      "cell_type": "markdown",
      "source": [
        "## 4. List Comprehension\n",
        "- In Python comprehension is a concise way to create a new sequence based on the values of an existing sequence (which can be a list, dictionary, set or a generator)\n",
        "- Let us understand List comprehension step by step with examples:"
      ],
      "metadata": {
        "id": "0pZqUwnBFf0Y"
      }
    },
    {
      "cell_type": "code",
      "source": [
        "oldlist = [5, 3, 6, 2]\n",
        "newlist = []\n",
        "\n",
        "for i in oldlist:\n",
        "    newlist.append(i*i)\n",
        "\n",
        "newlist"
      ],
      "metadata": {
        "colab": {
          "base_uri": "https://localhost:8080/"
        },
        "id": "h7qheNV9FHLV",
        "outputId": "62ebc6ef-e7f6-48b8-cbcc-4c8012ccb282"
      },
      "execution_count": null,
      "outputs": [
        {
          "output_type": "execute_result",
          "data": {
            "text/plain": [
              "[25, 9, 36, 4]"
            ]
          },
          "metadata": {},
          "execution_count": 72
        }
      ]
    },
    {
      "cell_type": "markdown",
      "source": [
        "**You can perform above task in single line using List Comprehension**\n",
        "\n",
        "```newlist = [expression for item in iterable]```\n",
        "\n",
        "Where,\n",
        "- `expression` is the member itself, a call to a method, or any other valid expression that returns a value.\n",
        "- `item` is the object or value in the list or iterable.\n",
        "- `iterable` is a list, set, sequence, generator, or any other object that can return its elements one at a time.\n"
      ],
      "metadata": {
        "id": "CJccofMBFzlz"
      }
    },
    {
      "cell_type": "code",
      "source": [
        "oldlist = [5, 3, 6, 2]\n",
        "\n",
        "newlist = [i*i for i in oldlist]\n",
        "\n",
        "newlist"
      ],
      "metadata": {
        "colab": {
          "base_uri": "https://localhost:8080/"
        },
        "id": "Um4_FbTMF08w",
        "outputId": "54473ce9-9e7a-4bfe-dfb4-463e254c258e"
      },
      "execution_count": null,
      "outputs": [
        {
          "output_type": "execute_result",
          "data": {
            "text/plain": [
              "[25, 9, 36, 4]"
            ]
          },
          "metadata": {},
          "execution_count": 73
        }
      ]
    },
    {
      "cell_type": "markdown",
      "source": [
        "**Example 2:** Given a list, create a new list that should contain the even numbers in the given list using List Comprehension\n",
        "\n",
        "```newlist = [expression for item in iterable if (condition == True)]```\n",
        "\n",
        "A list comprehension in Python can have four elements:\n",
        "- `expression` is the member itself, a call to a method, or any other valid expression that returns a value.\n",
        "- `item` is the object or value in the list or iterable.\n",
        "- `iterable` is a list, set, sequence, generator, or any other object that can return its elements one at a time.\n",
        "- `if (condition==True)` The item will be placed in the newlist only if the condition evaluates to True"
      ],
      "metadata": {
        "id": "_OLdDH-2GOnO"
      }
    },
    {
      "cell_type": "code",
      "source": [
        "list1 = [1, 9, 12, 88, 65, 7, 20, 55, 47, 32]\n",
        "newlist = []\n",
        "\n",
        "for i in list1:\n",
        "    if (i%2 == 0):\n",
        "        newlist.append(i)\n",
        "newlist\n"
      ],
      "metadata": {
        "colab": {
          "base_uri": "https://localhost:8080/"
        },
        "id": "9lk28f77GPvY",
        "outputId": "2f7fedc8-b0c2-4c26-a679-2b7abe76d81d"
      },
      "execution_count": null,
      "outputs": [
        {
          "output_type": "execute_result",
          "data": {
            "text/plain": [
              "[12, 88, 20, 32]"
            ]
          },
          "metadata": {},
          "execution_count": 74
        }
      ]
    },
    {
      "cell_type": "code",
      "source": [
        "list1 = [1, 9, 12, 88, 65, 7, 20, 55, 47, 32]\n",
        "\n",
        "newlist = [i for i in list1 if (i % 2 == 0)]\n",
        "\n",
        "newlist"
      ],
      "metadata": {
        "id": "yBrs2hhrGSOg",
        "colab": {
          "base_uri": "https://localhost:8080/"
        },
        "outputId": "87e2e8ea-1d07-447b-a386-574a08476c1f"
      },
      "execution_count": 75,
      "outputs": [
        {
          "output_type": "execute_result",
          "data": {
            "text/plain": [
              "[12, 88, 20, 32]"
            ]
          },
          "metadata": {},
          "execution_count": 75
        }
      ]
    },
    {
      "cell_type": "markdown",
      "source": [
        "**Example 3:** Suppose we want to create a `newlist` from an existing list of `fruits` such that the new list should contain only those fruits having alphabet **`a`** in their name\n",
        "```newlist = [expression for item in iterable if (condition == True)]```\n",
        "\n",
        "A list comprehension in Python can have four elements:\n",
        "- `expression` is the member itself, a call to a method, or any other valid expression that returns a value.\n",
        "- `item` is the object or value in the list or iterable.\n",
        "- `iterable` is a list, set, sequence, generator, or any other object that can return its elements one at a time.\n",
        "- `if (condition)` The item will be placed in the newlist only if the condition evaluates to true"
      ],
      "metadata": {
        "id": "iAR4G-rLJagg"
      }
    },
    {
      "cell_type": "code",
      "source": [
        "fruits = [\"apple\", \"banana\", \"cherry\", \"kiwi\", \"mango\"]\n",
        "newlist = []\n",
        "\n",
        "for fruit in fruits:\n",
        "  if \"a\" in fruit:\n",
        "    newlist.append(fruit)\n",
        "\n",
        "print(newlist)"
      ],
      "metadata": {
        "colab": {
          "base_uri": "https://localhost:8080/"
        },
        "id": "MNXaOlPgJV8i",
        "outputId": "58b7035d-e113-472a-d08f-df82ba67ae27"
      },
      "execution_count": 76,
      "outputs": [
        {
          "output_type": "stream",
          "name": "stdout",
          "text": [
            "['apple', 'banana', 'mango']\n"
          ]
        }
      ]
    },
    {
      "cell_type": "code",
      "source": [
        "fruits = [\"apple\", \"banana\", \"cherry\", \"kiwi\", \"mango\"]\n",
        "\n",
        "newlist = [fruit for fruit in fruits if (\"a\" in fruit)]\n",
        "\n",
        "print(newlist)\n"
      ],
      "metadata": {
        "colab": {
          "base_uri": "https://localhost:8080/"
        },
        "id": "DyM8FEJ9JeZb",
        "outputId": "09b1f641-ceb9-45a5-e237-c9b0917b9596"
      },
      "execution_count": 77,
      "outputs": [
        {
          "output_type": "stream",
          "name": "stdout",
          "text": [
            "['apple', 'banana', 'mango']\n"
          ]
        }
      ]
    },
    {
      "cell_type": "markdown",
      "source": [
        "## 4. Dictionary Comprehension\n",
        "- Dictionary comprehension is a concise way to create a new dictionary based on the values of an existing list or dictionary.\n",
        "\n",
        "- Let us understand Dictionary comprehension step by step with examples:\n",
        "```\n",
        "newdict = {key:value for var in iterable if (condition == True)}\n",
        "```\n",
        "- Note for list comprehension we use `[  ]`, while for dictionary comprehension we use `{  }`"
      ],
      "metadata": {
        "id": "10gnWO7BKA3f"
      }
    },
    {
      "cell_type": "markdown",
      "source": [
        "**Example 1:** Suppose we have a list containing some random numbers. We want to create a dictionary having keys of that list and values as cubes of the list values"
      ],
      "metadata": {
        "id": "EnXGIxIIKUm5"
      }
    },
    {
      "cell_type": "code",
      "source": [
        "list1 = [1, 2, 3, 4, 5]\n",
        "\n",
        "dict1 = {key: key**3 for key in list1}\n",
        "\n",
        "print (dict1)"
      ],
      "metadata": {
        "colab": {
          "base_uri": "https://localhost:8080/"
        },
        "id": "dh4siZ7LJ3Vw",
        "outputId": "87316d65-8db4-4011-b464-ec0ba1bd8b89"
      },
      "execution_count": 78,
      "outputs": [
        {
          "output_type": "stream",
          "name": "stdout",
          "text": [
            "{1: 1, 2: 8, 3: 27, 4: 64, 5: 125}\n"
          ]
        }
      ]
    },
    {
      "cell_type": "markdown",
      "source": [
        "**Example 2:** Suppose we have a list containing numbers from 1 to 10. We want to create a dictionary having dictionary keys as the values of that list and dictionary values as cubes of the values in the list. However, the dictionary should contain only those key:value pairs, where the dictionary values are divisible by 4"
      ],
      "metadata": {
        "id": "li2mMh-mKRFK"
      }
    },
    {
      "cell_type": "code",
      "source": [
        "list1 = range(11)\n",
        "\n",
        "dict1 = {key: key**3 for key in list1 if key**3 % 4 == 0}\n",
        "\n",
        "print(dict1)"
      ],
      "metadata": {
        "colab": {
          "base_uri": "https://localhost:8080/"
        },
        "id": "hxiLXo29KJ0J",
        "outputId": "166228c6-be68-44a9-db9f-07156618b676"
      },
      "execution_count": 79,
      "outputs": [
        {
          "output_type": "stream",
          "name": "stdout",
          "text": [
            "{0: 0, 2: 8, 4: 64, 6: 216, 8: 512, 10: 1000}\n"
          ]
        }
      ]
    },
    {
      "cell_type": "code",
      "source": [],
      "metadata": {
        "id": "xUx0H3rSKcYB"
      },
      "execution_count": null,
      "outputs": []
    },
    {
      "cell_type": "markdown",
      "source": [
        "**Example 4:** Suppose we have a dictionary\n",
        "```\n",
        "dict1 = {'alpha': 47, 'bravo': 84, 'charlie': 79, 'delta': 92}\n",
        "```\n",
        "\n",
        "Use Dictionary comprehension to create a new dictionary containing even values only"
      ],
      "metadata": {
        "id": "qrRTmNsOKfXx"
      }
    },
    {
      "cell_type": "markdown",
      "source": [],
      "metadata": {
        "id": "4dEZQwWhKfK2"
      }
    },
    {
      "cell_type": "code",
      "source": [
        "\n",
        "dict1 = {'alpha': 47, 'bravo': 84, 'charlie': 79, 'delta': 92}\n",
        "\n",
        "dict2 = {key: value for (key, value) in dict1.items() if value % 2 == 0}\n",
        "print(dict2)"
      ],
      "metadata": {
        "colab": {
          "base_uri": "https://localhost:8080/"
        },
        "id": "CTBYE-bpKcfH",
        "outputId": "61061234-94dd-4fbf-e770-f297ff49ef30"
      },
      "execution_count": 80,
      "outputs": [
        {
          "output_type": "stream",
          "name": "stdout",
          "text": [
            "{'bravo': 84, 'delta': 92}\n"
          ]
        }
      ]
    },
    {
      "cell_type": "markdown",
      "source": [
        "## Check your Concepts\n",
        "\n",
        "Try answering the following questions to test your understanding of the topics covered in this notebook:\n",
        "\n",
        "1. What is iteration or looping in programming languages? Why is it useful?\n",
        "2. What are the two ways for performing iteration in Python?\n",
        "3. What is the purpose of the `while` statement in Python?\n",
        "4. What is the syntax of the `white` statement in Python? Give an example.\n",
        "5. Write a program to compute the sum of the numbers 1 to 100 using a while loop.\n",
        "6. Repeat the above program for numbers up to 1000, 10000, and 100000. How long does it take each loop to complete?\n",
        "7. What is an infinite loop?\n",
        "8. What causes a program to enter an infinite loop?\n",
        "9. How do you interrupt an infinite loop within Jupyter?\n",
        "10. What is the purpose of the `break` statement in Python?\n",
        "11. Give an example of using a `break` statement within a while loop.\n",
        "12. What is the purpose of the `continue` statement in Python?\n",
        "13. Give an example of using the `continue` statement within a while loop.\n",
        "14. What is logging? How is it useful?\n",
        "15. What is the purpose of the `for` statement in Python?\n",
        "16. What is the syntax of `for` loops? Give an example.\n",
        "17. How are for loops and while loops different?\n",
        "18. How do you loop over a string? Give an example.\n",
        "19. How do you loop over a list? Give an example.\n",
        "20. How do you loop over a tuple? Give an example.\n",
        "21. How do you loop over a dictionary? Give an example.\n",
        "22. What is the purpose of the `range` statement? Give an example.\n",
        "23. What is the purpose of the `enumerate` statement? Give an example.\n",
        "24. How are the `break`, `continue`, and `pass` statements used in for loops? Give examples.\n",
        "25. Can loops be nested within other loops? How is nesting useful?\n",
        "26. Give an example of a for loop nested within another for loop.\n",
        "27. Give an example of a while loop nested within another while loop.\n",
        "28. Give an example of a for loop nested within a while loop.\n",
        "29. Give an example of a while loop nested within a for loop.\n",
        "30. Give a detailed comparison between map() and list comprehension, which is better in which scenario. Use timeit to time different codes\n"
      ],
      "metadata": {
        "id": "ucLnrR5VLAHe"
      }
    }
  ]
}